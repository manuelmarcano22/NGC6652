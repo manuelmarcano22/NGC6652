{
 "cells": [
  {
   "cell_type": "code",
   "execution_count": 25,
   "metadata": {},
   "outputs": [],
   "source": [
    "from astropy.io import fits\n",
    "import glob, os\n",
    "\n",
    "\n",
    "\n",
    "files = glob.glob('*fits')\n",
    "\n",
    "obj = []\n",
    "for f in files:\n",
    "    hd = fits.getheader(f)\n",
    "    try:\n",
    "        if hd['ESO DPR TYPE']=='OBJECT':\n",
    "            obj.append(f)\n",
    "    except:\n",
    "        pass\n",
    "\n",
    "\n",
    "sof = open('ifuscience.sof', 'w')\n",
    "\n",
    "for i in obj:\n",
    "    sof.write('./'+str(i)+'\\tIFU_SCIENCE\\n')\n",
    "\n",
    "\n",
    "sof.write('master_bias.fits\\tMASTER_BIAS\\n')\n",
    "sof.write('ifu_ids.fits\\tIFU_IDS\\n')\n",
    "sof.write('ifu_trace.fits\\tIFU_TRACE\\n')\n",
    "sof.write('ifu_tansmission.fits\\tIFU_TRANSMISSION\\n')\n",
    "sof.write('/home/mmarcano/Documents/VIMOS/NGC6652/esorex/calibrations/calib/vimos-3.2.3/cal/extinct_table.tfits\\tEXTINCT_TABLE\\n')\n",
    "sof.write('ifu_specphot_table.fits\\tIFU_SPECPHOT_TABLE\\n')\n",
    "\n",
    "sof.close()"
   ]
  },
  {
   "cell_type": "code",
   "execution_count": 21,
   "metadata": {},
   "outputs": [
    {
     "name": "stdout",
     "output_type": "stream",
     "text": [
      "master_bias.fits\tMASTER_BIAS\n",
      "ifu_ids.fits\tIFU_IDS\n",
      "ifu_trace.fits\tIFU_TRACE\n",
      "ifu_transmission.fits\tIFU_TRANSMISSION\n",
      "/home/mmarcano/Documents/VIMOS/NGC6652/esorex/calibrations/calib/vimos-3.2.3/cal/extinct_table.tfits\tEXTINCT_TABLE\n",
      "/home/mmarcano/Documents/VIMOS/NGC6652/esorex/calibrations/calib/vimos-3.2.3/cal/ltt4816.tfits\tSTD_FLUX_TABLE\n"
     ]
    }
   ],
   "source": [
    "! cat ifustandard.sof"
   ]
  },
  {
   "cell_type": "code",
   "execution_count": 22,
   "metadata": {},
   "outputs": [
    {
     "data": {
      "text/plain": [
       "[]"
      ]
     },
     "execution_count": 22,
     "metadata": {},
     "output_type": "execute_result"
    }
   ],
   "source": [
    "std"
   ]
  },
  {
   "cell_type": "code",
   "execution_count": null,
   "metadata": {},
   "outputs": [],
   "source": [
    "a = fits.open('/home/mmarcano/Documents/VIMOS/NGC6652/esorex/calibrations/calib/vimos-3.2.3/cal/ifu_ident_HR_re'"
   ]
  }
 ],
 "metadata": {
  "kernelspec": {
   "display_name": "Python 3",
   "language": "python",
   "name": "python3"
  },
  "language_info": {
   "codemirror_mode": {
    "name": "ipython",
    "version": 3
   },
   "file_extension": ".py",
   "mimetype": "text/x-python",
   "name": "python",
   "nbconvert_exporter": "python",
   "pygments_lexer": "ipython3",
   "version": "3.6.5"
  }
 },
 "nbformat": 4,
 "nbformat_minor": 2
}
