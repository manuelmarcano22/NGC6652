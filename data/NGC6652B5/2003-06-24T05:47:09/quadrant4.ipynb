{
 "cells": [
  {
   "cell_type": "markdown",
   "metadata": {},
   "source": [
    "# 2003-06-24T05:47:09\n",
    "\n",
    "# Quadrant Four\n",
    "Try to reduce it using esorex. The online request ESO archive data service list the require calibrations file:\n",
    "\n",
    "![Example complete dataset](images/quad4.png)\n"
   ]
  },
  {
   "cell_type": "code",
   "execution_count": 1,
   "metadata": {},
   "outputs": [],
   "source": [
    "import glob\n",
    "import os\n",
    "import re\n",
    "import itertools\n",
    "from astropy.coordinates import SkyCoord\n",
    "from astropy import units as u\n",
    "from astropy.io import fits\n",
    "import numpy as np\n",
    "\n",
    "def flatten(listOfLists):\n",
    "    \"Flatten one level of nesting\"\n",
    "    return itertools.chain.from_iterable(listOfLists)"
   ]
  },
  {
   "cell_type": "code",
   "execution_count": 2,
   "metadata": {},
   "outputs": [],
   "source": [
    "datadir = '/home/mmarcano/Documents/VIMOS/NGC6652/data/NGC6652B5/2003-06-24T05:47:09/RawESOdata/'\n",
    "\n"
   ]
  },
  {
   "cell_type": "markdown",
   "metadata": {},
   "source": [
    "## Category"
   ]
  },
  {
   "cell_type": "markdown",
   "metadata": {},
   "source": [
    "Any raw or product frame can be classified on the basis of a set of keywords read from its header. Data classification is based on FITS keyword values. In the case of raw frames, classification can be defined by looking at least at three keyword values: DPR TYPE, DPR CATG, and DPR TECH. In the case of data products, the classification of the frame is stored into the hierarchical keyword PRO CATG.\n",
    "\n",
    "\n",
    "**DPR TYPE = FLAT,LAMP**\n",
    "\n",
    "**DO categoy: IFU_SCREEN_FLAT**\n",
    "\n",
    "Processed by: vmifucalib\n",
    "\n",
    "**DPR TYPE = WAVE,LAMP**\n",
    "\n",
    "**DO category: IFU_ARC_SPECTRUM**\n",
    "\n",
    "Processed by: vmifucalib\n",
    "\n",
    "\n",
    "## Science\n",
    "\n",
    "**DO category: IFU_SCIENCE**\n",
    "\n",
    "DPR CATG = SCIENCE\n",
    "\n",
    "DPR TYPE = OBJECT"
   ]
  },
  {
   "cell_type": "markdown",
   "metadata": {},
   "source": [
    "# Create the SOF files\n",
    "\n",
    "\n",
    "First specify all the rawdata for the specific science frame"
   ]
  },
  {
   "cell_type": "code",
   "execution_count": 3,
   "metadata": {},
   "outputs": [],
   "source": [
    "rawdata = {'IFU_SCIENCE':'VIMOS.2003-06-24T05:47:09.496.fits',\n",
    "           'LINE_CATALOG':'M.VIMOS.2008-06-17T18:11:31.782.fits',\n",
    "          'EXTINCT_TABLE':'M.VIMOS.2008-06-17T18:12:53.176.fits',\n",
    "          'STD_FLUX_TABLE':'M.VIMOS.2008-06-17T18:13:13.956.fits',\n",
    "           'IFU_IDENT':'M.VIMOS.2008-06-17T18:16:12.090.fits',\n",
    "           'IFU_MASTER_RESPONSE':'M.VIMOS.2008-06-17T18:20:50.827.fits',\n",
    "           'BIAS':['VIMOS.2003-06-23T14:48:34.460.fits','VIMOS.2003-06-23T14:49:26.873.fits','VIMOS.2003-06-23T14:50:19.473.fits','VIMOS.2003-06-23T14:51:12.022.fits','VIMOS.2003-06-23T14:52:04.694.fits',\n",
    "                  'VIMOS.2003-06-24T11:27:11.125.fits','VIMOS.2003-06-24T11:28:03.628.fits','VIMOS.2003-06-24T11:28:56.487.fits','VIMOS.2003-06-24T11:29:49.974.fits','VIMOS.2003-06-24T11:30:43.187.fits'],\n",
    "           'IFU_ARC_SPECTRUM':'VIMOS.2003-06-24T06:32:58.133.fits',\n",
    "           'IFU_STANDARD':'VIMOS.2003-06-24T10:38:01.522.fits',\n",
    "           'IFU_SCREEN_FLAT':['VIMOS.2003-06-24T10:43:31.637.fits','VIMOS.2003-06-24T10:44:42.777.fits','VIMOS.2003-06-24T10:45:54.169.fits']\n",
    "          }"
   ]
  },
  {
   "cell_type": "markdown",
   "metadata": {},
   "source": [
    "Then we add the directory for each of the data"
   ]
  },
  {
   "cell_type": "code",
   "execution_count": 4,
   "metadata": {},
   "outputs": [
    {
     "name": "stdout",
     "output_type": "stream",
     "text": [
      "4\n"
     ]
    }
   ],
   "source": [
    "for k,v in rawdata.items():\n",
    "    try:\n",
    "        rawdata[k] = datadir+v\n",
    "    except:\n",
    "        temp = [datadir+i for i in v]\n",
    "        rawdata[k] = temp\n",
    "\n",
    "t = fits.open(rawdata['IFU_SCIENCE'])[0]\n",
    "quadrant = t.header['HIERARCH ESO OCS CON QUAD']\n",
    "print(quadrant)\n"
   ]
  },
  {
   "cell_type": "markdown",
   "metadata": {},
   "source": [
    "## Create bias.sof"
   ]
  },
  {
   "cell_type": "code",
   "execution_count": 5,
   "metadata": {},
   "outputs": [],
   "source": [
    "#limit = 5\n",
    "outdir = datadir+'quadrant'+str(quadrant)\n",
    "\n",
    "#Create outdir if it doesnt exist\n",
    "if not os.path.exists(outdir):\n",
    "    os.makedirs(outdir)\n",
    "\n",
    "\n",
    "filenamebias = outdir+'/bias.sof'\n",
    "with open(filenamebias,'w') as file:\n",
    "    for bias in rawdata['BIAS'][0:]:\n",
    "        cat = 'BIAS'\n",
    "        string = '{} {}\\n'.format(bias,cat)\n",
    "        file.write(string)"
   ]
  },
  {
   "cell_type": "markdown",
   "metadata": {},
   "source": [
    "Call the vmbias routine and give the path to esorex\n"
   ]
  },
  {
   "cell_type": "code",
   "execution_count": 6,
   "metadata": {},
   "outputs": [],
   "source": [
    "stackmethod = '--StackMethod=Average'\n",
    "esorexpath = '/bin/esorex'\n",
    "routine = 'vmbias'\n",
    "outputdir = '--output-dir={}'.format(outdir)\n",
    "logdir = '--log-dir={}'.format(outdir)\n",
    "\n"
   ]
  },
  {
   "cell_type": "code",
   "execution_count": 7,
   "metadata": {},
   "outputs": [
    {
     "name": "stdout",
     "output_type": "stream",
     "text": [
      "/bin/esorex --output-dir=/home/mmarcano/Documents/VIMOS/NGC6652/data/NGC6652B5/2003-06-24T05:47:09/RawESOdata/quadrant4 --log-dir=/home/mmarcano/Documents/VIMOS/NGC6652/data/NGC6652B5/2003-06-24T05:47:09/RawESOdata/quadrant4 vmbias  /home/mmarcano/Documents/VIMOS/NGC6652/data/NGC6652B5/2003-06-24T05:47:09/RawESOdata/quadrant4/bias.sof\n"
     ]
    },
    {
     "data": {
      "text/plain": [
       "0"
      ]
     },
     "execution_count": 7,
     "metadata": {},
     "output_type": "execute_result"
    }
   ],
   "source": [
    "commandbias = '{} {} {} {}  {}'.format(esorexpath,outputdir,logdir,routine,  filenamebias)\n",
    "print(commandbias)\n",
    "os.system(commandbias)"
   ]
  },
  {
   "cell_type": "markdown",
   "metadata": {},
   "source": [
    "Add the master_bias to rawdata dictionary"
   ]
  },
  {
   "cell_type": "code",
   "execution_count": 8,
   "metadata": {},
   "outputs": [],
   "source": [
    "rawdata['MASTER_BIAS'] = outdir+'/master_bias.fits'"
   ]
  },
  {
   "cell_type": "markdown",
   "metadata": {},
   "source": [
    "## Create calib.sof"
   ]
  },
  {
   "cell_type": "code",
   "execution_count": 9,
   "metadata": {},
   "outputs": [
    {
     "name": "stdout",
     "output_type": "stream",
     "text": [
      "/bin/esorex --output-dir=/home/mmarcano/Documents/VIMOS/NGC6652/data/NGC6652B5/2003-06-24T05:47:09/RawESOdata/quadrant4 --log-dir=/home/mmarcano/Documents/VIMOS/NGC6652/data/NGC6652B5/2003-06-24T05:47:09/RawESOdata/quadrant4 vmifucalib  /home/mmarcano/Documents/VIMOS/NGC6652/data/NGC6652B5/2003-06-24T05:47:09/RawESOdata/quadrant4/calib.sof\n"
     ]
    },
    {
     "data": {
      "text/plain": [
       "0"
      ]
     },
     "execution_count": 9,
     "metadata": {},
     "output_type": "execute_result"
    }
   ],
   "source": [
    "inputfilescalib = ['IFU_SCREEN_FLAT','IFU_ARC_SPECTRUM','LINE_CATALOG','IFU_IDENT','MASTER_BIAS']\n",
    "\n",
    "filenamecalib = outdir+'/calib.sof'\n",
    "with open(filenamecalib,'w') as file:\n",
    "    for i in inputfilescalib:\n",
    "        tmpfile = rawdata[i]\n",
    "        if isinstance(tmpfile, list):    \n",
    "            for j in tmpfile:\n",
    "                string = '{} {}\\n'.format(j,i)\n",
    "                file.write(string)\n",
    "        else:\n",
    "            string = '{} {}\\n'.format(tmpfile,i)\n",
    "            file.write(string)\n",
    "\n",
    "            \n",
    "# Define the routine and call it\n",
    "routine = 'vmifucalib'\n",
    "\n",
    "commandcalib = '{} {} {} {}  {}'.format(esorexpath,outputdir,logdir,routine,  filenamecalib)\n",
    "print(commandcalib)\n",
    "os.system(commandcalib)"
   ]
  },
  {
   "cell_type": "code",
   "execution_count": 10,
   "metadata": {},
   "outputs": [],
   "source": [
    "rawdata['IFU_IDS'] = outdir+'/ifu_ids.fits'\n",
    "rawdata['IFU_TRACE'] = outdir+'/ifu_trace.fits'\n",
    "rawdata['IFU_TRANSMISSION'] = outdir+'/ifu_transmission.fits'"
   ]
  },
  {
   "cell_type": "markdown",
   "metadata": {},
   "source": [
    "## Create standard.sof"
   ]
  },
  {
   "cell_type": "code",
   "execution_count": 11,
   "metadata": {},
   "outputs": [],
   "source": [
    "inputfilesstandard = ['IFU_STANDARD','MASTER_BIAS','IFU_IDS','IFU_TRACE','IFU_TRANSMISSION','EXTINCT_TABLE','STD_FLUX_TABLE']\n",
    "\n",
    "filenamestandard = outdir+'/ifustandard.sof'\n",
    "with open(filenamestandard,'w') as file:\n",
    "    for i in inputfilesstandard:\n",
    "        tmpfile = rawdata[i]\n",
    "        if isinstance(tmpfile, list):    \n",
    "            for j in tmpfile:\n",
    "                string = '{} {}\\n'.format(j,i)\n",
    "                file.write(string)\n",
    "        else:\n",
    "            string = '{} {}\\n'.format(tmpfile,i)\n",
    "            file.write(string)\n"
   ]
  },
  {
   "cell_type": "code",
   "execution_count": 12,
   "metadata": {},
   "outputs": [
    {
     "name": "stdout",
     "output_type": "stream",
     "text": [
      "/bin/esorex --output-dir=/home/mmarcano/Documents/VIMOS/NGC6652/data/NGC6652B5/2003-06-24T05:47:09/RawESOdata/quadrant4 --log-dir=/home/mmarcano/Documents/VIMOS/NGC6652/data/NGC6652B5/2003-06-24T05:47:09/RawESOdata/quadrant4 vmifustandard  /home/mmarcano/Documents/VIMOS/NGC6652/data/NGC6652B5/2003-06-24T05:47:09/RawESOdata/quadrant4/ifustandard.sof\n"
     ]
    },
    {
     "data": {
      "text/plain": [
       "0"
      ]
     },
     "execution_count": 12,
     "metadata": {},
     "output_type": "execute_result"
    }
   ],
   "source": [
    "routine = 'vmifustandard'\n",
    "\n",
    "commandstandard = '{} {} {} {}  {}'.format(esorexpath,outputdir,logdir,routine,  filenamestandard)\n",
    "print(commandstandard)\n",
    "os.system(commandstandard)"
   ]
  },
  {
   "cell_type": "markdown",
   "metadata": {},
   "source": [
    "## Create science.sof"
   ]
  },
  {
   "cell_type": "code",
   "execution_count": 13,
   "metadata": {},
   "outputs": [],
   "source": [
    "rawdata['IFU_SPECPHOT_TABLE'] = outdir+'/ifu_specphot_table.fits'\n",
    "\n",
    "inputfilesscience = ['IFU_SCIENCE','MASTER_BIAS','IFU_IDS','IFU_TRACE','IFU_TRANSMISSION','EXTINCT_TABLE','IFU_SPECPHOT_TABLE']\n",
    "\n",
    "filenamescience = outdir+'/ifuscience.sof'\n",
    "with open(filenamescience,'w') as file:\n",
    "    for i in inputfilesscience:\n",
    "        tmpfile = rawdata[i]\n",
    "        if isinstance(tmpfile, list):    \n",
    "            for j in tmpfile:\n",
    "                string = '{} {}\\n'.format(j,i)\n",
    "                file.write(string)\n",
    "        else:\n",
    "            string = '{} {}\\n'.format(tmpfile,i)\n",
    "            file.write(string)"
   ]
  },
  {
   "cell_type": "code",
   "execution_count": 14,
   "metadata": {},
   "outputs": [
    {
     "name": "stdout",
     "output_type": "stream",
     "text": [
      "/bin/esorex --output-dir=/home/mmarcano/Documents/VIMOS/NGC6652/data/NGC6652B5/2003-06-24T05:47:09/RawESOdata/quadrant4 --log-dir=/home/mmarcano/Documents/VIMOS/NGC6652/data/NGC6652B5/2003-06-24T05:47:09/RawESOdata/quadrant4 vmifuscience --CalibrateFlux=true /home/mmarcano/Documents/VIMOS/NGC6652/data/NGC6652B5/2003-06-24T05:47:09/RawESOdata/quadrant4/ifuscience.sof\n"
     ]
    },
    {
     "data": {
      "text/plain": [
       "0"
      ]
     },
     "execution_count": 14,
     "metadata": {},
     "output_type": "execute_result"
    }
   ],
   "source": [
    "routine = 'vmifuscience'\n",
    "\n",
    "calibrateflux = '--CalibrateFlux=true'\n",
    "\n",
    "commandscience = '{} {} {} {} {} {}'.format(esorexpath,outputdir,logdir,routine, calibrateflux ,filenamescience)\n",
    "print(commandscience)\n",
    "os.system(commandscience)"
   ]
  }
 ],
 "metadata": {
  "kernelspec": {
   "display_name": "Python 3",
   "language": "python",
   "name": "python3"
  },
  "language_info": {
   "codemirror_mode": {
    "name": "ipython",
    "version": 3
   },
   "file_extension": ".py",
   "mimetype": "text/x-python",
   "name": "python",
   "nbconvert_exporter": "python",
   "pygments_lexer": "ipython3",
   "version": "3.6.5"
  }
 },
 "nbformat": 4,
 "nbformat_minor": 2
}
