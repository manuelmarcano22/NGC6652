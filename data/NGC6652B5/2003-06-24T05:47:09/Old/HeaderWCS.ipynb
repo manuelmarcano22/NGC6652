{
 "cells": [
  {
   "cell_type": "markdown",
   "metadata": {},
   "source": [
    "# Modify the header of the fits file"
   ]
  },
  {
   "cell_type": "code",
   "execution_count": 1,
   "metadata": {},
   "outputs": [],
   "source": [
    "from astropy.io import fits\n",
    "import os"
   ]
  },
  {
   "cell_type": "code",
   "execution_count": 5,
   "metadata": {},
   "outputs": [
    {
     "data": {
      "text/plain": [
       "0"
      ]
     },
     "execution_count": 5,
     "metadata": {},
     "output_type": "execute_result"
    }
   ],
   "source": [
    "originalcube = 'RawESOdata/Combine/ifu_science_flux_cube.fits'\n",
    "newcube = 'RawESOdata/Combine/ifu_science_flux_cube_wcscorrected.fits'\n",
    "copyfile = 'cp {} {}'.format(originalcube,newcube)\n",
    "os.system(copyfile)"
   ]
  },
  {
   "cell_type": "code",
   "execution_count": 6,
   "metadata": {},
   "outputs": [
    {
     "name": "stdout",
     "output_type": "stream",
     "text": [
      "Filename: RawESOdata/Combine/ifu_science_flux_cube_wcscorrected.fits\n",
      "No.    Name      Ver    Type      Cards   Dimensions   Format\n",
      "  0  PRIMARY       1 PrimaryHDU     272   (40, 40, 4259)   float32   \n"
     ]
    }
   ],
   "source": [
    "fits.info(newcube)"
   ]
  },
  {
   "cell_type": "code",
   "execution_count": 7,
   "metadata": {},
   "outputs": [],
   "source": [
    "oricube = fits.open(originalcube)\n",
    "oricubehearder = oricube[0].header\n",
    "ifura = oricubehearder['HIERARCH ESO INS IFU RA']\n",
    "ifudec = oricubehearder['HIERARCH ESO INS IFU DEC']"
   ]
  },
  {
   "cell_type": "code",
   "execution_count": 8,
   "metadata": {},
   "outputs": [],
   "source": [
    "fits.setval(newcube, 'CRVAL1', value=ifura)\n",
    "fits.setval(newcube, 'CRVAL2', value=ifudec)"
   ]
  },
  {
   "cell_type": "code",
   "execution_count": null,
   "metadata": {},
   "outputs": [],
   "source": []
  },
  {
   "cell_type": "code",
   "execution_count": null,
   "metadata": {},
   "outputs": [],
   "source": []
  }
 ],
 "metadata": {
  "kernelspec": {
   "display_name": "Python 3",
   "language": "python",
   "name": "python3"
  },
  "language_info": {
   "codemirror_mode": {
    "name": "ipython",
    "version": 3
   },
   "file_extension": ".py",
   "mimetype": "text/x-python",
   "name": "python",
   "nbconvert_exporter": "python",
   "pygments_lexer": "ipython3",
   "version": "3.6.5"
  }
 },
 "nbformat": 4,
 "nbformat_minor": 2
}
