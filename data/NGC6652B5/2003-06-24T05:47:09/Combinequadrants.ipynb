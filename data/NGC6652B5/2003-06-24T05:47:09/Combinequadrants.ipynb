{
 "cells": [
  {
   "cell_type": "code",
   "execution_count": 1,
   "metadata": {},
   "outputs": [],
   "source": [
    "import glob\n",
    "import os\n",
    "import re\n",
    "import itertools\n",
    "from astropy.coordinates import SkyCoord\n",
    "from astropy import units as u\n",
    "from astropy.io import fits\n",
    "import numpy as np\n",
    "\n",
    "def flatten(listOfLists):\n",
    "    \"Flatten one level of nesting\"\n",
    "    return itertools.chain.from_iterable(listOfLists)\n",
    "\n",
    "\n"
   ]
  },
  {
   "cell_type": "code",
   "execution_count": 18,
   "metadata": {},
   "outputs": [],
   "source": [
    "datadir = '/home/mmarcano/Documents/VIMOS/NGC6652/data/NGC6652B5/2003-06-24T05:47:09/RawESOdata/'\n",
    "\n",
    "combinedir = datadir+'Combine'\n",
    "\n",
    "#Create outdir if it doesnt exist\n",
    "if not os.path.exists(combinedir):\n",
    "    os.makedirs(combinedir)\n",
    "\n",
    "\n",
    "\n",
    "filenamescombinecube = combinedir+'/ifucombinefov.sof'\n",
    "\n",
    "with open(filenamescombinecube,'w') as file:\n",
    "    for i in [1,2,3,4]:\n",
    "        fitstemp='{}quadrant{}/ifu_science_flux_reduced.fits'.format(datadir,i)\n",
    "        string = '{} {}\\n'.format(fitstemp,'IFU_SCIENCE_FLUX_REDUCED')\n",
    "        file.write(string)"
   ]
  },
  {
   "cell_type": "code",
   "execution_count": 22,
   "metadata": {},
   "outputs": [
    {
     "name": "stdout",
     "output_type": "stream",
     "text": [
      "/bin/esorex --output-dir=/home/mmarcano/Documents/VIMOS/NGC6652/data/NGC6652B5/2003-06-24T05:47:09/RawESOdata/Combine --log-dir=/home/mmarcano/Documents/VIMOS/NGC6652/data/NGC6652B5/2003-06-24T05:47:09/RawESOdata/Combine vmifucombinecube /home/mmarcano/Documents/VIMOS/NGC6652/data/NGC6652B5/2003-06-24T05:47:09/RawESOdata/Combine/ifucombinefov.sof \n"
     ]
    },
    {
     "data": {
      "text/plain": [
       "0"
      ]
     },
     "execution_count": 22,
     "metadata": {},
     "output_type": "execute_result"
    }
   ],
   "source": [
    "esorexpath = '/bin/esorex'\n",
    "outputdir = '--output-dir={}'.format(combinedir)\n",
    "logdir = '--log-dir={}'.format(combinedir)\n",
    "routine = 'vmifucombinecube'\n",
    "command = '{} {} {} {} {} '.format(esorexpath,outputdir,logdir,routine, filenamescombinecube)\n",
    "print(command)\n",
    "os.system(command)"
   ]
  }
 ],
 "metadata": {
  "kernelspec": {
   "display_name": "Python 3",
   "language": "python",
   "name": "python3"
  },
  "language_info": {
   "codemirror_mode": {
    "name": "ipython",
    "version": 3
   },
   "file_extension": ".py",
   "mimetype": "text/x-python",
   "name": "python",
   "nbconvert_exporter": "python",
   "pygments_lexer": "ipython3",
   "version": "3.6.5"
  }
 },
 "nbformat": 4,
 "nbformat_minor": 2
}
