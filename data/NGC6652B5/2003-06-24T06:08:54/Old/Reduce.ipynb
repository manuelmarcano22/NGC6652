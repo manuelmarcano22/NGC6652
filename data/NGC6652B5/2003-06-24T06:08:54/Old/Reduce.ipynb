{
 "cells": [
  {
   "cell_type": "code",
   "execution_count": 31,
   "metadata": {},
   "outputs": [],
   "source": [
    "import glob\n",
    "import os\n",
    "import re\n",
    "import itertools\n",
    "from astropy.coordinates import SkyCoord\n",
    "from astropy import units as u\n",
    "from astropy.io import fits\n",
    "import numpy as np\n",
    "\n",
    "def flatten(listOfLists):\n",
    "    \"Flatten one level of nesting\"\n",
    "    return itertools.chain.from_iterable(listOfLists)"
   ]
  },
  {
   "cell_type": "code",
   "execution_count": 32,
   "metadata": {},
   "outputs": [],
   "source": [
    "def reduceifu(datadirectory, rawdatadictionary):\n",
    "    \"\"\"Something\"\"\"\n",
    "    datadir = datadirectory\n",
    "    rawdata = rawdatadictionary\n",
    "\n",
    "\n",
    "\n",
    "    # Put to each the data dir and print hte quadran\n",
    "    for k,v in rawdata.items():\n",
    "        try:\n",
    "            rawdata[k] = datadir+v\n",
    "        except:\n",
    "            temp = [datadir+i for i in v]\n",
    "            rawdata[k] = temp\n",
    "\n",
    "        t = fits.open(rawdata['IFU_SCIENCE'])[0]\n",
    "        quadrant = t.header['HIERARCH ESO OCS CON QUAD']\n",
    "    print('Quadrant {}'.format(quadrant))\n",
    "    \n",
    "    \n",
    "    \n",
    "    ##Create bias\n",
    "    \n",
    "    outdir = datadir+'quadrant'+str(quadrant)\n",
    "\n",
    "    #Create outdir if it doesnt exist\n",
    "    if not os.path.exists(outdir):\n",
    "        os.makedirs(outdir)\n",
    "\n",
    "\n",
    "    filenamebias = outdir+'/bias.sof'\n",
    "    with open(filenamebias,'w') as file:\n",
    "        for bias in rawdata['BIAS'][0:]:\n",
    "            cat = 'BIAS'\n",
    "            string = '{} {}\\n'.format(bias,cat)\n",
    "            file.write(string)\n",
    "            \n",
    "            \n",
    "                \n",
    "    stackmethod = '--StackMethod=Average'\n",
    "    esorexpath = '/bin/esorex'\n",
    "    routine = 'vmbias'\n",
    "    outputdir = '--output-dir={}'.format(outdir)\n",
    "    logdir = '--log-dir={}'.format(outdir)\n",
    "    \n",
    "    commandbias = '{} {} {} {}  {}'.format(esorexpath,outputdir,logdir,routine,  filenamebias)\n",
    "    print(commandbias)\n",
    "    os.system(commandbias)\n",
    "    \n",
    "    rawdata['MASTER_BIAS'] = outdir+'/master_bias.fits'\n",
    "    \n",
    "    \n",
    "    ##Calib\n",
    "    \n",
    "    inputfilescalib = ['IFU_SCREEN_FLAT','IFU_ARC_SPECTRUM','LINE_CATALOG','IFU_IDENT','MASTER_BIAS']\n",
    "\n",
    "    filenamecalib = outdir+'/calib.sof'\n",
    "    with open(filenamecalib,'w') as file:\n",
    "        for i in inputfilescalib:\n",
    "            tmpfile = rawdata[i]\n",
    "            if isinstance(tmpfile, list):    \n",
    "                for j in tmpfile:\n",
    "                    string = '{} {}\\n'.format(j,i)\n",
    "                    file.write(string)\n",
    "            else:\n",
    "                string = '{} {}\\n'.format(tmpfile,i)\n",
    "                file.write(string)\n",
    "\n",
    "\n",
    "    # Define the routine and call it\n",
    "    routine = 'vmifucalib'\n",
    "\n",
    "    commandcalib = '{} {} {} {}  {}'.format(esorexpath,outputdir,logdir,routine,  filenamecalib)\n",
    "    print(commandcalib)\n",
    "    os.system(commandcalib)\n",
    "    \n",
    "    rawdata['IFU_IDS'] = outdir+'/ifu_ids.fits'\n",
    "    rawdata['IFU_TRACE'] = outdir+'/ifu_trace.fits'\n",
    "    rawdata['IFU_TRANSMISSION'] = outdir+'/ifu_transmission.fits'\n",
    "    \n",
    "    \n",
    "    ##Standard\n",
    "    inputfilesstandard = ['IFU_STANDARD','MASTER_BIAS','IFU_IDS','IFU_TRACE','IFU_TRANSMISSION','EXTINCT_TABLE','STD_FLUX_TABLE']\n",
    "\n",
    "    filenamestandard = outdir+'/ifustandard.sof'\n",
    "    with open(filenamestandard,'w') as file:\n",
    "        for i in inputfilesstandard:\n",
    "            tmpfile = rawdata[i]\n",
    "            if isinstance(tmpfile, list):    \n",
    "                for j in tmpfile:\n",
    "                    string = '{} {}\\n'.format(j,i)\n",
    "                    file.write(string)\n",
    "            else:\n",
    "                string = '{} {}\\n'.format(tmpfile,i)\n",
    "                file.write(string)\n",
    "\n",
    "                routine = 'vmifustandard'\n",
    "\n",
    "    commandstandard = '{} {} {} {}  {}'.format(esorexpath,outputdir,logdir,routine,  filenamestandard)\n",
    "    print(commandstandard)\n",
    "    os.system(commandstandard)\n",
    "    \n",
    "    #Science Soif\n",
    "    \n",
    "    rawdata['IFU_SPECPHOT_TABLE'] = outdir+'/ifu_specphot_table.fits'\n",
    "\n",
    "    inputfilesscience = ['IFU_SCIENCE','MASTER_BIAS','IFU_IDS','IFU_TRACE','IFU_TRANSMISSION','EXTINCT_TABLE','IFU_SPECPHOT_TABLE']\n",
    "\n",
    "    filenamescience = outdir+'/ifuscience.sof'\n",
    "    with open(filenamescience,'w') as file:\n",
    "        for i in inputfilesscience:\n",
    "            tmpfile = rawdata[i]\n",
    "            if isinstance(tmpfile, list):    \n",
    "                for j in tmpfile:\n",
    "                    string = '{} {}\\n'.format(j,i)\n",
    "                    file.write(string)\n",
    "            else:\n",
    "                string = '{} {}\\n'.format(tmpfile,i)\n",
    "                file.write(string)\n",
    "                \n",
    "                \n",
    "                routine = 'vmifuscience'\n",
    "\n",
    "    calibrateflux = '--CalibrateFlux=true'\n",
    "\n",
    "    commandscience = '{} {} {} {} {} {}'.format(esorexpath,outputdir,logdir,routine, calibrateflux ,filenamescience)\n",
    "    print(commandscience)\n",
    "    os.system(commandscience)"
   ]
  },
  {
   "cell_type": "markdown",
   "metadata": {},
   "source": [
    "inputs"
   ]
  },
  {
   "cell_type": "code",
   "execution_count": 39,
   "metadata": {},
   "outputs": [],
   "source": [
    "datadir = '/home/mmarcano/Documents/VIMOS/NGC6652/data/NGC6652B5/2003-06-24T06:08:54/RawESOdata/'\n",
    "\n",
    "rawdataq1 = {'IFU_SCIENCE':'VIMOS.2003-06-24T06:08:54.054.fits',\n",
    "           'LINE_CATALOG':'M.VIMOS.2008-06-17T18:11:18.672.fits',\n",
    "          'EXTINCT_TABLE':'M.VIMOS.2008-06-17T18:12:53.176.fits',\n",
    "          'STD_FLUX_TABLE':'M.VIMOS.2008-06-17T18:13:13.956.fits',\n",
    "           'IFU_IDENT':'M.VIMOS.2008-06-17T18:16:03.380.fits',\n",
    "           'IFU_MASTER_RESPONSE':'M.VIMOS.2008-06-17T18:20:40.981.fits',\n",
    "           'BIAS':['VIMOS.2003-06-23T14:48:34.459.fits','VIMOS.2003-06-23T14:49:26.872.fits','VIMOS.2003-06-23T14:50:19.472.fits','VIMOS.2003-06-23T14:51:12.021.fits','VIMOS.2003-06-23T14:52:04.693.fits',\n",
    "                  'VIMOS.2003-06-24T11:27:11.124.fits','VIMOS.2003-06-24T11:28:03.627.fits','VIMOS.2003-06-24T11:28:56.486.fits','VIMOS.2003-06-24T11:29:49.973.fits','VIMOS.2003-06-24T11:30:43.186.fits'],\n",
    "           'IFU_ARC_SPECTRUM':['VIMOS.2003-06-24T06:32:58.132.fits'],\n",
    "           'IFU_STANDARD':'VIMOS.2003-06-24T10:26:46.402.fits',\n",
    "           'IFU_SCREEN_FLAT':['VIMOS.2003-06-24T10:43:31.636.fits','VIMOS.2003-06-24T10:44:42.776.fits','VIMOS.2003-06-24T10:45:54.168.fits']}\n",
    "\n",
    "\n",
    "rawdataq4 = {'IFU_SCIENCE':'VIMOS.2003-06-24T06:08:54.055.fits',\n",
    "           'LINE_CATALOG':'M.VIMOS.2008-06-17T18:11:31.782.fits',\n",
    "          'EXTINCT_TABLE':'M.VIMOS.2008-06-17T18:12:53.176.fits',\n",
    "          'STD_FLUX_TABLE':'M.VIMOS.2008-06-17T18:13:13.956.fits',\n",
    "           'IFU_IDENT':'M.VIMOS.2008-06-17T18:16:12.090.fits',\n",
    "           'IFU_MASTER_RESPONSE':'M.VIMOS.2008-06-17T18:20:50.827.fits',\n",
    "           'BIAS':['VIMOS.2003-06-23T14:48:34.460.fits','VIMOS.2003-06-23T14:49:26.873.fits','VIMOS.2003-06-23T14:50:19.473.fits','VIMOS.2003-06-23T14:51:12.022.fits','VIMOS.2003-06-23T14:52:04.694.fits',\n",
    "                  'VIMOS.2003-06-24T11:27:11.125.fits','VIMOS.2003-06-24T11:28:03.628.fits','VIMOS.2003-06-24T11:28:56.487.fits','VIMOS.2003-06-24T11:29:49.974.fits','VIMOS.2003-06-24T11:30:43.187.fits'],\n",
    "           'IFU_ARC_SPECTRUM':'VIMOS.2003-06-24T06:32:58.133.fits',\n",
    "           'IFU_STANDARD':'VIMOS.2003-06-24T10:38:01.522.fits',\n",
    "           'IFU_SCREEN_FLAT':['VIMOS.2003-06-24T10:43:31.637.fits','VIMOS.2003-06-24T10:44:42.777.fits','VIMOS.2003-06-24T10:45:54.169.fits']\n",
    "          }\n",
    "\n",
    "\n",
    "rawdataq2 = {'IFU_SCIENCE':'VIMOS.2003-06-24T06:08:54.180.fits',\n",
    "           'LINE_CATALOG':'M.VIMOS.2008-06-17T18:11:23.749.fits',\n",
    "          'EXTINCT_TABLE':'M.VIMOS.2008-06-17T18:12:53.176.fits',\n",
    "          'STD_FLUX_TABLE':'M.VIMOS.2008-06-17T18:13:13.956.fits',\n",
    "           'IFU_IDENT':'M.VIMOS.2008-06-17T18:16:06.327.fits',\n",
    "           'IFU_MASTER_RESPONSE':'M.VIMOS.2008-06-17T18:20:44.067.fits',\n",
    "           'BIAS':['VIMOS.2003-06-23T14:48:34.615.fits','VIMOS.2003-06-23T14:49:27.030.fits','VIMOS.2003-06-23T14:50:19.637.fits','VIMOS.2003-06-23T14:51:12.165.fits','VIMOS.2003-06-23T14:52:04.864.fits',\n",
    "                  'VIMOS.2003-06-24T11:27:11.267.fits','VIMOS.2003-06-24T11:28:03.762.fits','VIMOS.2003-06-24T11:28:56.625.fits','VIMOS.2003-06-24T11:29:50.113.fits','VIMOS.2003-06-24T11:30:43.334.fits'],\n",
    "           'IFU_ARC_SPECTRUM':'VIMOS.2003-06-24T06:32:58.278.fits',\n",
    "           'IFU_STANDARD':'VIMOS.2003-06-24T10:30:31.616.fits',\n",
    "           'IFU_SCREEN_FLAT':['VIMOS.2003-06-24T10:43:31.777.fits','VIMOS.2003-06-24T10:44:42.923.fits','VIMOS.2003-06-24T10:45:54.300.fits']\n",
    "          }\n",
    "\n",
    "\n",
    "rawdataq3 = {'IFU_SCIENCE':'VIMOS.2003-06-24T06:08:54.181.fits',\n",
    "           'LINE_CATALOG':'M.VIMOS.2008-06-17T18:11:28.741.fits',\n",
    "          'EXTINCT_TABLE':'M.VIMOS.2008-06-17T18:12:53.176.fits',\n",
    "          'STD_FLUX_TABLE':'M.VIMOS.2008-06-17T18:13:13.956.fits',\n",
    "           'IFU_IDENT':'M.VIMOS.2008-06-17T18:16:09.125.fits',\n",
    "           'IFU_MASTER_RESPONSE':'M.VIMOS.2008-06-17T18:20:47.901.fits',\n",
    "           'BIAS':['VIMOS.2003-06-23T14:48:34.616.fits','VIMOS.2003-06-23T14:49:27.031.fits','VIMOS.2003-06-23T14:50:19.638.fits','VIMOS.2003-06-23T14:51:12.166.fits','VIMOS.2003-06-23T14:52:04.865.fits',\n",
    "                  'VIMOS.2003-06-24T11:27:11.268.fits','VIMOS.2003-06-24T11:28:03.763.fits','VIMOS.2003-06-24T11:28:56.626.fits','VIMOS.2003-06-24T11:29:50.114.fits','VIMOS.2003-06-24T11:30:43.335.fits'],\n",
    "           'IFU_ARC_SPECTRUM':'VIMOS.2003-06-24T06:32:58.279.fits',\n",
    "           'IFU_STANDARD':'VIMOS.2003-06-24T10:34:16.581.fits',\n",
    "           'IFU_SCREEN_FLAT':['VIMOS.2003-06-24T10:43:31.778.fits','VIMOS.2003-06-24T10:44:42.924.fits','VIMOS.2003-06-24T10:45:54.301.fits']\n",
    "          }"
   ]
  },
  {
   "cell_type": "code",
   "execution_count": 40,
   "metadata": {},
   "outputs": [
    {
     "name": "stdout",
     "output_type": "stream",
     "text": [
      "Quadrant 1\n",
      "/bin/esorex --output-dir=/home/mmarcano/Documents/VIMOS/NGC6652/data/NGC6652B5/2003-06-24T06:08:54/RawESOdata/quadrant1 --log-dir=/home/mmarcano/Documents/VIMOS/NGC6652/data/NGC6652B5/2003-06-24T06:08:54/RawESOdata/quadrant1 vmbias  /home/mmarcano/Documents/VIMOS/NGC6652/data/NGC6652B5/2003-06-24T06:08:54/RawESOdata/quadrant1/bias.sof\n",
      "/bin/esorex --output-dir=/home/mmarcano/Documents/VIMOS/NGC6652/data/NGC6652B5/2003-06-24T06:08:54/RawESOdata/quadrant1 --log-dir=/home/mmarcano/Documents/VIMOS/NGC6652/data/NGC6652B5/2003-06-24T06:08:54/RawESOdata/quadrant1 vmifucalib  /home/mmarcano/Documents/VIMOS/NGC6652/data/NGC6652B5/2003-06-24T06:08:54/RawESOdata/quadrant1/calib.sof\n",
      "/bin/esorex --output-dir=/home/mmarcano/Documents/VIMOS/NGC6652/data/NGC6652B5/2003-06-24T06:08:54/RawESOdata/quadrant1 --log-dir=/home/mmarcano/Documents/VIMOS/NGC6652/data/NGC6652B5/2003-06-24T06:08:54/RawESOdata/quadrant1 vmifustandard  /home/mmarcano/Documents/VIMOS/NGC6652/data/NGC6652B5/2003-06-24T06:08:54/RawESOdata/quadrant1/ifustandard.sof\n",
      "/bin/esorex --output-dir=/home/mmarcano/Documents/VIMOS/NGC6652/data/NGC6652B5/2003-06-24T06:08:54/RawESOdata/quadrant1 --log-dir=/home/mmarcano/Documents/VIMOS/NGC6652/data/NGC6652B5/2003-06-24T06:08:54/RawESOdata/quadrant1 vmifuscience --CalibrateFlux=true /home/mmarcano/Documents/VIMOS/NGC6652/data/NGC6652B5/2003-06-24T06:08:54/RawESOdata/quadrant1/ifuscience.sof\n",
      "Quadrant 4\n",
      "/bin/esorex --output-dir=/home/mmarcano/Documents/VIMOS/NGC6652/data/NGC6652B5/2003-06-24T06:08:54/RawESOdata/quadrant4 --log-dir=/home/mmarcano/Documents/VIMOS/NGC6652/data/NGC6652B5/2003-06-24T06:08:54/RawESOdata/quadrant4 vmbias  /home/mmarcano/Documents/VIMOS/NGC6652/data/NGC6652B5/2003-06-24T06:08:54/RawESOdata/quadrant4/bias.sof\n",
      "/bin/esorex --output-dir=/home/mmarcano/Documents/VIMOS/NGC6652/data/NGC6652B5/2003-06-24T06:08:54/RawESOdata/quadrant4 --log-dir=/home/mmarcano/Documents/VIMOS/NGC6652/data/NGC6652B5/2003-06-24T06:08:54/RawESOdata/quadrant4 vmifucalib  /home/mmarcano/Documents/VIMOS/NGC6652/data/NGC6652B5/2003-06-24T06:08:54/RawESOdata/quadrant4/calib.sof\n",
      "/bin/esorex --output-dir=/home/mmarcano/Documents/VIMOS/NGC6652/data/NGC6652B5/2003-06-24T06:08:54/RawESOdata/quadrant4 --log-dir=/home/mmarcano/Documents/VIMOS/NGC6652/data/NGC6652B5/2003-06-24T06:08:54/RawESOdata/quadrant4 vmifustandard  /home/mmarcano/Documents/VIMOS/NGC6652/data/NGC6652B5/2003-06-24T06:08:54/RawESOdata/quadrant4/ifustandard.sof\n",
      "/bin/esorex --output-dir=/home/mmarcano/Documents/VIMOS/NGC6652/data/NGC6652B5/2003-06-24T06:08:54/RawESOdata/quadrant4 --log-dir=/home/mmarcano/Documents/VIMOS/NGC6652/data/NGC6652B5/2003-06-24T06:08:54/RawESOdata/quadrant4 vmifuscience --CalibrateFlux=true /home/mmarcano/Documents/VIMOS/NGC6652/data/NGC6652B5/2003-06-24T06:08:54/RawESOdata/quadrant4/ifuscience.sof\n",
      "Quadrant 2\n",
      "/bin/esorex --output-dir=/home/mmarcano/Documents/VIMOS/NGC6652/data/NGC6652B5/2003-06-24T06:08:54/RawESOdata/quadrant2 --log-dir=/home/mmarcano/Documents/VIMOS/NGC6652/data/NGC6652B5/2003-06-24T06:08:54/RawESOdata/quadrant2 vmbias  /home/mmarcano/Documents/VIMOS/NGC6652/data/NGC6652B5/2003-06-24T06:08:54/RawESOdata/quadrant2/bias.sof\n",
      "/bin/esorex --output-dir=/home/mmarcano/Documents/VIMOS/NGC6652/data/NGC6652B5/2003-06-24T06:08:54/RawESOdata/quadrant2 --log-dir=/home/mmarcano/Documents/VIMOS/NGC6652/data/NGC6652B5/2003-06-24T06:08:54/RawESOdata/quadrant2 vmifucalib  /home/mmarcano/Documents/VIMOS/NGC6652/data/NGC6652B5/2003-06-24T06:08:54/RawESOdata/quadrant2/calib.sof\n",
      "/bin/esorex --output-dir=/home/mmarcano/Documents/VIMOS/NGC6652/data/NGC6652B5/2003-06-24T06:08:54/RawESOdata/quadrant2 --log-dir=/home/mmarcano/Documents/VIMOS/NGC6652/data/NGC6652B5/2003-06-24T06:08:54/RawESOdata/quadrant2 vmifustandard  /home/mmarcano/Documents/VIMOS/NGC6652/data/NGC6652B5/2003-06-24T06:08:54/RawESOdata/quadrant2/ifustandard.sof\n",
      "/bin/esorex --output-dir=/home/mmarcano/Documents/VIMOS/NGC6652/data/NGC6652B5/2003-06-24T06:08:54/RawESOdata/quadrant2 --log-dir=/home/mmarcano/Documents/VIMOS/NGC6652/data/NGC6652B5/2003-06-24T06:08:54/RawESOdata/quadrant2 vmifuscience --CalibrateFlux=true /home/mmarcano/Documents/VIMOS/NGC6652/data/NGC6652B5/2003-06-24T06:08:54/RawESOdata/quadrant2/ifuscience.sof\n",
      "Quadrant 3\n",
      "/bin/esorex --output-dir=/home/mmarcano/Documents/VIMOS/NGC6652/data/NGC6652B5/2003-06-24T06:08:54/RawESOdata/quadrant3 --log-dir=/home/mmarcano/Documents/VIMOS/NGC6652/data/NGC6652B5/2003-06-24T06:08:54/RawESOdata/quadrant3 vmbias  /home/mmarcano/Documents/VIMOS/NGC6652/data/NGC6652B5/2003-06-24T06:08:54/RawESOdata/quadrant3/bias.sof\n",
      "/bin/esorex --output-dir=/home/mmarcano/Documents/VIMOS/NGC6652/data/NGC6652B5/2003-06-24T06:08:54/RawESOdata/quadrant3 --log-dir=/home/mmarcano/Documents/VIMOS/NGC6652/data/NGC6652B5/2003-06-24T06:08:54/RawESOdata/quadrant3 vmifucalib  /home/mmarcano/Documents/VIMOS/NGC6652/data/NGC6652B5/2003-06-24T06:08:54/RawESOdata/quadrant3/calib.sof\n",
      "/bin/esorex --output-dir=/home/mmarcano/Documents/VIMOS/NGC6652/data/NGC6652B5/2003-06-24T06:08:54/RawESOdata/quadrant3 --log-dir=/home/mmarcano/Documents/VIMOS/NGC6652/data/NGC6652B5/2003-06-24T06:08:54/RawESOdata/quadrant3 vmifustandard  /home/mmarcano/Documents/VIMOS/NGC6652/data/NGC6652B5/2003-06-24T06:08:54/RawESOdata/quadrant3/ifustandard.sof\n",
      "/bin/esorex --output-dir=/home/mmarcano/Documents/VIMOS/NGC6652/data/NGC6652B5/2003-06-24T06:08:54/RawESOdata/quadrant3 --log-dir=/home/mmarcano/Documents/VIMOS/NGC6652/data/NGC6652B5/2003-06-24T06:08:54/RawESOdata/quadrant3 vmifuscience --CalibrateFlux=true /home/mmarcano/Documents/VIMOS/NGC6652/data/NGC6652B5/2003-06-24T06:08:54/RawESOdata/quadrant3/ifuscience.sof\n"
     ]
    }
   ],
   "source": [
    "reduceifu(datadir,rawdataq1)\n",
    "reduceifu(datadir,rawdataq4)\n",
    "reduceifu(datadir,rawdataq2)\n",
    "reduceifu(datadir,rawdataq3)\n",
    "\n",
    "\n"
   ]
  },
  {
   "cell_type": "code",
   "execution_count": 9,
   "metadata": {},
   "outputs": [
    {
     "data": {
      "text/plain": [
       "'a/ifucombinefovIFU_SCIENCE_FLUX_REDUCED.sof'"
      ]
     },
     "execution_count": 9,
     "metadata": {},
     "output_type": "execute_result"
    }
   ],
   "source": [
    "combinedir = 'a'\n",
    "typecombine='ifu_science_flux_reduced'\n",
    "filenamescombinecube = combinedir+'/ifucombinefov{}.sof'.format(typecombine.upper())\n",
    "filenamescombinecube"
   ]
  },
  {
   "cell_type": "code",
   "execution_count": 44,
   "metadata": {},
   "outputs": [
    {
     "name": "stdout",
     "output_type": "stream",
     "text": [
      "/bin/esorex --output-dir=/home/mmarcano/Documents/VIMOS/NGC6652/data/NGC6652B5/2003-06-24T06:08:54/RawESOdata/Combine --log-dir=/home/mmarcano/Documents/VIMOS/NGC6652/data/NGC6652B5/2003-06-24T06:08:54/RawESOdata/Combine vmifucombinecube /home/mmarcano/Documents/VIMOS/NGC6652/data/NGC6652B5/2003-06-24T06:08:54/RawESOdata/Combine/ifucombinefov.sof \n"
     ]
    },
    {
     "data": {
      "text/plain": [
       "0"
      ]
     },
     "execution_count": 44,
     "metadata": {},
     "output_type": "execute_result"
    }
   ],
   "source": [
    "def reducecombinecube(datadirectory,typecombine='ifu_science_flux_reduced'):\n",
    "    \"\"\"Or it can be 'IFU_SCIENCE_REDUCED' \"\"\"\n",
    "    datadir = datadirectory\n",
    "    \n",
    "    \n",
    "    combinedir = datadir+'Combine'\n",
    "\n",
    "    #Create outdir if it doesnt exist\n",
    "    if not os.path.exists(combinedir):\n",
    "        os.makedirs(combinedir)\n",
    "\n",
    "    filenamescombinecube = combinedir+'/ifucombinefov{}.sof'.format(typecombine.lower())\n",
    "\n",
    "    with open(filenamescombinecube,'w') as file:\n",
    "        for i in [1,2,3,4]:\n",
    "            fitstemp='{}quadrant{}/{}.fits'.format(datadir,i,typecombine.lower())\n",
    "            string = '{} {}\\n'.format(fitstemp,typecombine.upper())\n",
    "            file.write(string)\n",
    "\n",
    "    esorexpath = '/bin/esorex'\n",
    "    outputdir = '--output-dir={}'.format(combinedir)\n",
    "    logdir = '--log-dir={}'.format(combinedir)\n",
    "    routine = 'vmifucombinecube'\n",
    "    command = '{} {} {} {} {} '.format(esorexpath,outputdir,logdir,routine, filenamescombinecube)\n",
    "    print(command)\n",
    "    os.system(command)"
   ]
  },
  {
   "cell_type": "code",
   "execution_count": 45,
   "metadata": {},
   "outputs": [
    {
     "name": "stdout",
     "output_type": "stream",
     "text": [
      "/bin/esorex --output-dir=/home/mmarcano/Documents/VIMOS/NGC6652/data/NGC6652B5/2003-06-24T06:08:54/RawESOdata/Combine --log-dir=/home/mmarcano/Documents/VIMOS/NGC6652/data/NGC6652B5/2003-06-24T06:08:54/RawESOdata/Combine vmifucombinecube /home/mmarcano/Documents/VIMOS/NGC6652/data/NGC6652B5/2003-06-24T06:08:54/RawESOdata/Combine/ifucombinefov.sof \n"
     ]
    },
    {
     "data": {
      "text/plain": [
       "0"
      ]
     },
     "execution_count": 45,
     "metadata": {},
     "output_type": "execute_result"
    }
   ],
   "source": [
    "combinedir = datadir+'Combine'\n",
    "\n",
    "#Create outdir if it doesnt exist\n",
    "if not os.path.exists(combinedir):\n",
    "    os.makedirs(combinedir)\n",
    "\n",
    "\n",
    "\n",
    "filenamescombinecube = combinedir+'/ifucombinefov.sof'\n",
    "\n",
    "with open(filenamescombinecube,'w') as file:\n",
    "    for i in [1,2,3,4]:\n",
    "        fitstemp='{}quadrant{}/ifu_science_reduced.fits'.format(datadir,i)\n",
    "        string = '{} {}\\n'.format(fitstemp,'IFU_SCIENCE_REDUCED')\n",
    "        file.write(string)\n",
    "        \n",
    "esorexpath = '/bin/esorex'\n",
    "outputdir = '--output-dir={}'.format(combinedir)\n",
    "logdir = '--log-dir={}'.format(combinedir)\n",
    "routine = 'vmifucombinecube'\n",
    "command = '{} {} {} {} {} '.format(esorexpath,outputdir,logdir,routine, filenamescombinecube)\n",
    "print(command)\n",
    "os.system(command)"
   ]
  },
  {
   "cell_type": "code",
   "execution_count": null,
   "metadata": {},
   "outputs": [],
   "source": []
  }
 ],
 "metadata": {
  "kernelspec": {
   "display_name": "Python 3",
   "language": "python",
   "name": "python3"
  },
  "language_info": {
   "codemirror_mode": {
    "name": "ipython",
    "version": 3
   },
   "file_extension": ".py",
   "mimetype": "text/x-python",
   "name": "python",
   "nbconvert_exporter": "python",
   "pygments_lexer": "ipython3",
   "version": "3.6.5"
  }
 },
 "nbformat": 4,
 "nbformat_minor": 2
}
