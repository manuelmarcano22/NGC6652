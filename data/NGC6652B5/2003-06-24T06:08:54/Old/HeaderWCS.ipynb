{
 "cells": [
  {
   "cell_type": "markdown",
   "metadata": {},
   "source": [
    "# Modify the header of the fits file"
   ]
  },
  {
   "cell_type": "code",
   "execution_count": 5,
   "metadata": {},
   "outputs": [],
   "source": [
    "from astropy.io import fits\n",
    "import os"
   ]
  },
  {
   "cell_type": "code",
   "execution_count": 11,
   "metadata": {},
   "outputs": [],
   "source": [
    "def changewcs(original,destination):\n",
    "    originalcube = original\n",
    "    newcube = destination\n",
    "    \n",
    "    copyfile = 'cp {} {}'.format(originalcube,newcube)\n",
    "    os.system(copyfile)\n",
    "    fits.info(newcube)\n",
    "    oricube = fits.open(originalcube)\n",
    "    oricubehearder = oricube[0].header\n",
    "    ifura = oricubehearder['HIERARCH ESO INS IFU RA']\n",
    "    ifudec = oricubehearder['HIERARCH ESO INS IFU DEC']\n",
    "    \n",
    "    fits.setval(newcube, 'CRVAL1', value=ifura)\n",
    "    fits.setval(newcube, 'CRVAL2', value=ifudec)\n",
    "\n",
    "    \n",
    "    "
   ]
  },
  {
   "cell_type": "code",
   "execution_count": 12,
   "metadata": {},
   "outputs": [
    {
     "name": "stdout",
     "output_type": "stream",
     "text": [
      "Filename: RawESOdata/Combine/ifu_science_cube_wcscorrected.fits\n",
      "No.    Name      Ver    Type      Cards   Dimensions   Format\n",
      "  0  PRIMARY       1 PrimaryHDU     272   (40, 40, 4259)   float32   \n"
     ]
    }
   ],
   "source": [
    "changewcs('RawESOdata/Combine/ifu_science_cube.fits','RawESOdata/Combine/ifu_science_cube_wcscorrected.fits')"
   ]
  },
  {
   "cell_type": "code",
   "execution_count": null,
   "metadata": {},
   "outputs": [],
   "source": []
  },
  {
   "cell_type": "code",
   "execution_count": null,
   "metadata": {},
   "outputs": [],
   "source": []
  },
  {
   "cell_type": "code",
   "execution_count": 31,
   "metadata": {},
   "outputs": [],
   "source": [
    "originalcube = 'RawESOdata/Combine/ifu_science_flux_cube.fits'\n",
    "newcube = 'RawESOdata/Combine/ifu_science_flux_cube_wcscorrected.fits'\n",
    "copyfile = 'cp {} {}'.format(originalcube,newcdube)\n",
    "#os.system(copyfile)"
   ]
  },
  {
   "cell_type": "code",
   "execution_count": 32,
   "metadata": {},
   "outputs": [
    {
     "name": "stdout",
     "output_type": "stream",
     "text": [
      "Filename: RawESOdata/Combine/ifu_science_flux_cube_wcscorrected.fits\n",
      "No.    Name      Ver    Type      Cards   Dimensions   Format\n",
      "  0  PRIMARY       1 PrimaryHDU     272   (40, 40, 4259)   float32   \n"
     ]
    }
   ],
   "source": [
    "fits.info(newcube)"
   ]
  },
  {
   "cell_type": "code",
   "execution_count": 33,
   "metadata": {},
   "outputs": [],
   "source": [
    "oricube = fits.open(originalcube)\n",
    "oricubehearder = oricube[0].header\n",
    "ifura = oricubehearder['HIERARCH ESO INS IFU RA']\n",
    "ifudec = oricubehearder['HIERARCH ESO INS IFU DEC']"
   ]
  },
  {
   "cell_type": "code",
   "execution_count": 34,
   "metadata": {},
   "outputs": [],
   "source": [
    "fits.setval(newcube, 'CRVAL1', value=ifura)\n",
    "fits.setval(newcube, 'CRVAL2', value=ifudec)"
   ]
  },
  {
   "cell_type": "code",
   "execution_count": null,
   "metadata": {},
   "outputs": [],
   "source": []
  },
  {
   "cell_type": "code",
   "execution_count": 35,
   "metadata": {},
   "outputs": [
    {
     "name": "stdout",
     "output_type": "stream",
     "text": [
      "HeaderWCS.ipynb  qc0001.paf  qc0003.paf   Reduce.ipynb\n",
      "qc0000.paf       qc0002.paf  \u001b[0m\u001b[01;34mRawESOdata\u001b[0m/\n"
     ]
    }
   ],
   "source": [
    "ls"
   ]
  },
  {
   "cell_type": "code",
   "execution_count": 36,
   "metadata": {},
   "outputs": [
    {
     "data": {
      "text/plain": [
       "'/home/mmarcano/Documents/VIMOS/NGC6652/data/NGC6652B5/2003-06-24T06:08:54'"
      ]
     },
     "execution_count": 36,
     "metadata": {},
     "output_type": "execute_result"
    }
   ],
   "source": [
    "pwd"
   ]
  },
  {
   "cell_type": "code",
   "execution_count": null,
   "metadata": {},
   "outputs": [],
   "source": []
  }
 ],
 "metadata": {
  "kernelspec": {
   "display_name": "Python 3",
   "language": "python",
   "name": "python3"
  },
  "language_info": {
   "codemirror_mode": {
    "name": "ipython",
    "version": 3
   },
   "file_extension": ".py",
   "mimetype": "text/x-python",
   "name": "python",
   "nbconvert_exporter": "python",
   "pygments_lexer": "ipython3",
   "version": "3.6.5"
  }
 },
 "nbformat": 4,
 "nbformat_minor": 2
}
