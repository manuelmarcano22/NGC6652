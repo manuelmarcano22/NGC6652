{
 "cells": [
  {
   "cell_type": "code",
   "execution_count": 2,
   "metadata": {},
   "outputs": [
    {
     "name": "stderr",
     "output_type": "stream",
     "text": [
      "/home/mmarcano/anaconda3/envs/ngc6652/lib/python3.6/site-packages/mpl_toolkits/axes_grid/__init__.py:12: MatplotlibDeprecationWarning: \n",
      "The mpl_toolkits.axes_grid module was deprecated in Matplotlib 2.1 and will be removed two minor releases later. Use mpl_toolkits.axes_grid1 and mpl_toolkits.axisartist provies the same functionality instead.\n",
      "  obj_type='module')\n"
     ]
    }
   ],
   "source": [
    "from astropy.io import fits\n",
    "from spectral_cube import SpectralCube\n",
    "from astropy import units as u\n",
    "import matplotlib\n",
    "import aplpy\n",
    "%matplotlib inline"
   ]
  },
  {
   "cell_type": "markdown",
   "metadata": {},
   "source": [
    "# Define the directories"
   ]
  },
  {
   "cell_type": "code",
   "execution_count": 3,
   "metadata": {},
   "outputs": [],
   "source": [
    "datadir = '/home/mmarcano/Documents/VIMOS/NGC6652/data/NGC6652B4/2003-06-24T04:24:10/RawESOdata/'\n",
    "cubepath = datadir+'Combine/ifu_science_flux_cube_wcscorrected.fits'\n",
    "productdir = datadir +'Combine/'"
   ]
  },
  {
   "cell_type": "markdown",
   "metadata": {},
   "source": [
    "## Open and read the cube"
   ]
  },
  {
   "cell_type": "code",
   "execution_count": 4,
   "metadata": {},
   "outputs": [],
   "source": [
    "file = fits.open(cubepath)\n",
    "cube = SpectralCube.read(file[0])"
   ]
  },
  {
   "cell_type": "code",
   "execution_count": 5,
   "metadata": {},
   "outputs": [
    {
     "name": "stdout",
     "output_type": "stream",
     "text": [
      "SpectralCube with shape=(4259, 40, 40):\n",
      " n_x:     40  type_x: RA---TAN  unit_x: deg    range:   278.934116 deg:  278.938379 deg\n",
      " n_y:     40  type_y: DEC--TAN  unit_y: deg    range:   -32.996693 deg:  -32.993118 deg\n",
      " n_s:   4259  type_s: WAVE      unit_s: Angstrom  range:     4000.000 Angstrom:    8258.000 Angstrom\n"
     ]
    },
    {
     "name": "stderr",
     "output_type": "stream",
     "text": [
      "/home/mmarcano/anaconda3/envs/ngc6652/lib/python3.6/site-packages/spectral_cube/base_class.py:99: FutureWarning: Using a non-tuple sequence for multidimensional indexing is deprecated; use `arr[tuple(seq)]` instead of `arr[seq]`. In the future this will be interpreted as an array index, `arr[np.array(seq)]`, which will result either in an error or a different result.\n",
      "  inds = [i[view] for i in inds[::-1]]  # numpy -> wcs order\n"
     ]
    }
   ],
   "source": [
    "print(cube)"
   ]
  },
  {
   "cell_type": "markdown",
   "metadata": {},
   "source": [
    "### Extract $\\pm 3$ to $H\\beta$ 4861 A"
   ]
  },
  {
   "cell_type": "code",
   "execution_count": 6,
   "metadata": {},
   "outputs": [
    {
     "name": "stderr",
     "output_type": "stream",
     "text": [
      "/home/mmarcano/anaconda3/envs/ngc6652/lib/python3.6/site-packages/spectral_cube/utils.py:39: UserWarning: This function (<function BaseSpectralCube.sum at 0x7f357c790d90>) requires loading the entire cube into memory and may therefore be slow.\n",
      "  \"memory and may therefore be slow.\".format(str(function)))\n"
     ]
    }
   ],
   "source": [
    "linebeta = 4861.\n",
    "\n",
    "mom0line = cube.spectral_slab((linebeta-5.)*u.AA, (linebeta+5.)*u.AA).sum(axis=0)\n",
    "mom0line.write(productdir+'betaline.fits', overwrite=True)"
   ]
  },
  {
   "cell_type": "markdown",
   "metadata": {},
   "source": [
    "The only way I figures to easily display the resulting image is to safe it as a fits file and imported and plot it using aply. There are probably better ways but .."
   ]
  },
  {
   "cell_type": "code",
   "execution_count": 8,
   "metadata": {},
   "outputs": [
    {
     "name": "stdout",
     "output_type": "stream",
     "text": [
      "INFO: Auto-setting vmin to -1.123e+00 [aplpy.core]\n",
      "INFO: Auto-setting vmax to  1.247e+01 [aplpy.core]\n"
     ]
    },
    {
     "data": {
      "image/png": "[encoded data removed]",
      "text/plain": [
       "<Figure size 720x648 with 1 Axes>"
      ]
     },
     "metadata": {},
     "output_type": "display_data"
    }
   ],
   "source": [
    "hebtaimage = aplpy.FITSFigure(productdir+'betaline.fits')\n",
    "hebtaimage.show_grayscale()\n"
   ]
  },
  {
   "cell_type": "markdown",
   "metadata": {},
   "source": [
    "## Extract \"Continium\"\n"
   ]
  },
  {
   "cell_type": "code",
   "execution_count": 9,
   "metadata": {},
   "outputs": [
    {
     "name": "stderr",
     "output_type": "stream",
     "text": [
      "/home/mmarcano/anaconda3/envs/ngc6652/lib/python3.6/site-packages/spectral_cube/utils.py:39: UserWarning: This function (<function BaseSpectralCube.sum at 0x7f357c790d90>) requires loading the entire cube into memory and may therefore be slow.\n",
      "  \"memory and may therefore be slow.\".format(str(function)))\n"
     ]
    }
   ],
   "source": [
    "contilines = 4550\n",
    "mom0cont = cube.spectral_slab((contilines-5.)*u.AA, (contilines+5.)*u.AA).sum(axis=0)\n",
    "mom0cont.hdu.writeto(productdir+'contslab.fits', overwrite=True)\n"
   ]
  },
  {
   "cell_type": "code",
   "execution_count": 10,
   "metadata": {},
   "outputs": [
    {
     "name": "stdout",
     "output_type": "stream",
     "text": [
      "INFO: Auto-setting vmin to -8.964e-01 [aplpy.core]\n",
      "INFO: Auto-setting vmax to  9.950e+00 [aplpy.core]\n"
     ]
    },
    {
     "data": {
      "image/png": "[encoded data removed]",
      "text/plain": [
       "<Figure size 720x648 with 1 Axes>"
      ]
     },
     "metadata": {},
     "output_type": "display_data"
    }
   ],
   "source": [
    "figcont = aplpy.FITSFigure(productdir+'contslab.fits')\n",
    "figcont.show_grayscale()\n"
   ]
  },
  {
   "cell_type": "markdown",
   "metadata": {},
   "source": [
    "# The difference"
   ]
  },
  {
   "cell_type": "code",
   "execution_count": 16,
   "metadata": {},
   "outputs": [
    {
     "name": "stderr",
     "output_type": "stream",
     "text": [
      "WARNING: A 'NAXIS1' keyword already exists in this header.  Inserting duplicate keyword. [astropy.io.fits.header]\n"
     ]
    },
    {
     "name": "stdout",
     "output_type": "stream",
     "text": [
      "INFO: Auto-setting vmin to -5.173e+00 [aplpy.core]\n",
      "INFO: Auto-setting vmax to  3.519e+00 [aplpy.core]\n"
     ]
    },
    {
     "data": {
      "image/png": "[encoded data removed]",
      "text/plain": [
       "<Figure size 720x648 with 1 Axes>"
      ]
     },
     "metadata": {},
     "output_type": "display_data"
    }
   ],
   "source": [
    "resta = mom0cont - mom0line\n",
    "resta.hdu.writeto(productdir+'resta.fits', overwrite=True)\n",
    "figresta = aplpy.FITSFigure(productdir+'resta.fits')\n",
    "figresta.show_grayscale(stretch='arcsinh', vmin=-2, vmax=10,invert=True)\n",
    "figresta.show_grayscale()\n",
    "#figresta.add_colorbar()"
   ]
  },
  {
   "cell_type": "code",
   "execution_count": 12,
   "metadata": {},
   "outputs": [
    {
     "name": "stdout",
     "output_type": "stream",
     "text": [
      "Max: 12.460122108459473\n"
     ]
    }
   ],
   "source": [
    "print('Max: {}'.format(resta.max()))\n",
    "restanp = np.array(resta)"
   ]
  },
  {
   "cell_type": "code",
   "execution_count": 13,
   "metadata": {},
   "outputs": [
    {
     "name": "stdout",
     "output_type": "stream",
     "text": [
      "Above zero: 263\n"
     ]
    }
   ],
   "source": [
    "listawhere = np.where(restanp > 0)\n",
    "yx = list(zip(listawhere[0],listawhere[1]))\n",
    "print(\"Above zero: {}\".format(len(yx)))"
   ]
  },
  {
   "cell_type": "markdown",
   "metadata": {},
   "source": [
    "This gives me the row and column of the column minus one since Python counts from 0. First one is y and second is x in the ds9 image"
   ]
  },
  {
   "cell_type": "code",
   "execution_count": 14,
   "metadata": {},
   "outputs": [
    {
     "name": "stderr",
     "output_type": "stream",
     "text": [
      "WARNING: A 'NAXIS1' keyword already exists in this header.  Inserting duplicate keyword. [astropy.io.fits.header]\n"
     ]
    },
    {
     "data": {
      "image/png": "[encoded data removed]",
      "text/plain": [
       "<Figure size 720x648 with 1 Axes>"
      ]
     },
     "metadata": {},
     "output_type": "display_data"
    }
   ],
   "source": [
    "resta = mom0cont - mom0line\n",
    "resta.hdu.writeto(productdir+'resta.fits', overwrite=True)\n",
    "figresta = aplpy.FITSFigure(productdir+'resta.fits')\n",
    "figresta.show_grayscale(stretch='arcsinh', vmin=0, vmax=50,invert=True)"
   ]
  },
  {
   "cell_type": "code",
   "execution_count": null,
   "metadata": {},
   "outputs": [],
   "source": []
  }
 ],
 "metadata": {
  "kernelspec": {
   "display_name": "Python 3",
   "language": "python",
   "name": "python3"
  },
  "language_info": {
   "codemirror_mode": {
    "name": "ipython",
    "version": 3
   },
   "file_extension": ".py",
   "mimetype": "text/x-python",
   "name": "python",
   "nbconvert_exporter": "python",
   "pygments_lexer": "ipython3",
   "version": "3.6.5"
  }
 },
 "nbformat": 4,
 "nbformat_minor": 2
}
