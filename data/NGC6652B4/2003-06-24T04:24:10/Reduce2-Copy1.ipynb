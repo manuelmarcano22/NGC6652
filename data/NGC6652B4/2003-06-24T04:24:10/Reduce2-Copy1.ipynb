{
 "cells": [
  {
   "cell_type": "code",
   "execution_count": 3,
   "metadata": {},
   "outputs": [],
   "source": [
    "import sys\n",
    "sys.path.append('../../')\n",
    "from reducing import reduceifu,reducecombinecube, changewcs"
   ]
  },
  {
   "cell_type": "markdown",
   "metadata": {},
   "source": [
    "# 2003-06-24T04:24:10\n",
    "\n",
    "\n",
    "Nightlog information for file VIMOS.2003-06-24T04:24:10.847 <br/>\n",
    "OB grade: C)Out of specs - Repeat <br/>\n",
    "Comment: Pointing off by 4-5\" south (given a 13\"x13\" field) - **user's source is at edge of field, could still be useful but will be repeated**\n",
    "\n",
    "                  Requested    Fulfilled?\n",
    "    Seeing:           1.20          Yes\n",
    "    Airmass:          1.50          Yes\n",
    "    Moon Distance:    90          Yes\n",
    "    Sky Transparency: 3THN          Yes\n",
    "    Strehl Ratio:     0.000          N/A\n"
   ]
  },
  {
   "cell_type": "code",
   "execution_count": 4,
   "metadata": {},
   "outputs": [
    {
     "name": "stdout",
     "output_type": "stream",
     "text": [
      "MOS 3 VIMOS.2003-06-24T11:29:50.114.fits\n",
      "MOS 3 VIMOS.2003-06-24T11:28:56.626.fits\n",
      "MOS 3 VIMOS.2003-06-23T14:49:27.031.fits\n",
      "IFU 4 VIMOS.2003-06-24T10:44:42.777.fits\n",
      "MOS 1 VIMOS.2003-06-24T11:28:03.627.fits\n",
      "MOS 4 VIMOS.2003-06-24T11:28:03.628.fits\n",
      "MOS 4 VIMOS.2003-06-23T14:51:12.022.fits\n",
      "MOS 2 VIMOS.2003-06-24T11:30:43.334.fits\n",
      "IFU 3 VIMOS.2003-06-24T10:45:54.301.fits\n",
      "MOS 4 VIMOS.2003-06-24T11:28:56.487.fits\n",
      "MOS 3 VIMOS.2003-06-24T11:28:03.763.fits\n",
      "MOS 4 VIMOS.2003-06-23T14:50:19.473.fits\n",
      "MOS 1 VIMOS.2003-06-23T14:52:04.693.fits\n",
      "MOS 2 VIMOS.2003-06-24T11:29:50.113.fits\n",
      "MOS 3 VIMOS.2003-06-23T14:52:04.865.fits\n",
      "MOS 1 VIMOS.2003-06-23T14:51:12.021.fits\n",
      "MOS 1 VIMOS.2003-06-24T11:30:43.186.fits\n",
      "IFU 2 VIMOS.2003-06-24T10:44:42.923.fits\n",
      "MOS 4 VIMOS.2003-06-24T11:30:43.187.fits\n",
      "MOS 1 VIMOS.2003-06-23T14:50:19.472.fits\n",
      "MOS 3 VIMOS.2003-06-24T11:30:43.335.fits\n",
      "MOS 4 VIMOS.2003-06-23T14:49:26.873.fits\n",
      "MOS 1 VIMOS.2003-06-23T14:49:26.872.fits\n",
      "MOS 2 VIMOS.2003-06-24T11:28:03.762.fits\n",
      "IFU 3 VIMOS.2003-06-24T10:43:31.778.fits\n",
      "IFU 4 VIMOS.2003-06-24T10:43:31.637.fits\n",
      "MOS 4 VIMOS.2003-06-23T14:52:04.694.fits\n",
      "IFU 1 VIMOS.2003-06-24T10:45:54.168.fits\n",
      "MOS 2 VIMOS.2003-06-23T14:51:12.165.fits\n",
      "MOS 4 VIMOS.2003-06-24T11:29:49.974.fits\n",
      "IFU 2 VIMOS.2003-06-24T10:45:54.300.fits\n",
      "IFU 2 VIMOS.2003-06-24T10:43:31.777.fits\n",
      "MOS 2 VIMOS.2003-06-23T14:49:27.030.fits\n",
      "MOS 4 VIMOS.2003-06-24T11:27:11.125.fits\n",
      "MOS 3 VIMOS.2003-06-23T14:50:19.638.fits\n",
      "MOS 1 VIMOS.2003-06-24T11:28:56.486.fits\n",
      "IFU 1 VIMOS.2003-06-24T10:43:31.636.fits\n",
      "IFU 3 VIMOS.2003-06-24T10:44:42.924.fits\n",
      "MOS 1 VIMOS.2003-06-23T14:48:34.459.fits\n",
      "MOS 2 VIMOS.2003-06-24T11:28:56.625.fits\n",
      "MOS 2 VIMOS.2003-06-23T14:52:04.864.fits\n",
      "MOS 4 VIMOS.2003-06-23T14:48:34.460.fits\n",
      "IFU 1 VIMOS.2003-06-24T10:44:42.776.fits\n",
      "MOS 2 VIMOS.2003-06-24T11:27:11.267.fits\n",
      "MOS 3 VIMOS.2003-06-23T14:51:12.166.fits\n",
      "MOS 2 VIMOS.2003-06-23T14:48:34.615.fits\n",
      "IFU 4 VIMOS.2003-06-24T10:45:54.169.fits\n",
      "MOS 1 VIMOS.2003-06-24T11:27:11.124.fits\n",
      "MOS 3 VIMOS.2003-06-23T14:48:34.616.fits\n",
      "MOS 2 VIMOS.2003-06-23T14:50:19.637.fits\n",
      "MOS 3 VIMOS.2003-06-24T11:27:11.268.fits\n",
      "MOS 1 VIMOS.2003-06-24T11:29:49.973.fits\n"
     ]
    }
   ],
   "source": [
    "import glob\n",
    "from astropy.io import fits\n",
    "l =glob.glob('RawESOdata/*.fits')\n",
    "for i in l:\n",
    "    temp = fits.open(i)\n",
    "    try:\n",
    "        cat = temp[0].header['HIERARCH ESO DPR CATG']\n",
    "        cattype = temp[0].header['HIERARCH ESO DPR TYPE']\n",
    "        quad = temp[0].header['HIERARCH ESO OCS CON QUAD']\n",
    "        mode = temp[0].header['HIERARCH ESO INS MODE']\n",
    "        if cattype == 'FLAT,LAMP':\n",
    "            print(mode,quad,i.split('/')[1])\n",
    "        if cattype == 'BIAS':\n",
    "            print(mode,quad,i.split('/')[1])\n",
    "    except:\n",
    "        pass"
   ]
  },
  {
   "cell_type": "code",
   "execution_count": 6,
   "metadata": {},
   "outputs": [
    {
     "name": "stdout",
     "output_type": "stream",
     "text": [
      "bias MOS 1 VIMOS.2003-06-24T11:28:03.627.fits\n",
      "bias MOS 1 VIMOS.2003-06-23T14:52:04.693.fits\n",
      "bias MOS 1 VIMOS.2003-06-23T14:51:12.021.fits\n",
      "bias MOS 1 VIMOS.2003-06-24T11:30:43.186.fits\n",
      "bias MOS 1 VIMOS.2003-06-23T14:50:19.472.fits\n",
      "bias MOS 1 VIMOS.2003-06-23T14:49:26.872.fits\n",
      "flat IFU 1 VIMOS.2003-06-24T10:45:54.168.fits\n",
      "bias MOS 1 VIMOS.2003-06-24T11:28:56.486.fits\n",
      "flat IFU 1 VIMOS.2003-06-24T10:43:31.636.fits\n",
      "bias MOS 1 VIMOS.2003-06-23T14:48:34.459.fits\n",
      "flat IFU 1 VIMOS.2003-06-24T10:44:42.776.fits\n",
      "bias MOS 1 VIMOS.2003-06-24T11:27:11.124.fits\n",
      "bias MOS 1 VIMOS.2003-06-24T11:29:49.973.fits\n"
     ]
    }
   ],
   "source": [
    "import glob\n",
    "from astropy.io import fits\n",
    "l =glob.glob('RawESOdata/*.fits')\n",
    "for i in l:\n",
    "    temp = fits.open(i)\n",
    "    try:\n",
    "        cat = temp[0].header['HIERARCH ESO DPR CATG']\n",
    "        cattype = temp[0].header['HIERARCH ESO DPR TYPE']\n",
    "        quad = temp[0].header['HIERARCH ESO OCS CON QUAD']\n",
    "        mode = temp[0].header['HIERARCH ESO INS MODE']\n",
    "        if quad == 1:\n",
    "            if cattype == 'FLAT,LAMP':\n",
    "                print('flat',mode,quad,i.split('/')[1])\n",
    "            if cattype == 'BIAS':\n",
    "                print('bias',mode,quad,i.split('/')[1])\n",
    "    except:\n",
    "        pass"
   ]
  },
  {
   "cell_type": "code",
   "execution_count": 2,
   "metadata": {},
   "outputs": [],
   "source": [
    "datadir = '/home/mmarcano/Documents/VIMOS/NGC6652/data/NGC6652B4/2003-06-24T04:24:10/RawESOdata/'\n",
    "\n",
    "rawdataq1 = {'IFU_SCIENCE':'VIMOS.2003-06-24T04:24:10.847.fits',\n",
    "           'LINE_CATALOG':'M.VIMOS.2008-06-17T18:11:18.672.fits',\n",
    "          'EXTINCT_TABLE':'M.VIMOS.2008-06-17T18:12:53.176.fits',\n",
    "          'STD_FLUX_TABLE':'M.VIMOS.2008-06-17T18:13:13.956.fits',\n",
    "           'IFU_IDENT':'M.VIMOS.2008-06-17T18:16:03.380.fits',\n",
    "           'IFU_MASTER_RESPONSE':'M.VIMOS.2008-06-17T18:20:40.981.fits',\n",
    "           'BIAS':['VIMOS.2003-06-23T14:48:34.459.fits','VIMOS.2003-06-23T14:49:26.872.fits','VIMOS.2003-06-23T14:50:19.472.fits','VIMOS.2003-06-23T14:51:12.021.fits','VIMOS.2003-06-23T14:52:04.693.fits',\n",
    "                  'VIMOS.2003-06-24T11:27:11.124.fits','VIMOS.2003-06-24T11:28:03.627.fits','VIMOS.2003-06-24T11:28:56.486.fits','VIMOS.2003-06-24T11:29:49.973.fits','VIMOS.2003-06-24T11:30:43.186.fits'],\n",
    "           'IFU_ARC_SPECTRUM':['VIMOS.2003-06-24T05:41:51.285.fits'],\n",
    "           'IFU_STANDARD':'VIMOS.2003-06-24T10:26:46.402.fits',\n",
    "           'IFU_SCREEN_FLAT':['VIMOS.2003-06-24T10:43:31.636.fits','VIMOS.2003-06-24T10:44:42.776.fits','VIMOS.2003-06-24T10:45:54.168.fits']}\n",
    "\n",
    "\n",
    "rawdataq4 = {'IFU_SCIENCE':'VIMOS.2003-06-24T04:24:10.848.fits',\n",
    "           'LINE_CATALOG':'M.VIMOS.2008-06-17T18:11:31.782.fits',\n",
    "          'EXTINCT_TABLE':'M.VIMOS.2008-06-17T18:12:53.176.fits',\n",
    "          'STD_FLUX_TABLE':'M.VIMOS.2008-06-17T18:13:13.956.fits',\n",
    "           'IFU_IDENT':'M.VIMOS.2008-06-17T18:16:12.090.fits',\n",
    "           'IFU_MASTER_RESPONSE':'M.VIMOS.2008-06-17T18:20:50.827.fits',\n",
    "           'BIAS':['VIMOS.2003-06-23T14:48:34.460.fits','VIMOS.2003-06-23T14:49:26.873.fits','VIMOS.2003-06-23T14:50:19.473.fits','VIMOS.2003-06-23T14:51:12.022.fits','VIMOS.2003-06-23T14:52:04.694.fits',\n",
    "                  'VIMOS.2003-06-24T11:27:11.125.fits','VIMOS.2003-06-24T11:28:03.628.fits','VIMOS.2003-06-24T11:28:56.487.fits','VIMOS.2003-06-24T11:29:49.974.fits','VIMOS.2003-06-24T11:30:43.187.fits'],\n",
    "           'IFU_ARC_SPECTRUM':'VIMOS.2003-06-24T05:41:51.286.fits',\n",
    "           'IFU_STANDARD':'VIMOS.2003-06-24T10:38:01.522.fits',\n",
    "           'IFU_SCREEN_FLAT':['VIMOS.2003-06-24T10:43:31.637.fits','VIMOS.2003-06-24T10:44:42.777.fits','VIMOS.2003-06-24T10:45:54.169.fits']\n",
    "          }\n",
    "\n",
    "\n",
    "rawdataq2 = {'IFU_SCIENCE':'VIMOS.2003-06-24T04:24:10.986.fits',\n",
    "           'LINE_CATALOG':'M.VIMOS.2008-06-17T18:11:23.749.fits',\n",
    "          'EXTINCT_TABLE':'M.VIMOS.2008-06-17T18:12:53.176.fits',\n",
    "          'STD_FLUX_TABLE':'M.VIMOS.2008-06-17T18:13:13.956.fits',\n",
    "           'IFU_IDENT':'M.VIMOS.2008-06-17T18:16:06.327.fits',\n",
    "           'IFU_MASTER_RESPONSE':'M.VIMOS.2008-06-17T18:20:44.067.fits',\n",
    "           'BIAS':['VIMOS.2003-06-23T14:48:34.615.fits','VIMOS.2003-06-23T14:49:27.030.fits','VIMOS.2003-06-23T14:50:19.637.fits','VIMOS.2003-06-23T14:51:12.165.fits','VIMOS.2003-06-23T14:52:04.864.fits',\n",
    "                  'VIMOS.2003-06-24T11:27:11.267.fits','VIMOS.2003-06-24T11:28:03.762.fits','VIMOS.2003-06-24T11:28:56.625.fits','VIMOS.2003-06-24T11:29:50.113.fits','VIMOS.2003-06-24T11:30:43.334.fits'],\n",
    "           'IFU_ARC_SPECTRUM':'VIMOS.2003-06-24T05:41:51.424.fits',\n",
    "           'IFU_STANDARD':'VIMOS.2003-06-24T10:30:31.616.fits',\n",
    "           'IFU_SCREEN_FLAT':['VIMOS.2003-06-24T10:43:31.777.fits','VIMOS.2003-06-24T10:44:42.923.fits','VIMOS.2003-06-24T10:45:54.300.fits']\n",
    "          }\n",
    "\n",
    "\n",
    "rawdataq3 = {'IFU_SCIENCE':'VIMOS.2003-06-24T04:24:10.987.fits',\n",
    "           'LINE_CATALOG':'M.VIMOS.2008-06-17T18:11:28.741.fits',\n",
    "          'EXTINCT_TABLE':'M.VIMOS.2008-06-17T18:12:53.176.fits',\n",
    "          'STD_FLUX_TABLE':'M.VIMOS.2008-06-17T18:13:13.956.fits',\n",
    "           'IFU_IDENT':'M.VIMOS.2008-06-17T18:16:09.125.fits',\n",
    "           'IFU_MASTER_RESPONSE':'M.VIMOS.2008-06-17T18:20:47.901.fits',\n",
    "           'BIAS':['VIMOS.2003-06-23T14:48:34.616.fits','VIMOS.2003-06-23T14:49:27.031.fits','VIMOS.2003-06-23T14:50:19.638.fits','VIMOS.2003-06-23T14:51:12.166.fits','VIMOS.2003-06-23T14:52:04.865.fits',\n",
    "                  'VIMOS.2003-06-24T11:27:11.268.fits','VIMOS.2003-06-24T11:28:03.763.fits','VIMOS.2003-06-24T11:28:56.626.fits','VIMOS.2003-06-24T11:29:50.114.fits','VIMOS.2003-06-24T11:30:43.335.fits'],\n",
    "           'IFU_ARC_SPECTRUM':'VIMOS.2003-06-24T05:41:51.425.fits',\n",
    "           'IFU_STANDARD':'VIMOS.2003-06-24T10:34:16.581.fits',\n",
    "           'IFU_SCREEN_FLAT':['VIMOS.2003-06-24T10:43:31.778.fits','VIMOS.2003-06-24T10:44:42.924.fits','VIMOS.2003-06-24T10:45:54.301.fits']\n",
    "          }"
   ]
  },
  {
   "cell_type": "code",
   "execution_count": 5,
   "metadata": {},
   "outputs": [
    {
     "name": "stdout",
     "output_type": "stream",
     "text": [
      "Quadrant 1\n",
      "/home/mmarcano/Documents/VIMOS/NGC6652/esorex/bin/esorex --output-dir=/home/mmarcano/Documents/VIMOS/NGC6652/data/NGC6652B4/2003-06-24T04:24:10/RawESOdata/quadrant1 --log-dir=/home/mmarcano/Documents/VIMOS/NGC6652/data/NGC6652B4/2003-06-24T04:24:10/RawESOdata/quadrant1 vmbias  /home/mmarcano/Documents/VIMOS/NGC6652/data/NGC6652B4/2003-06-24T04:24:10/RawESOdata/quadrant1/bias.sof\n",
      "/home/mmarcano/Documents/VIMOS/NGC6652/esorex/bin/esorex --output-dir=/home/mmarcano/Documents/VIMOS/NGC6652/data/NGC6652B4/2003-06-24T04:24:10/RawESOdata/quadrant1 --log-dir=/home/mmarcano/Documents/VIMOS/NGC6652/data/NGC6652B4/2003-06-24T04:24:10/RawESOdata/quadrant1 vmifucalib  /home/mmarcano/Documents/VIMOS/NGC6652/data/NGC6652B4/2003-06-24T04:24:10/RawESOdata/quadrant1/calib.sof\n",
      "/home/mmarcano/Documents/VIMOS/NGC6652/esorex/bin/esorex --output-dir=/home/mmarcano/Documents/VIMOS/NGC6652/data/NGC6652B4/2003-06-24T04:24:10/RawESOdata/quadrant1 --log-dir=/home/mmarcano/Documents/VIMOS/NGC6652/data/NGC6652B4/2003-06-24T04:24:10/RawESOdata/quadrant1 vmifustandard  /home/mmarcano/Documents/VIMOS/NGC6652/data/NGC6652B4/2003-06-24T04:24:10/RawESOdata/quadrant1/ifustandard.sof\n",
      "/home/mmarcano/Documents/VIMOS/NGC6652/esorex/bin/esorex --output-dir=/home/mmarcano/Documents/VIMOS/NGC6652/data/NGC6652B4/2003-06-24T04:24:10/RawESOdata/quadrant1 --log-dir=/home/mmarcano/Documents/VIMOS/NGC6652/data/NGC6652B4/2003-06-24T04:24:10/RawESOdata/quadrant1 vmifuscience --CalibrateFlux=true /home/mmarcano/Documents/VIMOS/NGC6652/data/NGC6652B4/2003-06-24T04:24:10/RawESOdata/quadrant1/ifuscience.sof\n",
      "Quadrant 4\n",
      "/home/mmarcano/Documents/VIMOS/NGC6652/esorex/bin/esorex --output-dir=/home/mmarcano/Documents/VIMOS/NGC6652/data/NGC6652B4/2003-06-24T04:24:10/RawESOdata/quadrant4 --log-dir=/home/mmarcano/Documents/VIMOS/NGC6652/data/NGC6652B4/2003-06-24T04:24:10/RawESOdata/quadrant4 vmbias  /home/mmarcano/Documents/VIMOS/NGC6652/data/NGC6652B4/2003-06-24T04:24:10/RawESOdata/quadrant4/bias.sof\n",
      "/home/mmarcano/Documents/VIMOS/NGC6652/esorex/bin/esorex --output-dir=/home/mmarcano/Documents/VIMOS/NGC6652/data/NGC6652B4/2003-06-24T04:24:10/RawESOdata/quadrant4 --log-dir=/home/mmarcano/Documents/VIMOS/NGC6652/data/NGC6652B4/2003-06-24T04:24:10/RawESOdata/quadrant4 vmifucalib  /home/mmarcano/Documents/VIMOS/NGC6652/data/NGC6652B4/2003-06-24T04:24:10/RawESOdata/quadrant4/calib.sof\n",
      "/home/mmarcano/Documents/VIMOS/NGC6652/esorex/bin/esorex --output-dir=/home/mmarcano/Documents/VIMOS/NGC6652/data/NGC6652B4/2003-06-24T04:24:10/RawESOdata/quadrant4 --log-dir=/home/mmarcano/Documents/VIMOS/NGC6652/data/NGC6652B4/2003-06-24T04:24:10/RawESOdata/quadrant4 vmifustandard  /home/mmarcano/Documents/VIMOS/NGC6652/data/NGC6652B4/2003-06-24T04:24:10/RawESOdata/quadrant4/ifustandard.sof\n",
      "/home/mmarcano/Documents/VIMOS/NGC6652/esorex/bin/esorex --output-dir=/home/mmarcano/Documents/VIMOS/NGC6652/data/NGC6652B4/2003-06-24T04:24:10/RawESOdata/quadrant4 --log-dir=/home/mmarcano/Documents/VIMOS/NGC6652/data/NGC6652B4/2003-06-24T04:24:10/RawESOdata/quadrant4 vmifuscience --CalibrateFlux=true /home/mmarcano/Documents/VIMOS/NGC6652/data/NGC6652B4/2003-06-24T04:24:10/RawESOdata/quadrant4/ifuscience.sof\n",
      "Quadrant 2\n",
      "/home/mmarcano/Documents/VIMOS/NGC6652/esorex/bin/esorex --output-dir=/home/mmarcano/Documents/VIMOS/NGC6652/data/NGC6652B4/2003-06-24T04:24:10/RawESOdata/quadrant2 --log-dir=/home/mmarcano/Documents/VIMOS/NGC6652/data/NGC6652B4/2003-06-24T04:24:10/RawESOdata/quadrant2 vmbias  /home/mmarcano/Documents/VIMOS/NGC6652/data/NGC6652B4/2003-06-24T04:24:10/RawESOdata/quadrant2/bias.sof\n",
      "/home/mmarcano/Documents/VIMOS/NGC6652/esorex/bin/esorex --output-dir=/home/mmarcano/Documents/VIMOS/NGC6652/data/NGC6652B4/2003-06-24T04:24:10/RawESOdata/quadrant2 --log-dir=/home/mmarcano/Documents/VIMOS/NGC6652/data/NGC6652B4/2003-06-24T04:24:10/RawESOdata/quadrant2 vmifucalib  /home/mmarcano/Documents/VIMOS/NGC6652/data/NGC6652B4/2003-06-24T04:24:10/RawESOdata/quadrant2/calib.sof\n",
      "/home/mmarcano/Documents/VIMOS/NGC6652/esorex/bin/esorex --output-dir=/home/mmarcano/Documents/VIMOS/NGC6652/data/NGC6652B4/2003-06-24T04:24:10/RawESOdata/quadrant2 --log-dir=/home/mmarcano/Documents/VIMOS/NGC6652/data/NGC6652B4/2003-06-24T04:24:10/RawESOdata/quadrant2 vmifustandard  /home/mmarcano/Documents/VIMOS/NGC6652/data/NGC6652B4/2003-06-24T04:24:10/RawESOdata/quadrant2/ifustandard.sof\n",
      "/home/mmarcano/Documents/VIMOS/NGC6652/esorex/bin/esorex --output-dir=/home/mmarcano/Documents/VIMOS/NGC6652/data/NGC6652B4/2003-06-24T04:24:10/RawESOdata/quadrant2 --log-dir=/home/mmarcano/Documents/VIMOS/NGC6652/data/NGC6652B4/2003-06-24T04:24:10/RawESOdata/quadrant2 vmifuscience --CalibrateFlux=true /home/mmarcano/Documents/VIMOS/NGC6652/data/NGC6652B4/2003-06-24T04:24:10/RawESOdata/quadrant2/ifuscience.sof\n",
      "Quadrant 3\n",
      "/home/mmarcano/Documents/VIMOS/NGC6652/esorex/bin/esorex --output-dir=/home/mmarcano/Documents/VIMOS/NGC6652/data/NGC6652B4/2003-06-24T04:24:10/RawESOdata/quadrant3 --log-dir=/home/mmarcano/Documents/VIMOS/NGC6652/data/NGC6652B4/2003-06-24T04:24:10/RawESOdata/quadrant3 vmbias  /home/mmarcano/Documents/VIMOS/NGC6652/data/NGC6652B4/2003-06-24T04:24:10/RawESOdata/quadrant3/bias.sof\n",
      "/home/mmarcano/Documents/VIMOS/NGC6652/esorex/bin/esorex --output-dir=/home/mmarcano/Documents/VIMOS/NGC6652/data/NGC6652B4/2003-06-24T04:24:10/RawESOdata/quadrant3 --log-dir=/home/mmarcano/Documents/VIMOS/NGC6652/data/NGC6652B4/2003-06-24T04:24:10/RawESOdata/quadrant3 vmifucalib  /home/mmarcano/Documents/VIMOS/NGC6652/data/NGC6652B4/2003-06-24T04:24:10/RawESOdata/quadrant3/calib.sof\n",
      "/home/mmarcano/Documents/VIMOS/NGC6652/esorex/bin/esorex --output-dir=/home/mmarcano/Documents/VIMOS/NGC6652/data/NGC6652B4/2003-06-24T04:24:10/RawESOdata/quadrant3 --log-dir=/home/mmarcano/Documents/VIMOS/NGC6652/data/NGC6652B4/2003-06-24T04:24:10/RawESOdata/quadrant3 vmifustandard  /home/mmarcano/Documents/VIMOS/NGC6652/data/NGC6652B4/2003-06-24T04:24:10/RawESOdata/quadrant3/ifustandard.sof\n",
      "/home/mmarcano/Documents/VIMOS/NGC6652/esorex/bin/esorex --output-dir=/home/mmarcano/Documents/VIMOS/NGC6652/data/NGC6652B4/2003-06-24T04:24:10/RawESOdata/quadrant3 --log-dir=/home/mmarcano/Documents/VIMOS/NGC6652/data/NGC6652B4/2003-06-24T04:24:10/RawESOdata/quadrant3 vmifuscience --CalibrateFlux=true /home/mmarcano/Documents/VIMOS/NGC6652/data/NGC6652B4/2003-06-24T04:24:10/RawESOdata/quadrant3/ifuscience.sof\n"
     ]
    }
   ],
   "source": [
    "reduceifu(datadir,rawdataq1)\n",
    "reduceifu(datadir,rawdataq4)\n",
    "reduceifu(datadir,rawdataq2)\n",
    "reduceifu(datadir,rawdataq3)\n"
   ]
  },
  {
   "cell_type": "markdown",
   "metadata": {},
   "source": [
    "# Create Cube"
   ]
  },
  {
   "cell_type": "code",
   "execution_count": 3,
   "metadata": {},
   "outputs": [
    {
     "name": "stdout",
     "output_type": "stream",
     "text": [
      "/home/mmarcano/Documents/VIMOS/NGC6652/esorex/bin/esorex --output-dir=/home/mmarcano/Documents/VIMOS/NGC6652/data/NGC6652B4/2003-06-24T04:24:10/RawESOdata/Combine --log-dir=/home/mmarcano/Documents/VIMOS/NGC6652/data/NGC6652B4/2003-06-24T04:24:10/RawESOdata/Combine vmifucombinecube /home/mmarcano/Documents/VIMOS/NGC6652/data/NGC6652B4/2003-06-24T04:24:10/RawESOdata/Combine/ifucombinefovifu_science_flux_reduced.sof \n",
      "/home/mmarcano/Documents/VIMOS/NGC6652/esorex/bin/esorex --output-dir=/home/mmarcano/Documents/VIMOS/NGC6652/data/NGC6652B4/2003-06-24T04:24:10/RawESOdata/Combine --log-dir=/home/mmarcano/Documents/VIMOS/NGC6652/data/NGC6652B4/2003-06-24T04:24:10/RawESOdata/Combine vmifucombinecube /home/mmarcano/Documents/VIMOS/NGC6652/data/NGC6652B4/2003-06-24T04:24:10/RawESOdata/Combine/ifucombinefovifu_science_reduced.sof \n"
     ]
    }
   ],
   "source": [
    "reducecombinecube(datadir,typecombine='ifu_science_flux_reduced')\n",
    "reducecombinecube(datadir,typecombine='ifu_science_reduced')\n",
    "\n"
   ]
  },
  {
   "cell_type": "markdown",
   "metadata": {},
   "source": [
    "# Change WCS"
   ]
  },
  {
   "cell_type": "code",
   "execution_count": 4,
   "metadata": {},
   "outputs": [
    {
     "name": "stdout",
     "output_type": "stream",
     "text": [
      "Filename: /home/mmarcano/Documents/VIMOS/NGC6652/data/NGC6652B4/2003-06-24T04:24:10/RawESOdata/Combine/ifu_science_flux_cube_wcscorrected.fits\n",
      "No.    Name      Ver    Type      Cards   Dimensions   Format\n",
      "  0  PRIMARY       1 PrimaryHDU     272   (40, 40, 4259)   float32   \n",
      "Filename: /home/mmarcano/Documents/VIMOS/NGC6652/data/NGC6652B4/2003-06-24T04:24:10/RawESOdata/Combine/ifu_science_cube_wcscorrected.fits\n",
      "No.    Name      Ver    Type      Cards   Dimensions   Format\n",
      "  0  PRIMARY       1 PrimaryHDU     272   (40, 40, 4259)   float32   \n"
     ]
    }
   ],
   "source": [
    "changewcs(datadir+'Combine/ifu_science_flux_cube.fits',datadir+'Combine/ifu_science_flux_cube_wcscorrected.fits')\n",
    "changewcs(datadir+'Combine/ifu_science_cube.fits',datadir+'Combine/ifu_science_cube_wcscorrected.fits')"
   ]
  }
 ],
 "metadata": {
  "kernelspec": {
   "display_name": "Python 3",
   "language": "python",
   "name": "python3"
  },
  "language_info": {
   "codemirror_mode": {
    "name": "ipython",
    "version": 3
   },
   "file_extension": ".py",
   "mimetype": "text/x-python",
   "name": "python",
   "nbconvert_exporter": "python",
   "pygments_lexer": "ipython3",
   "version": "3.6.5"
  }
 },
 "nbformat": 4,
 "nbformat_minor": 2
}
