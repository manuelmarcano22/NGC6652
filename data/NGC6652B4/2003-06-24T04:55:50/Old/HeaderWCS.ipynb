{
 "cells": [
  {
   "cell_type": "markdown",
   "metadata": {},
   "source": [
    "# Modify the header of the fits file"
   ]
  },
  {
   "cell_type": "code",
   "execution_count": 13,
   "metadata": {},
   "outputs": [],
   "source": [
    "from astropy.io import fits\n",
    "import os"
   ]
  },
  {
   "cell_type": "code",
   "execution_count": 14,
   "metadata": {},
   "outputs": [],
   "source": [
    "def changewcs(original,destination):\n",
    "    originalcube = original\n",
    "    newcube = destination\n",
    "    \n",
    "    copyfile = 'cp {} {}'.format(originalcube,newcube)\n",
    "    os.system(copyfile)\n",
    "    fits.info(newcube)\n",
    "    oricube = fits.open(originalcube)\n",
    "    oricubehearder = oricube[0].header\n",
    "    ifura = oricubehearder['HIERARCH ESO INS IFU RA']\n",
    "    ifudec = oricubehearder['HIERARCH ESO INS IFU DEC']\n",
    "    \n",
    "    fits.setval(newcube, 'CRVAL1', value=ifura)\n",
    "    fits.setval(newcube, 'CRVAL2', value=ifudec)\n",
    "\n",
    "    \n",
    "    "
   ]
  },
  {
   "cell_type": "code",
   "execution_count": 15,
   "metadata": {},
   "outputs": [
    {
     "name": "stdout",
     "output_type": "stream",
     "text": [
      "Filename: RawESOdata/Combine/ifu_science_flux_cube_wcscorrected.fits\n",
      "No.    Name      Ver    Type      Cards   Dimensions   Format\n",
      "  0  PRIMARY       1 PrimaryHDU     272   (40, 40, 4259)   float32   \n"
     ]
    }
   ],
   "source": [
    "changewcs('RawESOdata/Combine/ifu_science_flux_cube.fits','RawESOdata/Combine/ifu_science_flux_cube_wcscorrected.fits')"
   ]
  },
  {
   "cell_type": "code",
   "execution_count": null,
   "metadata": {},
   "outputs": [],
   "source": []
  }
 ],
 "metadata": {
  "kernelspec": {
   "display_name": "Python 3",
   "language": "python",
   "name": "python3"
  },
  "language_info": {
   "codemirror_mode": {
    "name": "ipython",
    "version": 3
   },
   "file_extension": ".py",
   "mimetype": "text/x-python",
   "name": "python",
   "nbconvert_exporter": "python",
   "pygments_lexer": "ipython3",
   "version": "3.6.5"
  }
 },
 "nbformat": 4,
 "nbformat_minor": 2
}
