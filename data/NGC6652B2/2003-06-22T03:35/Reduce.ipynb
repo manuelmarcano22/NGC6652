{
 "cells": [
  {
   "cell_type": "markdown",
   "metadata": {},
   "source": [
    "# VIMOS.2003-06-22T03:35:\n",
    "\n",
    "\n",
    "Nightlog information for file VIMOS.2003-06-22T03:35:34.036\n",
    "OB grade: B)Mostly within specifications\n",
    "Comment: no pointing correction done - from reconstructed image it seems offset by ~5\",  but LMXB should be in the field\n",
    "\n",
    "                  Requested    Fulfilled?\n",
    "    Seeing:           1.20          Yes\n",
    "    Airmass:          1.50          Yes\n",
    "    Moon Distance:    90          Yes\n",
    "    Sky Transparency: 3THN          Yes\n",
    "    Strehl Ratio:     0.000          N/A\n"
   ]
  },
  {
   "cell_type": "code",
   "execution_count": 1,
   "metadata": {},
   "outputs": [],
   "source": [
    "import sys\n",
    "sys.path.append('../../')\n",
    "from reducing import reduceifu,reducecombinecube, changewcs"
   ]
  },
  {
   "cell_type": "code",
   "execution_count": 12,
   "metadata": {},
   "outputs": [],
   "source": [
    "datadir = '/home/mmarcano/Documents/VIMOS/NGC6652/data/NGC6652B2/2003-06-22T03:35/RawESOdata/'\n",
    "\n",
    "rawdataq1 = {'IFU_SCIENCE':'VIMOS.2003-06-22T03:36:05.267.fits',\n",
    "             'LINE_CATALOG':'M.VIMOS.2008-06-17T18:11:18.672.fits',\n",
    "          'EXTINCT_TABLE':'M.VIMOS.2008-06-17T18:12:53.176.fits',\n",
    "          'STD_FLUX_TABLE':'M.VIMOS.2008-06-17T18:13:10.885.fits',\n",
    "           'IFU_IDENT':'M.VIMOS.2008-06-17T18:16:03.380.fits',\n",
    "           'IFU_MASTER_RESPONSE':'M.VIMOS.2008-06-17T18:20:40.981.fits',\n",
    "           'BIAS':['VIMOS.2003-06-21T15:02:05.885.fits','VIMOS.2003-06-21T15:02:58.376.fits','VIMOS.2003-06-21T15:03:51.144.fits','VIMOS.2003-06-21T15:04:44.022.fits','VIMOS.2003-06-21T15:05:36.829.fits'],\n",
    "           'IFU_ARC_SPECTRUM':['VIMOS.2003-06-22T04:00:18.413.fits'],\n",
    "           'IFU_STANDARD':'VIMOS.2003-06-22T07:47:37.515.fits',\n",
    "           'IFU_SCREEN_FLAT':['VIMOS.2003-06-22T07:30:05.035.fits','VIMOS.2003-06-22T07:31:15.962.fits','VIMOS.2003-06-22T07:32:27.601.fits']}\n",
    "\n",
    "rawdataq2 = {'IFU_SCIENCE':'VIMOS.2003-06-22T03:35:34.035.fits',\n",
    "           'LINE_CATALOG':'M.VIMOS.2008-06-17T18:11:23.749.fits',\n",
    "          'EXTINCT_TABLE':'M.VIMOS.2008-06-17T18:12:53.176.fits',\n",
    "          'STD_FLUX_TABLE':'M.VIMOS.2008-06-17T18:13:10.885.fits',\n",
    "           'IFU_IDENT':'M.VIMOS.2008-06-17T18:16:06.327.fits',\n",
    "           'IFU_MASTER_RESPONSE':'M.VIMOS.2008-06-17T18:20:44.067.fits',\n",
    "           'BIAS':['VIMOS.2003-06-21T15:01:35.597.fits','VIMOS.2003-06-21T15:02:28.113.fits','VIMOS.2003-06-21T15:03:20.880.fits','VIMOS.2003-06-21T15:04:13.642.fits','VIMOS.2003-06-21T15:05:06.557.fits',\n",
    "                  'VIMOS.2003-06-22T15:00:39.375.fits','VIMOS.2003-06-22T15:01:17.311.fits','VIMOS.2003-06-22T15:01:55.412.fits','VIMOS.2003-06-22T15:02:33.758.fits','VIMOS.2003-06-22T15:03:11.973.fits'],\n",
    "           'IFU_ARC_SPECTRUM':'VIMOS.2003-06-22T03:59:47.203.fits',\n",
    "           'IFU_STANDARD':'VIMOS.2003-06-22T07:55:23.282.fits',\n",
    "           'IFU_SCREEN_FLAT':['VIMOS.2003-06-22T08:05:07.041.fits']\n",
    "          }\n",
    "\n",
    "rawdataq3 = {'IFU_SCIENCE':'VIMOS.2003-06-22T03:35:34.036.fits',\n",
    "           'LINE_CATALOG':'M.VIMOS.2008-06-17T18:11:52.230.fits',\n",
    "          'EXTINCT_TABLE':'M.VIMOS.2008-06-17T18:12:53.176.fits',\n",
    "          'STD_FLUX_TABLE':'M.VIMOS.2008-06-17T18:13:10.885.fits',\n",
    "           'IFU_IDENT':'M.VIMOS.2008-06-17T18:16:21.529.fits',\n",
    "           'IFU_MASTER_RESPONSE':'M.VIMOS.2008-06-17T18:20:47.901.fits ',\n",
    "           'BIAS':['VIMOS.2003-06-20T10:50:27.152.fits','VIMOS.2003-06-20T10:51:19.622.fits','VIMOS.2003-06-20T10:52:12.492.fits','VIMOS.2003-06-20T10:53:05.231.fits','VIMOS.2003-06-20T10:53:58.195.fits',\n",
    "                  'VIMOS.2003-06-21T15:01:35.598.fits','VIMOS.2003-06-21T15:02:28.114.fits','VIMOS.2003-06-21T15:03:20.881.fits','VIMOS.2003-06-21T15:04:13.643.fits','VIMOS.2003-06-21T15:05:06.558.fits'],\n",
    "           'IFU_ARC_SPECTRUM':'VIMOS.2003-06-22T03:59:47.204.fits',\n",
    "           'IFU_STANDARD':'VIMOS.2003-06-20T04:46:22.319.fits',\n",
    "           'IFU_SCREEN_FLAT':['VIMOS.2003-06-20T04:51:34.908.fits','VIMOS.2003-06-20T04:52:54.185.fits','VIMOS.2003-06-20T04:54:13.741.fits']\n",
    "          }\n",
    "\n",
    "rawdataq4 ={'IFU_SCIENCE':'VIMOS.2003-06-22T03:36:05.268.fits',\n",
    "           'LINE_CATALOG':'M.VIMOS.2008-06-17T18:11:55.709.fits',\n",
    "          'EXTINCT_TABLE':'M.VIMOS.2008-06-17T18:12:53.176.fits',\n",
    "          'STD_FLUX_TABLE':'M.VIMOS.2008-06-17T18:13:10.885.fits',\n",
    "           'IFU_IDENT':'M.VIMOS.2008-06-17T18:16:24.258.fits',\n",
    "           'IFU_MASTER_RESPONSE':'M.VIMOS.2008-06-17T18:20:50.827.fits',\n",
    "           'BIAS':['VIMOS.2003-06-20T10:50:57.737.fits','VIMOS.2003-06-20T10:51:50.203.fits','VIMOS.2003-06-20T10:52:43.071.fits','VIMOS.2003-06-20T10:53:35.809.fits','VIMOS.2003-06-20T10:54:28.786.fits',\n",
    "                  'VIMOS.2003-06-21T15:02:05.886.fits','VIMOS.2003-06-21T15:02:58.377.fits','VIMOS.2003-06-21T15:03:51.145.fits','VIMOS.2003-06-21T15:04:44.023.fits','VIMOS.2003-06-21T15:05:36.830.fits'],\n",
    "           'IFU_ARC_SPECTRUM':'VIMOS.2003-06-20T04:56:09.918.fits',\n",
    "           'IFU_STANDARD':'VIMOS.2003-06-20T04:48:24.564.fits',\n",
    "           'IFU_SCREEN_FLAT':['VIMOS.2003-06-20T04:52:05.966.fits','VIMOS.2003-06-20T04:53:25.230.fits','VIMOS.2003-06-20T04:54:44.783.fits']\n",
    "          }"
   ]
  },
  {
   "cell_type": "code",
   "execution_count": 3,
   "metadata": {},
   "outputs": [],
   "source": [
    "from astropy.io import fits\n",
    "datadir = '/home/mmarcano/Documents/VIMOS/NGC6652/data/NGC6652B2/2003-06-22T03:35/RawESOdata/'\n"
   ]
  },
  {
   "cell_type": "code",
   "execution_count": 4,
   "metadata": {},
   "outputs": [
    {
     "data": {
      "text/plain": [
       "0"
      ]
     },
     "execution_count": 4,
     "metadata": {},
     "output_type": "execute_result"
    }
   ],
   "source": [
    "a = fits.open(datadir+'M.VIMOS.2008-06-17T18:13:10.885.fits')\n",
    "a[0].header['HIERARCH ESO OCS CON QUAD']"
   ]
  },
  {
   "cell_type": "code",
   "execution_count": 20,
   "metadata": {},
   "outputs": [
    {
     "name": "stdout",
     "output_type": "stream",
     "text": [
      "Quadrant 4\n",
      "/home/mmarcano/Documents/VIMOS/NGC6652/esorex/bin/esorex --output-dir=/home/mmarcano/Documents/VIMOS/NGC6652/data/NGC6652B2/2003-06-22T03:35/RawESOdata/quadrant4 --log-dir=/home/mmarcano/Documents/VIMOS/NGC6652/data/NGC6652B2/2003-06-22T03:35/RawESOdata/quadrant4 vmbias  /home/mmarcano/Documents/VIMOS/NGC6652/data/NGC6652B2/2003-06-22T03:35/RawESOdata/quadrant4/bias.sof\n",
      "/home/mmarcano/Documents/VIMOS/NGC6652/esorex/bin/esorex --output-dir=/home/mmarcano/Documents/VIMOS/NGC6652/data/NGC6652B2/2003-06-22T03:35/RawESOdata/quadrant4 --log-dir=/home/mmarcano/Documents/VIMOS/NGC6652/data/NGC6652B2/2003-06-22T03:35/RawESOdata/quadrant4 vmifucalib  /home/mmarcano/Documents/VIMOS/NGC6652/data/NGC6652B2/2003-06-22T03:35/RawESOdata/quadrant4/calib.sof\n",
      "/home/mmarcano/Documents/VIMOS/NGC6652/esorex/bin/esorex --output-dir=/home/mmarcano/Documents/VIMOS/NGC6652/data/NGC6652B2/2003-06-22T03:35/RawESOdata/quadrant4 --log-dir=/home/mmarcano/Documents/VIMOS/NGC6652/data/NGC6652B2/2003-06-22T03:35/RawESOdata/quadrant4 vmifustandard  /home/mmarcano/Documents/VIMOS/NGC6652/data/NGC6652B2/2003-06-22T03:35/RawESOdata/quadrant4/ifustandard.sof\n",
      "/home/mmarcano/Documents/VIMOS/NGC6652/esorex/bin/esorex --output-dir=/home/mmarcano/Documents/VIMOS/NGC6652/data/NGC6652B2/2003-06-22T03:35/RawESOdata/quadrant4 --log-dir=/home/mmarcano/Documents/VIMOS/NGC6652/data/NGC6652B2/2003-06-22T03:35/RawESOdata/quadrant4 vmifuscience --CalibrateFlux=true /home/mmarcano/Documents/VIMOS/NGC6652/data/NGC6652B2/2003-06-22T03:35/RawESOdata/quadrant4/ifuscience.sof\n",
      "Quadrant 3\n",
      "/home/mmarcano/Documents/VIMOS/NGC6652/esorex/bin/esorex --output-dir=/home/mmarcano/Documents/VIMOS/NGC6652/data/NGC6652B2/2003-06-22T03:35/RawESOdata/quadrant3 --log-dir=/home/mmarcano/Documents/VIMOS/NGC6652/data/NGC6652B2/2003-06-22T03:35/RawESOdata/quadrant3 vmbias  /home/mmarcano/Documents/VIMOS/NGC6652/data/NGC6652B2/2003-06-22T03:35/RawESOdata/quadrant3/bias.sof\n",
      "/home/mmarcano/Documents/VIMOS/NGC6652/esorex/bin/esorex --output-dir=/home/mmarcano/Documents/VIMOS/NGC6652/data/NGC6652B2/2003-06-22T03:35/RawESOdata/quadrant3 --log-dir=/home/mmarcano/Documents/VIMOS/NGC6652/data/NGC6652B2/2003-06-22T03:35/RawESOdata/quadrant3 vmifucalib  /home/mmarcano/Documents/VIMOS/NGC6652/data/NGC6652B2/2003-06-22T03:35/RawESOdata/quadrant3/calib.sof\n",
      "/home/mmarcano/Documents/VIMOS/NGC6652/esorex/bin/esorex --output-dir=/home/mmarcano/Documents/VIMOS/NGC6652/data/NGC6652B2/2003-06-22T03:35/RawESOdata/quadrant3 --log-dir=/home/mmarcano/Documents/VIMOS/NGC6652/data/NGC6652B2/2003-06-22T03:35/RawESOdata/quadrant3 vmifustandard  /home/mmarcano/Documents/VIMOS/NGC6652/data/NGC6652B2/2003-06-22T03:35/RawESOdata/quadrant3/ifustandard.sof\n",
      "/home/mmarcano/Documents/VIMOS/NGC6652/esorex/bin/esorex --output-dir=/home/mmarcano/Documents/VIMOS/NGC6652/data/NGC6652B2/2003-06-22T03:35/RawESOdata/quadrant3 --log-dir=/home/mmarcano/Documents/VIMOS/NGC6652/data/NGC6652B2/2003-06-22T03:35/RawESOdata/quadrant3 vmifuscience --CalibrateFlux=true /home/mmarcano/Documents/VIMOS/NGC6652/data/NGC6652B2/2003-06-22T03:35/RawESOdata/quadrant3/ifuscience.sof\n"
     ]
    }
   ],
   "source": [
    "reduceifu(datadir,rawdataq4)\n"
   ]
  },
  {
   "cell_type": "markdown",
   "metadata": {},
   "source": [
    "# Cant create flux (?)"
   ]
  },
  {
   "cell_type": "code",
   "execution_count": 13,
   "metadata": {},
   "outputs": [
    {
     "name": "stdout",
     "output_type": "stream",
     "text": [
      "Quadrant 3\n",
      "/home/mmarcano/Documents/VIMOS/NGC6652/esorex/bin/esorex --output-dir=/home/mmarcano/Documents/VIMOS/NGC6652/data/NGC6652B2/2003-06-22T03:35/RawESOdata/quadrant3 --log-dir=/home/mmarcano/Documents/VIMOS/NGC6652/data/NGC6652B2/2003-06-22T03:35/RawESOdata/quadrant3 vmbias  /home/mmarcano/Documents/VIMOS/NGC6652/data/NGC6652B2/2003-06-22T03:35/RawESOdata/quadrant3/bias.sof\n",
      "/home/mmarcano/Documents/VIMOS/NGC6652/esorex/bin/esorex --output-dir=/home/mmarcano/Documents/VIMOS/NGC6652/data/NGC6652B2/2003-06-22T03:35/RawESOdata/quadrant3 --log-dir=/home/mmarcano/Documents/VIMOS/NGC6652/data/NGC6652B2/2003-06-22T03:35/RawESOdata/quadrant3 vmifucalib  /home/mmarcano/Documents/VIMOS/NGC6652/data/NGC6652B2/2003-06-22T03:35/RawESOdata/quadrant3/calib.sof\n",
      "/home/mmarcano/Documents/VIMOS/NGC6652/esorex/bin/esorex --output-dir=/home/mmarcano/Documents/VIMOS/NGC6652/data/NGC6652B2/2003-06-22T03:35/RawESOdata/quadrant3 --log-dir=/home/mmarcano/Documents/VIMOS/NGC6652/data/NGC6652B2/2003-06-22T03:35/RawESOdata/quadrant3 vmifustandard  /home/mmarcano/Documents/VIMOS/NGC6652/data/NGC6652B2/2003-06-22T03:35/RawESOdata/quadrant3/ifustandard.sof\n",
      "/home/mmarcano/Documents/VIMOS/NGC6652/esorex/bin/esorex --output-dir=/home/mmarcano/Documents/VIMOS/NGC6652/data/NGC6652B2/2003-06-22T03:35/RawESOdata/quadrant3 --log-dir=/home/mmarcano/Documents/VIMOS/NGC6652/data/NGC6652B2/2003-06-22T03:35/RawESOdata/quadrant3 vmifuscience --CalibrateFlux=true /home/mmarcano/Documents/VIMOS/NGC6652/data/NGC6652B2/2003-06-22T03:35/RawESOdata/quadrant3/ifuscience.sof\n"
     ]
    }
   ],
   "source": [
    "reduceifu(datadir,rawdataq3)\n"
   ]
  },
  {
   "cell_type": "markdown",
   "metadata": {},
   "source": [
    "# Quadrant 1 and 2 doesnt have an STD_FLUX_TABLe but used the same for the other two. "
   ]
  },
  {
   "cell_type": "code",
   "execution_count": 21,
   "metadata": {},
   "outputs": [
    {
     "name": "stdout",
     "output_type": "stream",
     "text": [
      "Quadrant 1\n",
      "/home/mmarcano/Documents/VIMOS/NGC6652/esorex/bin/esorex --output-dir=/home/mmarcano/Documents/VIMOS/NGC6652/data/NGC6652B2/2003-06-22T03:35/RawESOdata/quadrant1 --log-dir=/home/mmarcano/Documents/VIMOS/NGC6652/data/NGC6652B2/2003-06-22T03:35/RawESOdata/quadrant1 vmbias  /home/mmarcano/Documents/VIMOS/NGC6652/data/NGC6652B2/2003-06-22T03:35/RawESOdata/quadrant1/bias.sof\n",
      "/home/mmarcano/Documents/VIMOS/NGC6652/esorex/bin/esorex --output-dir=/home/mmarcano/Documents/VIMOS/NGC6652/data/NGC6652B2/2003-06-22T03:35/RawESOdata/quadrant1 --log-dir=/home/mmarcano/Documents/VIMOS/NGC6652/data/NGC6652B2/2003-06-22T03:35/RawESOdata/quadrant1 vmifucalib  /home/mmarcano/Documents/VIMOS/NGC6652/data/NGC6652B2/2003-06-22T03:35/RawESOdata/quadrant1/calib.sof\n",
      "/home/mmarcano/Documents/VIMOS/NGC6652/esorex/bin/esorex --output-dir=/home/mmarcano/Documents/VIMOS/NGC6652/data/NGC6652B2/2003-06-22T03:35/RawESOdata/quadrant1 --log-dir=/home/mmarcano/Documents/VIMOS/NGC6652/data/NGC6652B2/2003-06-22T03:35/RawESOdata/quadrant1 vmifustandard  /home/mmarcano/Documents/VIMOS/NGC6652/data/NGC6652B2/2003-06-22T03:35/RawESOdata/quadrant1/ifustandard.sof\n",
      "/home/mmarcano/Documents/VIMOS/NGC6652/esorex/bin/esorex --output-dir=/home/mmarcano/Documents/VIMOS/NGC6652/data/NGC6652B2/2003-06-22T03:35/RawESOdata/quadrant1 --log-dir=/home/mmarcano/Documents/VIMOS/NGC6652/data/NGC6652B2/2003-06-22T03:35/RawESOdata/quadrant1 vmifuscience --CalibrateFlux=true /home/mmarcano/Documents/VIMOS/NGC6652/data/NGC6652B2/2003-06-22T03:35/RawESOdata/quadrant1/ifuscience.sof\n"
     ]
    }
   ],
   "source": [
    "reduceifu(datadir,rawdataq1)\n",
    "\n",
    "\n"
   ]
  },
  {
   "cell_type": "markdown",
   "metadata": {},
   "source": [
    "# Segmentation falut with the bias (?)"
   ]
  },
  {
   "cell_type": "code",
   "execution_count": 14,
   "metadata": {},
   "outputs": [
    {
     "name": "stdout",
     "output_type": "stream",
     "text": [
      "Quadrant 2\n",
      "/home/mmarcano/Documents/VIMOS/NGC6652/esorex/bin/esorex --output-dir=/home/mmarcano/Documents/VIMOS/NGC6652/data/NGC6652B2/2003-06-22T03:35/RawESOdata/quadrant2 --log-dir=/home/mmarcano/Documents/VIMOS/NGC6652/data/NGC6652B2/2003-06-22T03:35/RawESOdata/quadrant2 vmbias  /home/mmarcano/Documents/VIMOS/NGC6652/data/NGC6652B2/2003-06-22T03:35/RawESOdata/quadrant2/bias.sof\n"
     ]
    },
    {
     "ename": "CalledProcessError",
     "evalue": "Command '/home/mmarcano/Documents/VIMOS/NGC6652/esorex/bin/esorex --output-dir=/home/mmarcano/Documents/VIMOS/NGC6652/data/NGC6652B2/2003-06-22T03:35/RawESOdata/quadrant2 --log-dir=/home/mmarcano/Documents/VIMOS/NGC6652/data/NGC6652B2/2003-06-22T03:35/RawESOdata/quadrant2 vmbias  /home/mmarcano/Documents/VIMOS/NGC6652/data/NGC6652B2/2003-06-22T03:35/RawESOdata/quadrant2/bias.sof' died with <Signals.SIGSEGV: 11>.",
     "output_type": "error",
     "traceback": [
      "\u001b[0;31m---------------------------------------------------------------------------\u001b[0m",
      "\u001b[0;31mCalledProcessError\u001b[0m                        Traceback (most recent call last)",
      "\u001b[0;32m<ipython-input-14-b48de4ee4ace>\u001b[0m in \u001b[0;36m<module>\u001b[0;34m()\u001b[0m\n\u001b[0;32m----> 1\u001b[0;31m \u001b[0mreduceifu\u001b[0m\u001b[0;34m(\u001b[0m\u001b[0mdatadir\u001b[0m\u001b[0;34m,\u001b[0m\u001b[0mrawdataq2\u001b[0m\u001b[0;34m)\u001b[0m\u001b[0;34m\u001b[0m\u001b[0m\n\u001b[0m",
      "\u001b[0;32m~/Documents/VIMOS/NGC6652/data/reducing.py\u001b[0m in \u001b[0;36mreduceifu\u001b[0;34m(datadirectory, rawdatadictionary)\u001b[0m\n\u001b[1;32m     62\u001b[0m     \u001b[0mprint\u001b[0m\u001b[0;34m(\u001b[0m\u001b[0mcommandbias\u001b[0m\u001b[0;34m)\u001b[0m\u001b[0;34m\u001b[0m\u001b[0m\n\u001b[1;32m     63\u001b[0m     \u001b[0;31m#os.system(commandbias)\u001b[0m\u001b[0;34m\u001b[0m\u001b[0;34m\u001b[0m\u001b[0m\n\u001b[0;32m---> 64\u001b[0;31m     \u001b[0msubprocess\u001b[0m\u001b[0;34m.\u001b[0m\u001b[0mrun\u001b[0m\u001b[0;34m(\u001b[0m\u001b[0mcommandbias\u001b[0m\u001b[0;34m,\u001b[0m\u001b[0mshell\u001b[0m\u001b[0;34m=\u001b[0m\u001b[0;32mTrue\u001b[0m\u001b[0;34m,\u001b[0m\u001b[0mcheck\u001b[0m\u001b[0;34m=\u001b[0m\u001b[0;32mTrue\u001b[0m\u001b[0;34m)\u001b[0m\u001b[0;34m\u001b[0m\u001b[0m\n\u001b[0m\u001b[1;32m     65\u001b[0m \u001b[0;34m\u001b[0m\u001b[0m\n\u001b[1;32m     66\u001b[0m     \u001b[0mos\u001b[0m\u001b[0;34m.\u001b[0m\u001b[0mrename\u001b[0m\u001b[0;34m(\u001b[0m\u001b[0moutdir\u001b[0m\u001b[0;34m+\u001b[0m\u001b[0;34m'/esorex.log'\u001b[0m\u001b[0;34m,\u001b[0m\u001b[0moutdir\u001b[0m\u001b[0;34m+\u001b[0m\u001b[0;34m'/'\u001b[0m\u001b[0;34m+\u001b[0m\u001b[0mroutine\u001b[0m\u001b[0;34m+\u001b[0m\u001b[0;34m'.log'\u001b[0m\u001b[0;34m)\u001b[0m\u001b[0;34m\u001b[0m\u001b[0m\n",
      "\u001b[0;32m~/anaconda3/envs/ngc6652/lib/python3.6/subprocess.py\u001b[0m in \u001b[0;36mrun\u001b[0;34m(input, timeout, check, *popenargs, **kwargs)\u001b[0m\n\u001b[1;32m    416\u001b[0m         \u001b[0;32mif\u001b[0m \u001b[0mcheck\u001b[0m \u001b[0;32mand\u001b[0m \u001b[0mretcode\u001b[0m\u001b[0;34m:\u001b[0m\u001b[0;34m\u001b[0m\u001b[0m\n\u001b[1;32m    417\u001b[0m             raise CalledProcessError(retcode, process.args,\n\u001b[0;32m--> 418\u001b[0;31m                                      output=stdout, stderr=stderr)\n\u001b[0m\u001b[1;32m    419\u001b[0m     \u001b[0;32mreturn\u001b[0m \u001b[0mCompletedProcess\u001b[0m\u001b[0;34m(\u001b[0m\u001b[0mprocess\u001b[0m\u001b[0;34m.\u001b[0m\u001b[0margs\u001b[0m\u001b[0;34m,\u001b[0m \u001b[0mretcode\u001b[0m\u001b[0;34m,\u001b[0m \u001b[0mstdout\u001b[0m\u001b[0;34m,\u001b[0m \u001b[0mstderr\u001b[0m\u001b[0;34m)\u001b[0m\u001b[0;34m\u001b[0m\u001b[0m\n\u001b[1;32m    420\u001b[0m \u001b[0;34m\u001b[0m\u001b[0m\n",
      "\u001b[0;31mCalledProcessError\u001b[0m: Command '/home/mmarcano/Documents/VIMOS/NGC6652/esorex/bin/esorex --output-dir=/home/mmarcano/Documents/VIMOS/NGC6652/data/NGC6652B2/2003-06-22T03:35/RawESOdata/quadrant2 --log-dir=/home/mmarcano/Documents/VIMOS/NGC6652/data/NGC6652B2/2003-06-22T03:35/RawESOdata/quadrant2 vmbias  /home/mmarcano/Documents/VIMOS/NGC6652/data/NGC6652B2/2003-06-22T03:35/RawESOdata/quadrant2/bias.sof' died with <Signals.SIGSEGV: 11>."
     ]
    }
   ],
   "source": [
    "reduceifu(datadir,rawdataq2)\n"
   ]
  },
  {
   "cell_type": "markdown",
   "metadata": {},
   "source": [
    "# Create Cube"
   ]
  },
  {
   "cell_type": "code",
   "execution_count": 16,
   "metadata": {},
   "outputs": [],
   "source": [
    "import glob\n",
    "import os\n",
    "import re\n",
    "import itertools\n",
    "from astropy.coordinates import SkyCoord\n",
    "from astropy import units as u\n",
    "from astropy.io import fits\n",
    "import numpy as np\n",
    "import subprocess \n",
    "    \n",
    "    \n",
    "def reducecombinecubebad(datadirectory,typecombine='ifu_science_flux_reduced'):\n",
    "    \"\"\"Or it can be 'IFU_SCIENCE_REDUCED' \"\"\"\n",
    "    #cubes = ['ifu_science_reduced','ifu_science_flux_reduced']\n",
    "    datadir = datadirectory\n",
    "    \n",
    "    \n",
    "    combinedir = datadir+'Combine'\n",
    "\n",
    "    #Create outdir if it doesnt exist\n",
    "    if not os.path.exists(combinedir):\n",
    "        os.makedirs(combinedir)\n",
    "\n",
    "    filenamescombinecube = combinedir+'/ifucombinefov{}.sof'.format(typecombine.lower())\n",
    "\n",
    "    with open(filenamescombinecube,'w') as file:\n",
    "        for i in [1,3,4]:\n",
    "            fitstemp='{}quadrant{}/{}.fits'.format(datadir,i,typecombine.lower())\n",
    "            string = '{} {}\\n'.format(fitstemp,typecombine.upper())\n",
    "            file.write(string)\n",
    "\n",
    "    #esorexpath = '/bin/esorex'\n",
    "    esorexpath = '/home/mmarcano/Documents/VIMOS/NGC6652/esorex/bin/esorex'\n",
    "    outputdir = '--output-dir={}'.format(combinedir)\n",
    "    logdir = '--log-dir={}'.format(combinedir)\n",
    "    routine = 'vmifucombinecube'\n",
    "    command = '{} {} {} {} {} '.format(esorexpath,outputdir,logdir,routine, filenamescombinecube)\n",
    "    print(command)\n",
    "    subprocess.run(command,shell=True)\n",
    "    "
   ]
  },
  {
   "cell_type": "code",
   "execution_count": 17,
   "metadata": {},
   "outputs": [
    {
     "name": "stdout",
     "output_type": "stream",
     "text": [
      "/home/mmarcano/Documents/VIMOS/NGC6652/esorex/bin/esorex --output-dir=/home/mmarcano/Documents/VIMOS/NGC6652/data/NGC6652B2/2003-06-22T03:35/RawESOdata/Combine --log-dir=/home/mmarcano/Documents/VIMOS/NGC6652/data/NGC6652B2/2003-06-22T03:35/RawESOdata/Combine vmifucombinecube /home/mmarcano/Documents/VIMOS/NGC6652/data/NGC6652B2/2003-06-22T03:35/RawESOdata/Combine/ifucombinefovifu_science_flux_reduced.sof \n",
      "/home/mmarcano/Documents/VIMOS/NGC6652/esorex/bin/esorex --output-dir=/home/mmarcano/Documents/VIMOS/NGC6652/data/NGC6652B2/2003-06-22T03:35/RawESOdata/Combine --log-dir=/home/mmarcano/Documents/VIMOS/NGC6652/data/NGC6652B2/2003-06-22T03:35/RawESOdata/Combine vmifucombinecube /home/mmarcano/Documents/VIMOS/NGC6652/data/NGC6652B2/2003-06-22T03:35/RawESOdata/Combine/ifucombinefovifu_science_reduced.sof \n"
     ]
    }
   ],
   "source": [
    "reducecombinecubebad(datadir,typecombine='ifu_science_flux_reduced')\n",
    "reducecombinecubebad(datadir,typecombine='ifu_science_reduced')\n",
    "\n"
   ]
  },
  {
   "cell_type": "code",
   "execution_count": 7,
   "metadata": {},
   "outputs": [
    {
     "name": "stdout",
     "output_type": "stream",
     "text": [
      "/home/mmarcano/Documents/VIMOS/NGC6652/data/NGC6652B2/2003-06-22T03:35/RawESOdata/quadrant1/ifu_science_flux_reduced.fits IFU_SCIENCE_FLUX_REDUCED\n",
      "/home/mmarcano/Documents/VIMOS/NGC6652/data/NGC6652B2/2003-06-22T03:35/RawESOdata/quadrant3/ifu_science_flux_reduced.fits IFU_SCIENCE_FLUX_REDUCED\n",
      "/home/mmarcano/Documents/VIMOS/NGC6652/data/NGC6652B2/2003-06-22T03:35/RawESOdata/quadrant4/ifu_science_flux_reduced.fits IFU_SCIENCE_FLUX_REDUCED\n"
     ]
    }
   ],
   "source": [
    "cat /home/mmarcano/Documents/VIMOS/NGC6652/data/NGC6652B2/2003-06-22T03:35/RawESOdata/Combine/ifucombinefovifu_science_flux_reduced.sof "
   ]
  },
  {
   "cell_type": "code",
   "execution_count": 11,
   "metadata": {},
   "outputs": [
    {
     "ename": "FileNotFoundError",
     "evalue": "[Errno 2] No such file or directory: '/home/mmarcano/Documents/VIMOS/NGC6652/data/NGC6652B2/2003-06-22T03:35/RawESOdata/quadrant4/ifu_science_flux_reduced.fits'",
     "output_type": "error",
     "traceback": [
      "\u001b[0;31m---------------------------------------------------------------------------\u001b[0m",
      "\u001b[0;31mFileNotFoundError\u001b[0m                         Traceback (most recent call last)",
      "\u001b[0;32m<ipython-input-11-b6b149f0124d>\u001b[0m in \u001b[0;36m<module>\u001b[0;34m()\u001b[0m\n\u001b[0;32m----> 1\u001b[0;31m \u001b[0ma\u001b[0m \u001b[0;34m=\u001b[0m \u001b[0mfits\u001b[0m\u001b[0;34m.\u001b[0m\u001b[0mopen\u001b[0m\u001b[0;34m(\u001b[0m\u001b[0;34m'/home/mmarcano/Documents/VIMOS/NGC6652/data/NGC6652B2/2003-06-22T03:35/RawESOdata/quadrant4/ifu_science_flux_reduced.fits'\u001b[0m\u001b[0;34m)\u001b[0m\u001b[0;34m\u001b[0m\u001b[0m\n\u001b[0m",
      "\u001b[0;32m~/anaconda3/envs/ngc6652/lib/python3.6/site-packages/astropy/io/fits/hdu/hdulist.py\u001b[0m in \u001b[0;36mfitsopen\u001b[0;34m(name, mode, memmap, save_backup, cache, lazy_load_hdus, **kwargs)\u001b[0m\n\u001b[1;32m    149\u001b[0m \u001b[0;34m\u001b[0m\u001b[0m\n\u001b[1;32m    150\u001b[0m     return HDUList.fromfile(name, mode, memmap, save_backup, cache,\n\u001b[0;32m--> 151\u001b[0;31m                             lazy_load_hdus, **kwargs)\n\u001b[0m\u001b[1;32m    152\u001b[0m \u001b[0;34m\u001b[0m\u001b[0m\n\u001b[1;32m    153\u001b[0m \u001b[0;34m\u001b[0m\u001b[0m\n",
      "\u001b[0;32m~/anaconda3/envs/ngc6652/lib/python3.6/site-packages/astropy/io/fits/hdu/hdulist.py\u001b[0m in \u001b[0;36mfromfile\u001b[0;34m(cls, fileobj, mode, memmap, save_backup, cache, lazy_load_hdus, **kwargs)\u001b[0m\n\u001b[1;32m    385\u001b[0m         return cls._readfrom(fileobj=fileobj, mode=mode, memmap=memmap,\n\u001b[1;32m    386\u001b[0m                              \u001b[0msave_backup\u001b[0m\u001b[0;34m=\u001b[0m\u001b[0msave_backup\u001b[0m\u001b[0;34m,\u001b[0m \u001b[0mcache\u001b[0m\u001b[0;34m=\u001b[0m\u001b[0mcache\u001b[0m\u001b[0;34m,\u001b[0m\u001b[0;34m\u001b[0m\u001b[0m\n\u001b[0;32m--> 387\u001b[0;31m                              lazy_load_hdus=lazy_load_hdus, **kwargs)\n\u001b[0m\u001b[1;32m    388\u001b[0m \u001b[0;34m\u001b[0m\u001b[0m\n\u001b[1;32m    389\u001b[0m     \u001b[0;34m@\u001b[0m\u001b[0mclassmethod\u001b[0m\u001b[0;34m\u001b[0m\u001b[0m\n",
      "\u001b[0;32m~/anaconda3/envs/ngc6652/lib/python3.6/site-packages/astropy/io/fits/hdu/hdulist.py\u001b[0m in \u001b[0;36m_readfrom\u001b[0;34m(cls, fileobj, data, mode, memmap, save_backup, cache, lazy_load_hdus, **kwargs)\u001b[0m\n\u001b[1;32m    972\u001b[0m             \u001b[0;32mif\u001b[0m \u001b[0;32mnot\u001b[0m \u001b[0misinstance\u001b[0m\u001b[0;34m(\u001b[0m\u001b[0mfileobj\u001b[0m\u001b[0;34m,\u001b[0m \u001b[0m_File\u001b[0m\u001b[0;34m)\u001b[0m\u001b[0;34m:\u001b[0m\u001b[0;34m\u001b[0m\u001b[0m\n\u001b[1;32m    973\u001b[0m                 \u001b[0;31m# instantiate a FITS file object (ffo)\u001b[0m\u001b[0;34m\u001b[0m\u001b[0;34m\u001b[0m\u001b[0m\n\u001b[0;32m--> 974\u001b[0;31m                 \u001b[0mfileobj\u001b[0m \u001b[0;34m=\u001b[0m \u001b[0m_File\u001b[0m\u001b[0;34m(\u001b[0m\u001b[0mfileobj\u001b[0m\u001b[0;34m,\u001b[0m \u001b[0mmode\u001b[0m\u001b[0;34m=\u001b[0m\u001b[0mmode\u001b[0m\u001b[0;34m,\u001b[0m \u001b[0mmemmap\u001b[0m\u001b[0;34m=\u001b[0m\u001b[0mmemmap\u001b[0m\u001b[0;34m,\u001b[0m \u001b[0mcache\u001b[0m\u001b[0;34m=\u001b[0m\u001b[0mcache\u001b[0m\u001b[0;34m)\u001b[0m\u001b[0;34m\u001b[0m\u001b[0m\n\u001b[0m\u001b[1;32m    975\u001b[0m             \u001b[0;31m# The Astropy mode is determined by the _File initializer if the\u001b[0m\u001b[0;34m\u001b[0m\u001b[0;34m\u001b[0m\u001b[0m\n\u001b[1;32m    976\u001b[0m             \u001b[0;31m# supplied mode was None\u001b[0m\u001b[0;34m\u001b[0m\u001b[0;34m\u001b[0m\u001b[0m\n",
      "\u001b[0;32m~/anaconda3/envs/ngc6652/lib/python3.6/site-packages/astropy/utils/decorators.py\u001b[0m in \u001b[0;36mwrapper\u001b[0;34m(*args, **kwargs)\u001b[0m\n\u001b[1;32m    486\u001b[0m                         \u001b[0;31m# one with the name of the new argument to the function\u001b[0m\u001b[0;34m\u001b[0m\u001b[0;34m\u001b[0m\u001b[0m\n\u001b[1;32m    487\u001b[0m                         \u001b[0mkwargs\u001b[0m\u001b[0;34m[\u001b[0m\u001b[0mnew_name\u001b[0m\u001b[0;34m[\u001b[0m\u001b[0mi\u001b[0m\u001b[0;34m]\u001b[0m\u001b[0;34m]\u001b[0m \u001b[0;34m=\u001b[0m \u001b[0mvalue\u001b[0m\u001b[0;34m\u001b[0m\u001b[0m\n\u001b[0;32m--> 488\u001b[0;31m             \u001b[0;32mreturn\u001b[0m \u001b[0mfunction\u001b[0m\u001b[0;34m(\u001b[0m\u001b[0;34m*\u001b[0m\u001b[0margs\u001b[0m\u001b[0;34m,\u001b[0m \u001b[0;34m**\u001b[0m\u001b[0mkwargs\u001b[0m\u001b[0;34m)\u001b[0m\u001b[0;34m\u001b[0m\u001b[0m\n\u001b[0m\u001b[1;32m    489\u001b[0m \u001b[0;34m\u001b[0m\u001b[0m\n\u001b[1;32m    490\u001b[0m         \u001b[0;32mreturn\u001b[0m \u001b[0mwrapper\u001b[0m\u001b[0;34m\u001b[0m\u001b[0m\n",
      "\u001b[0;32m~/anaconda3/envs/ngc6652/lib/python3.6/site-packages/astropy/io/fits/file.py\u001b[0m in \u001b[0;36m__init__\u001b[0;34m(self, fileobj, mode, memmap, overwrite, cache)\u001b[0m\n\u001b[1;32m    173\u001b[0m             \u001b[0mself\u001b[0m\u001b[0;34m.\u001b[0m\u001b[0m_open_fileobj\u001b[0m\u001b[0;34m(\u001b[0m\u001b[0mfileobj\u001b[0m\u001b[0;34m,\u001b[0m \u001b[0mmode\u001b[0m\u001b[0;34m,\u001b[0m \u001b[0moverwrite\u001b[0m\u001b[0;34m)\u001b[0m\u001b[0;34m\u001b[0m\u001b[0m\n\u001b[1;32m    174\u001b[0m         \u001b[0;32melif\u001b[0m \u001b[0misinstance\u001b[0m\u001b[0;34m(\u001b[0m\u001b[0mfileobj\u001b[0m\u001b[0;34m,\u001b[0m \u001b[0mstr\u001b[0m\u001b[0;34m)\u001b[0m\u001b[0;34m:\u001b[0m\u001b[0;34m\u001b[0m\u001b[0m\n\u001b[0;32m--> 175\u001b[0;31m             \u001b[0mself\u001b[0m\u001b[0;34m.\u001b[0m\u001b[0m_open_filename\u001b[0m\u001b[0;34m(\u001b[0m\u001b[0mfileobj\u001b[0m\u001b[0;34m,\u001b[0m \u001b[0mmode\u001b[0m\u001b[0;34m,\u001b[0m \u001b[0moverwrite\u001b[0m\u001b[0;34m)\u001b[0m\u001b[0;34m\u001b[0m\u001b[0m\n\u001b[0m\u001b[1;32m    176\u001b[0m         \u001b[0;32melse\u001b[0m\u001b[0;34m:\u001b[0m\u001b[0;34m\u001b[0m\u001b[0m\n\u001b[1;32m    177\u001b[0m             \u001b[0mself\u001b[0m\u001b[0;34m.\u001b[0m\u001b[0m_open_filelike\u001b[0m\u001b[0;34m(\u001b[0m\u001b[0mfileobj\u001b[0m\u001b[0;34m,\u001b[0m \u001b[0mmode\u001b[0m\u001b[0;34m,\u001b[0m \u001b[0moverwrite\u001b[0m\u001b[0;34m)\u001b[0m\u001b[0;34m\u001b[0m\u001b[0m\n",
      "\u001b[0;32m~/anaconda3/envs/ngc6652/lib/python3.6/site-packages/astropy/io/fits/file.py\u001b[0m in \u001b[0;36m_open_filename\u001b[0;34m(self, filename, mode, overwrite)\u001b[0m\n\u001b[1;32m    529\u001b[0m \u001b[0;34m\u001b[0m\u001b[0m\n\u001b[1;32m    530\u001b[0m         \u001b[0;32mif\u001b[0m \u001b[0;32mnot\u001b[0m \u001b[0mself\u001b[0m\u001b[0;34m.\u001b[0m\u001b[0m_try_read_compressed\u001b[0m\u001b[0;34m(\u001b[0m\u001b[0mself\u001b[0m\u001b[0;34m.\u001b[0m\u001b[0mname\u001b[0m\u001b[0;34m,\u001b[0m \u001b[0mmagic\u001b[0m\u001b[0;34m,\u001b[0m \u001b[0mmode\u001b[0m\u001b[0;34m,\u001b[0m \u001b[0mext\u001b[0m\u001b[0;34m=\u001b[0m\u001b[0mext\u001b[0m\u001b[0;34m)\u001b[0m\u001b[0;34m:\u001b[0m\u001b[0;34m\u001b[0m\u001b[0m\n\u001b[0;32m--> 531\u001b[0;31m             \u001b[0mself\u001b[0m\u001b[0;34m.\u001b[0m\u001b[0m_file\u001b[0m \u001b[0;34m=\u001b[0m \u001b[0mfileobj_open\u001b[0m\u001b[0;34m(\u001b[0m\u001b[0mself\u001b[0m\u001b[0;34m.\u001b[0m\u001b[0mname\u001b[0m\u001b[0;34m,\u001b[0m \u001b[0mIO_FITS_MODES\u001b[0m\u001b[0;34m[\u001b[0m\u001b[0mmode\u001b[0m\u001b[0;34m]\u001b[0m\u001b[0;34m)\u001b[0m\u001b[0;34m\u001b[0m\u001b[0m\n\u001b[0m\u001b[1;32m    532\u001b[0m             \u001b[0mself\u001b[0m\u001b[0;34m.\u001b[0m\u001b[0mclose_on_error\u001b[0m \u001b[0;34m=\u001b[0m \u001b[0;32mTrue\u001b[0m\u001b[0;34m\u001b[0m\u001b[0m\n\u001b[1;32m    533\u001b[0m \u001b[0;34m\u001b[0m\u001b[0m\n",
      "\u001b[0;32m~/anaconda3/envs/ngc6652/lib/python3.6/site-packages/astropy/io/fits/util.py\u001b[0m in \u001b[0;36mfileobj_open\u001b[0;34m(filename, mode)\u001b[0m\n\u001b[1;32m    386\u001b[0m     \"\"\"\n\u001b[1;32m    387\u001b[0m \u001b[0;34m\u001b[0m\u001b[0m\n\u001b[0;32m--> 388\u001b[0;31m     \u001b[0;32mreturn\u001b[0m \u001b[0mopen\u001b[0m\u001b[0;34m(\u001b[0m\u001b[0mfilename\u001b[0m\u001b[0;34m,\u001b[0m \u001b[0mmode\u001b[0m\u001b[0;34m,\u001b[0m \u001b[0mbuffering\u001b[0m\u001b[0;34m=\u001b[0m\u001b[0;36m0\u001b[0m\u001b[0;34m)\u001b[0m\u001b[0;34m\u001b[0m\u001b[0m\n\u001b[0m\u001b[1;32m    389\u001b[0m \u001b[0;34m\u001b[0m\u001b[0m\n\u001b[1;32m    390\u001b[0m \u001b[0;34m\u001b[0m\u001b[0m\n",
      "\u001b[0;31mFileNotFoundError\u001b[0m: [Errno 2] No such file or directory: '/home/mmarcano/Documents/VIMOS/NGC6652/data/NGC6652B2/2003-06-22T03:35/RawESOdata/quadrant4/ifu_science_flux_reduced.fits'"
     ]
    }
   ],
   "source": [
    "a = fits.open('/home/mmarcano/Documents/VIMOS/NGC6652/data/NGC6652B2/2003-06-22T03:35/RawESOdata/quadrant4/ifu_science_flux_reduced.fits')"
   ]
  },
  {
   "cell_type": "markdown",
   "metadata": {},
   "source": [
    "# Change WCS"
   ]
  },
  {
   "cell_type": "code",
   "execution_count": 18,
   "metadata": {},
   "outputs": [
    {
     "name": "stdout",
     "output_type": "stream",
     "text": [
      "Filename: /home/mmarcano/Documents/VIMOS/NGC6652/data/NGC6652B2/2003-06-22T03:35/RawESOdata/Combine/ifu_science_cube_wcscorrected.fits\n",
      "No.    Name      Ver    Type      Cards   Dimensions   Format\n",
      "  0  PRIMARY       1 PrimaryHDU     269   (40, 40, 4259)   float32   \n"
     ]
    }
   ],
   "source": [
    "#changewcs(datadir+'Combine/ifu_science_flux_cube.fits',datadir+'Combine/ifu_science_flux_cube_wcscorrected.fits')\n",
    "changewcs(datadir+'Combine/ifu_science_cube.fits',datadir+'Combine/ifu_science_cube_wcscorrected.fits')"
   ]
  },
  {
   "cell_type": "code",
   "execution_count": null,
   "metadata": {},
   "outputs": [],
   "source": [
    "pwd"
   ]
  },
  {
   "cell_type": "code",
   "execution_count": null,
   "metadata": {},
   "outputs": [],
   "source": []
  }
 ],
 "metadata": {
  "kernelspec": {
   "display_name": "Python 3",
   "language": "python",
   "name": "python3"
  },
  "language_info": {
   "codemirror_mode": {
    "name": "ipython",
    "version": 3
   },
   "file_extension": ".py",
   "mimetype": "text/x-python",
   "name": "python",
   "nbconvert_exporter": "python",
   "pygments_lexer": "ipython3",
   "version": "3.6.5"
  }
 },
 "nbformat": 4,
 "nbformat_minor": 2
}
