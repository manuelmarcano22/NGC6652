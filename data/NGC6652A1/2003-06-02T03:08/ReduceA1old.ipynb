{
 "cells": [
  {
   "cell_type": "markdown",
   "metadata": {},
   "source": [
    "Nightlog information for file VIMOS.2003-06-02T03:08:10.004\n",
    "OB grade: A)Fully within specifications\n",
    "Comment: \n",
    "\n",
    "                  Requested    Fulfilled?\n",
    "    Seeing:           1.20          Yes\n",
    "    Airmass:          1.50          Yes\n",
    "    Moon Distance:    90          Yes\n",
    "    Sky Transparency: 3THN          Yes\n",
    "    Strehl Ratio:     0.000          N/A\n"
   ]
  },
  {
   "cell_type": "code",
   "execution_count": null,
   "metadata": {},
   "outputs": [],
   "source": []
  },
  {
   "cell_type": "code",
   "execution_count": 10,
   "metadata": {},
   "outputs": [],
   "source": [
    "import sys\n",
    "sys.path.append('../../')\n",
    "from reducing import reduceifu,reducecombinecube, changewcs"
   ]
  },
  {
   "cell_type": "code",
   "execution_count": 11,
   "metadata": {},
   "outputs": [],
   "source": [
    "import glob"
   ]
  },
  {
   "cell_type": "code",
   "execution_count": 31,
   "metadata": {},
   "outputs": [
    {
     "name": "stdout",
     "output_type": "stream",
     "text": [
      "MOS 3 VIMOS.2003-06-01T11:03:20.503.fits\n",
      "MOS 2 VIMOS.2003-06-01T11:04:12.999.fits\n",
      "MOS 3 VIMOS.2003-06-01T11:04:13.000.fits\n",
      "MOS 2 VIMOS.2003-06-01T11:05:08.547.fits\n",
      "MOS 3 VIMOS.2003-06-01T11:05:08.548.fits\n",
      "MOS 2 VIMOS.2003-06-01T11:06:05.169.fits\n",
      "MOS 3 VIMOS.2003-06-01T11:06:05.170.fits\n",
      "MOS 2 VIMOS.2003-06-01T11:06:58.322.fits\n",
      "MOS 3 VIMOS.2003-06-01T11:06:58.323.fits\n",
      "MOS 1 VIMOS.2003-06-02T12:33:47.805.fits\n",
      "MOS 4 VIMOS.2003-06-02T12:33:47.806.fits\n",
      "MOS 1 VIMOS.2003-06-02T12:34:39.026.fits\n",
      "MOS 4 VIMOS.2003-06-02T12:34:39.027.fits\n",
      "MOS 1 VIMOS.2003-06-02T12:35:30.201.fits\n",
      "MOS 4 VIMOS.2003-06-02T12:35:30.202.fits\n",
      "MOS 1 VIMOS.2003-06-02T12:36:21.588.fits\n",
      "MOS 4 VIMOS.2003-06-02T12:36:21.589.fits\n",
      "MOS 1 VIMOS.2003-06-02T12:37:13.006.fits\n",
      "MOS 4 VIMOS.2003-06-02T12:37:13.007.fits\n",
      "MOS 2 VIMOS.2003-06-02T19:26:37.073.fits\n",
      "MOS 3 VIMOS.2003-06-02T19:26:37.074.fits\n",
      "MOS 1 VIMOS.2003-06-02T19:27:06.394.fits\n",
      "MOS 4 VIMOS.2003-06-02T19:27:06.395.fits\n",
      "MOS 2 VIMOS.2003-06-02T19:27:29.545.fits\n",
      "MOS 3 VIMOS.2003-06-02T19:27:29.546.fits\n",
      "MOS 1 VIMOS.2003-06-02T19:27:58.893.fits\n",
      "MOS 4 VIMOS.2003-06-02T19:27:58.894.fits\n",
      "MOS 2 VIMOS.2003-06-02T19:28:22.122.fits\n",
      "MOS 3 VIMOS.2003-06-02T19:28:22.123.fits\n",
      "MOS 1 VIMOS.2003-06-02T19:28:51.438.fits\n",
      "MOS 4 VIMOS.2003-06-02T19:28:51.439.fits\n",
      "MOS 2 VIMOS.2003-06-02T19:29:15.040.fits\n",
      "MOS 3 VIMOS.2003-06-02T19:29:15.041.fits\n",
      "MOS 1 VIMOS.2003-06-02T19:29:44.361.fits\n",
      "MOS 4 VIMOS.2003-06-02T19:29:44.362.fits\n",
      "MOS 2 VIMOS.2003-06-02T19:30:08.120.fits\n",
      "MOS 3 VIMOS.2003-06-02T19:30:08.121.fits\n",
      "MOS 1 VIMOS.2003-06-02T19:30:37.451.fits\n",
      "MOS 4 VIMOS.2003-06-02T19:30:37.452.fits\n",
      "MOS 2 VIMOS.2003-06-03T11:23:09.653.fits\n",
      "MOS 3 VIMOS.2003-06-03T11:23:09.654.fits\n",
      "MOS 1 VIMOS.2003-06-03T11:23:39.090.fits\n",
      "MOS 4 VIMOS.2003-06-03T11:23:39.091.fits\n",
      "MOS 2 VIMOS.2003-06-03T11:24:02.318.fits\n",
      "MOS 3 VIMOS.2003-06-03T11:24:02.319.fits\n",
      "MOS 1 VIMOS.2003-06-03T11:24:31.674.fits\n",
      "MOS 4 VIMOS.2003-06-03T11:24:31.675.fits\n",
      "MOS 2 VIMOS.2003-06-03T11:24:57.137.fits\n",
      "MOS 3 VIMOS.2003-06-03T11:24:57.138.fits\n",
      "MOS 1 VIMOS.2003-06-03T11:25:26.548.fits\n",
      "MOS 4 VIMOS.2003-06-03T11:25:26.549.fits\n",
      "MOS 2 VIMOS.2003-06-03T11:25:50.845.fits\n",
      "MOS 3 VIMOS.2003-06-03T11:25:50.846.fits\n",
      "MOS 1 VIMOS.2003-06-03T11:26:20.261.fits\n",
      "MOS 2 VIMOS.2003-06-01T11:03:20.502.fits\n",
      "MOS 4 VIMOS.2003-06-03T11:26:20.262.fits\n",
      "MOS 2 VIMOS.2003-06-03T11:26:47.234.fits\n",
      "MOS 3 VIMOS.2003-06-03T11:26:47.235.fits\n",
      "MOS 1 VIMOS.2003-06-03T11:27:16.646.fits\n",
      "MOS 4 VIMOS.2003-06-03T11:27:16.647.fits\n",
      "IFU 2 VIMOS.2003-06-04T05:32:48.144.fits\n",
      "IFU 3 VIMOS.2003-06-04T05:32:48.145.fits\n",
      "IFU 1 VIMOS.2003-06-04T05:33:17.640.fits\n",
      "IFU 4 VIMOS.2003-06-04T05:33:17.641.fits\n",
      "IFU 2 VIMOS.2003-06-04T06:49:18.386.fits\n",
      "IFU 3 VIMOS.2003-06-04T06:49:18.387.fits\n",
      "IFU 1 VIMOS.2003-06-04T06:49:47.884.fits\n",
      "IFU 4 VIMOS.2003-06-04T06:49:47.885.fits\n",
      "IFU 2 VIMOS.2003-06-05T01:06:56.200.fits\n",
      "IFU 3 VIMOS.2003-06-05T01:06:56.201.fits\n",
      "IFU 4 VIMOS.2003-06-05T01:07:27.790.fits\n",
      "IFU 2 VIMOS.2003-06-06T07:08:16.803.fits\n",
      "IFU 3 VIMOS.2003-06-06T07:08:16.804.fits\n",
      "IFU 1 VIMOS.2003-06-06T07:08:36.980.fits\n",
      "IFU 4 VIMOS.2003-06-06T07:08:36.981.fits\n",
      "IFU 2 VIMOS.2003-06-06T07:13:49.717.fits\n",
      "IFU 3 VIMOS.2003-06-06T07:13:49.718.fits\n",
      "IFU 1 VIMOS.2003-06-06T07:14:09.879.fits\n",
      "IFU 4 VIMOS.2003-06-06T07:14:09.880.fits\n",
      "IFU 2 VIMOS.2003-06-04T04:34:46.144.fits\n",
      "IFU 3 VIMOS.2003-06-04T04:34:46.145.fits\n",
      "IFU 1 VIMOS.2003-06-04T04:35:15.634.fits\n",
      "IFU 4 VIMOS.2003-06-04T04:35:15.635.fits\n"
     ]
    }
   ],
   "source": [
    "l =glob.glob('RawESOdata/*.fits')\n",
    "for i in l:\n",
    "    temp = fits.open(i)\n",
    "    try:\n",
    "        cat = temp[0].header['HIERARCH ESO DPR CATG']\n",
    "        cattype = temp[0].header['HIERARCH ESO DPR TYPE']\n",
    "        quad = temp[0].header['HIERARCH ESO OCS CON QUAD']\n",
    "        mode = temp[0].header['HIERARCH ESO INS MODE']\n",
    "        if cattype == 'FLAT,LAMP':\n",
    "            print(mode,quad,i.split('/')[1])\n",
    "        if cattype == 'BIAS':\n",
    "            print(mode,quad,i.split('/')[1])\n",
    "    except:\n",
    "        pass"
   ]
  },
  {
   "cell_type": "code",
   "execution_count": 25,
   "metadata": {},
   "outputs": [],
   "source": [
    "datadir = '/home/mmarcano/Documents/VIMOS/NGC6652/data/NGC6652A1/2003-06-02T03:08/RawESOdata/'\n",
    "\n",
    "rawdataq1 = {'IFU_SCIENCE':'VIMOS.2003-06-24T05:47:09.495.fits','LINE_CATALOG':'M.VIMOS.2008-06-17T18:11:18.672.fits',\n",
    "          'EXTINCT_TABLE':'M.VIMOS.2008-06-17T18:12:53.176.fits',\n",
    "          'STD_FLUX_TABLE':'M.VIMOS.2008-06-17T18:13:13.956.fits',\n",
    "           'IFU_IDENT':'M.VIMOS.2008-06-17T18:16:03.380.fits',\n",
    "           'IFU_MASTER_RESPONSE':'M.VIMOS.2008-06-17T18:20:40.981.fits',\n",
    "           'BIAS':['VIMOS.2003-06-23T14:48:34.459.fits','VIMOS.2003-06-23T14:49:26.872.fits','VIMOS.2003-06-23T14:50:19.472.fits','VIMOS.2003-06-23T14:51:12.021.fits','VIMOS.2003-06-23T14:52:04.693.fits',\n",
    "                  'VIMOS.2003-06-24T11:27:11.124.fits','VIMOS.2003-06-24T11:28:03.627.fits','VIMOS.2003-06-24T11:28:56.486.fits','VIMOS.2003-06-24T11:29:49.973.fits','VIMOS.2003-06-24T11:30:43.186.fits'],\n",
    "           'IFU_ARC_SPECTRUM':['VIMOS.2003-06-24T06:32:58.132.fits'],\n",
    "           'IFU_STANDARD':'VIMOS.2003-06-24T10:26:46.402.fits',\n",
    "           'IFU_SCREEN_FLAT':['VIMOS.2003-06-24T10:43:31.636.fits','VIMOS.2003-06-24T10:44:42.776.fits','VIMOS.2003-06-24T10:45:54.168.fits']}\n",
    "\n",
    "rawdataq2 = {'IFU_SCIENCE':'VIMOS.2003-06-02T03:08:10.004.fits',\n",
    "           'LINE_CATALOG':'M.VIMOS.2008-06-17T18:11:23.749.fits',\n",
    "          'EXTINCT_TABLE':'M.VIMOS.2008-06-17T18:12:53.176.fits',\n",
    "          'STD_FLUX_TABLE':'M.VIMOS.2008-06-17T18:13:10.885.fits',\n",
    "           'IFU_IDENT':'M.VIMOS.2008-06-17T18:16:06.327.fits',\n",
    "           'IFU_MASTER_RESPONSE':'M.VIMOS.2008-06-17T18:20:44.067.fits',\n",
    "           'BIAS':['VIMOS.2003-06-01T11:03:20.502.fits','VIMOS.2003-06-01T11:04:12.999.fits','VIMOS.2003-06-01T11:05:08.547.fits','VIMOS.2003-06-01T11:06:05.169.fits','VIMOS.2003-06-01T11:06:58.322.fits',\n",
    "                  'VIMOS.2003-06-02T19:26:37.073.fits','VIMOS.2003-06-02T19:27:29.545.fits','VIMOS.2003-06-02T19:28:22.122.fits','VIMOS.2003-06-02T19:29:15.040.fits','VIMOS.2003-06-02T19:30:08.120.fits',\n",
    "                  \"VIMOS.2003-06-03T11:23:09.653.fits\",\"VIMOS.2003-06-03T11:24:02.318.fits\",'VIMOS.2003-06-03T11:24:57.137.fits','VIMOS.2003-06-03T11:25:50.845.fits','VIMOS.2003-06-03T11:26:47.234.fits'],\n",
    "           'IFU_ARC_SPECTRUM':'VIMOS.2003-06-02T03:55:35.127.fits',\n",
    "           'IFU_STANDARD':'VIMOS.2003-06-02T02:59:00.665.fits',\n",
    "           'IFU_SCREEN_FLAT':['VIMOS.2003-06-04T04:34:46.144.fits']\n",
    "          }\n",
    "\n",
    "rawdataq3 = {'IFU_SCIENCE':'VIMOS.2003-06-24T05:47:09.634.fits',\n",
    "           'LINE_CATALOG':'M.VIMOS.2008-06-17T18:11:28.741.fits',\n",
    "          'EXTINCT_TABLE':'M.VIMOS.2008-06-17T18:12:53.176.fits',\n",
    "          'STD_FLUX_TABLE':'M.VIMOS.2008-06-17T18:13:13.956.fits',\n",
    "           'IFU_IDENT':'M.VIMOS.2008-06-17T18:16:09.125.fits',\n",
    "           'IFU_MASTER_RESPONSE':'M.VIMOS.2008-06-17T18:20:47.901.fits',\n",
    "           'BIAS':['VIMOS.2003-06-23T14:48:34.616.fits','VIMOS.2003-06-23T14:49:27.031.fits','VIMOS.2003-06-23T14:50:19.638.fits','VIMOS.2003-06-23T14:51:12.166.fits','VIMOS.2003-06-23T14:52:04.865.fits',\n",
    "                  'VIMOS.2003-06-24T11:27:11.268.fits','VIMOS.2003-06-24T11:28:03.763.fits','VIMOS.2003-06-24T11:28:56.626.fits','VIMOS.2003-06-24T11:29:50.114.fits','VIMOS.2003-06-24T11:30:43.335.fits'],\n",
    "           'IFU_ARC_SPECTRUM':'VIMOS.2003-06-24T06:32:58.279.fits',\n",
    "           'IFU_STANDARD':'VIMOS.2003-06-24T10:34:16.581.fits',\n",
    "           'IFU_SCREEN_FLAT':['VIMOS.2003-06-24T10:43:31.778.fits','VIMOS.2003-06-24T10:44:42.924.fits','VIMOS.2003-06-24T10:45:54.301.fits']\n",
    "          }\n",
    "\n",
    "rawdataq4 ={'IFU_SCIENCE':'VIMOS.2003-06-24T05:47:09.496.fits',\n",
    "           'LINE_CATALOG':'M.VIMOS.2008-06-17T18:11:31.782.fits',\n",
    "          'EXTINCT_TABLE':'M.VIMOS.2008-06-17T18:12:53.176.fits',\n",
    "          'STD_FLUX_TABLE':'M.VIMOS.2008-06-17T18:13:13.956.fits',\n",
    "           'IFU_IDENT':'M.VIMOS.2008-06-17T18:16:12.090.fits',\n",
    "           'IFU_MASTER_RESPONSE':'M.VIMOS.2008-06-17T18:20:50.827.fits',\n",
    "           'BIAS':['VIMOS.2003-06-23T14:48:34.460.fits','VIMOS.2003-06-23T14:49:26.873.fits','VIMOS.2003-06-23T14:50:19.473.fits','VIMOS.2003-06-23T14:51:12.022.fits','VIMOS.2003-06-23T14:52:04.694.fits',\n",
    "                  'VIMOS.2003-06-24T11:27:11.125.fits','VIMOS.2003-06-24T11:28:03.628.fits','VIMOS.2003-06-24T11:28:56.487.fits','VIMOS.2003-06-24T11:29:49.974.fits','VIMOS.2003-06-24T11:30:43.187.fits'],\n",
    "           'IFU_ARC_SPECTRUM':'VIMOS.2003-06-24T06:32:58.133.fits',\n",
    "           'IFU_STANDARD':'VIMOS.2003-06-24T10:38:01.522.fits',\n",
    "           'IFU_SCREEN_FLAT':['VIMOS.2003-06-24T10:43:31.637.fits','VIMOS.2003-06-24T10:44:42.777.fits','VIMOS.2003-06-24T10:45:54.169.fits']\n",
    "          }"
   ]
  },
  {
   "cell_type": "code",
   "execution_count": 4,
   "metadata": {},
   "outputs": [
    {
     "name": "stdout",
     "output_type": "stream",
     "text": [
      "Quadrant 1\n",
      "/home/mmarcano/Documents/VIMOS/NGC6652/esorex/bin/esorex --output-dir=/home/mmarcano/Documents/VIMOS/NGC6652/data/NGC6652B5/2003-06-24T05:47:09/RawESOdata/quadrant1 --log-dir=/home/mmarcano/Documents/VIMOS/NGC6652/data/NGC6652B5/2003-06-24T05:47:09/RawESOdata/quadrant1 vmbias  /home/mmarcano/Documents/VIMOS/NGC6652/data/NGC6652B5/2003-06-24T05:47:09/RawESOdata/quadrant1/bias.sof\n",
      "/home/mmarcano/Documents/VIMOS/NGC6652/esorex/bin/esorex --output-dir=/home/mmarcano/Documents/VIMOS/NGC6652/data/NGC6652B5/2003-06-24T05:47:09/RawESOdata/quadrant1 --log-dir=/home/mmarcano/Documents/VIMOS/NGC6652/data/NGC6652B5/2003-06-24T05:47:09/RawESOdata/quadrant1 vmifucalib  /home/mmarcano/Documents/VIMOS/NGC6652/data/NGC6652B5/2003-06-24T05:47:09/RawESOdata/quadrant1/calib.sof\n",
      "/home/mmarcano/Documents/VIMOS/NGC6652/esorex/bin/esorex --output-dir=/home/mmarcano/Documents/VIMOS/NGC6652/data/NGC6652B5/2003-06-24T05:47:09/RawESOdata/quadrant1 --log-dir=/home/mmarcano/Documents/VIMOS/NGC6652/data/NGC6652B5/2003-06-24T05:47:09/RawESOdata/quadrant1 vmifustandard  /home/mmarcano/Documents/VIMOS/NGC6652/data/NGC6652B5/2003-06-24T05:47:09/RawESOdata/quadrant1/ifustandard.sof\n",
      "/home/mmarcano/Documents/VIMOS/NGC6652/esorex/bin/esorex --output-dir=/home/mmarcano/Documents/VIMOS/NGC6652/data/NGC6652B5/2003-06-24T05:47:09/RawESOdata/quadrant1 --log-dir=/home/mmarcano/Documents/VIMOS/NGC6652/data/NGC6652B5/2003-06-24T05:47:09/RawESOdata/quadrant1 vmifuscience --CalibrateFlux=true /home/mmarcano/Documents/VIMOS/NGC6652/data/NGC6652B5/2003-06-24T05:47:09/RawESOdata/quadrant1/ifuscience.sof\n",
      "Quadrant 4\n",
      "/home/mmarcano/Documents/VIMOS/NGC6652/esorex/bin/esorex --output-dir=/home/mmarcano/Documents/VIMOS/NGC6652/data/NGC6652B5/2003-06-24T05:47:09/RawESOdata/quadrant4 --log-dir=/home/mmarcano/Documents/VIMOS/NGC6652/data/NGC6652B5/2003-06-24T05:47:09/RawESOdata/quadrant4 vmbias  /home/mmarcano/Documents/VIMOS/NGC6652/data/NGC6652B5/2003-06-24T05:47:09/RawESOdata/quadrant4/bias.sof\n",
      "/home/mmarcano/Documents/VIMOS/NGC6652/esorex/bin/esorex --output-dir=/home/mmarcano/Documents/VIMOS/NGC6652/data/NGC6652B5/2003-06-24T05:47:09/RawESOdata/quadrant4 --log-dir=/home/mmarcano/Documents/VIMOS/NGC6652/data/NGC6652B5/2003-06-24T05:47:09/RawESOdata/quadrant4 vmifucalib  /home/mmarcano/Documents/VIMOS/NGC6652/data/NGC6652B5/2003-06-24T05:47:09/RawESOdata/quadrant4/calib.sof\n",
      "/home/mmarcano/Documents/VIMOS/NGC6652/esorex/bin/esorex --output-dir=/home/mmarcano/Documents/VIMOS/NGC6652/data/NGC6652B5/2003-06-24T05:47:09/RawESOdata/quadrant4 --log-dir=/home/mmarcano/Documents/VIMOS/NGC6652/data/NGC6652B5/2003-06-24T05:47:09/RawESOdata/quadrant4 vmifustandard  /home/mmarcano/Documents/VIMOS/NGC6652/data/NGC6652B5/2003-06-24T05:47:09/RawESOdata/quadrant4/ifustandard.sof\n",
      "/home/mmarcano/Documents/VIMOS/NGC6652/esorex/bin/esorex --output-dir=/home/mmarcano/Documents/VIMOS/NGC6652/data/NGC6652B5/2003-06-24T05:47:09/RawESOdata/quadrant4 --log-dir=/home/mmarcano/Documents/VIMOS/NGC6652/data/NGC6652B5/2003-06-24T05:47:09/RawESOdata/quadrant4 vmifuscience --CalibrateFlux=true /home/mmarcano/Documents/VIMOS/NGC6652/data/NGC6652B5/2003-06-24T05:47:09/RawESOdata/quadrant4/ifuscience.sof\n",
      "Quadrant 2\n",
      "/home/mmarcano/Documents/VIMOS/NGC6652/esorex/bin/esorex --output-dir=/home/mmarcano/Documents/VIMOS/NGC6652/data/NGC6652B5/2003-06-24T05:47:09/RawESOdata/quadrant2 --log-dir=/home/mmarcano/Documents/VIMOS/NGC6652/data/NGC6652B5/2003-06-24T05:47:09/RawESOdata/quadrant2 vmbias  /home/mmarcano/Documents/VIMOS/NGC6652/data/NGC6652B5/2003-06-24T05:47:09/RawESOdata/quadrant2/bias.sof\n",
      "/home/mmarcano/Documents/VIMOS/NGC6652/esorex/bin/esorex --output-dir=/home/mmarcano/Documents/VIMOS/NGC6652/data/NGC6652B5/2003-06-24T05:47:09/RawESOdata/quadrant2 --log-dir=/home/mmarcano/Documents/VIMOS/NGC6652/data/NGC6652B5/2003-06-24T05:47:09/RawESOdata/quadrant2 vmifucalib  /home/mmarcano/Documents/VIMOS/NGC6652/data/NGC6652B5/2003-06-24T05:47:09/RawESOdata/quadrant2/calib.sof\n",
      "/home/mmarcano/Documents/VIMOS/NGC6652/esorex/bin/esorex --output-dir=/home/mmarcano/Documents/VIMOS/NGC6652/data/NGC6652B5/2003-06-24T05:47:09/RawESOdata/quadrant2 --log-dir=/home/mmarcano/Documents/VIMOS/NGC6652/data/NGC6652B5/2003-06-24T05:47:09/RawESOdata/quadrant2 vmifustandard  /home/mmarcano/Documents/VIMOS/NGC6652/data/NGC6652B5/2003-06-24T05:47:09/RawESOdata/quadrant2/ifustandard.sof\n",
      "/home/mmarcano/Documents/VIMOS/NGC6652/esorex/bin/esorex --output-dir=/home/mmarcano/Documents/VIMOS/NGC6652/data/NGC6652B5/2003-06-24T05:47:09/RawESOdata/quadrant2 --log-dir=/home/mmarcano/Documents/VIMOS/NGC6652/data/NGC6652B5/2003-06-24T05:47:09/RawESOdata/quadrant2 vmifuscience --CalibrateFlux=true /home/mmarcano/Documents/VIMOS/NGC6652/data/NGC6652B5/2003-06-24T05:47:09/RawESOdata/quadrant2/ifuscience.sof\n",
      "Quadrant 3\n",
      "/home/mmarcano/Documents/VIMOS/NGC6652/esorex/bin/esorex --output-dir=/home/mmarcano/Documents/VIMOS/NGC6652/data/NGC6652B5/2003-06-24T05:47:09/RawESOdata/quadrant3 --log-dir=/home/mmarcano/Documents/VIMOS/NGC6652/data/NGC6652B5/2003-06-24T05:47:09/RawESOdata/quadrant3 vmbias  /home/mmarcano/Documents/VIMOS/NGC6652/data/NGC6652B5/2003-06-24T05:47:09/RawESOdata/quadrant3/bias.sof\n",
      "/home/mmarcano/Documents/VIMOS/NGC6652/esorex/bin/esorex --output-dir=/home/mmarcano/Documents/VIMOS/NGC6652/data/NGC6652B5/2003-06-24T05:47:09/RawESOdata/quadrant3 --log-dir=/home/mmarcano/Documents/VIMOS/NGC6652/data/NGC6652B5/2003-06-24T05:47:09/RawESOdata/quadrant3 vmifucalib  /home/mmarcano/Documents/VIMOS/NGC6652/data/NGC6652B5/2003-06-24T05:47:09/RawESOdata/quadrant3/calib.sof\n",
      "/home/mmarcano/Documents/VIMOS/NGC6652/esorex/bin/esorex --output-dir=/home/mmarcano/Documents/VIMOS/NGC6652/data/NGC6652B5/2003-06-24T05:47:09/RawESOdata/quadrant3 --log-dir=/home/mmarcano/Documents/VIMOS/NGC6652/data/NGC6652B5/2003-06-24T05:47:09/RawESOdata/quadrant3 vmifustandard  /home/mmarcano/Documents/VIMOS/NGC6652/data/NGC6652B5/2003-06-24T05:47:09/RawESOdata/quadrant3/ifustandard.sof\n",
      "/home/mmarcano/Documents/VIMOS/NGC6652/esorex/bin/esorex --output-dir=/home/mmarcano/Documents/VIMOS/NGC6652/data/NGC6652B5/2003-06-24T05:47:09/RawESOdata/quadrant3 --log-dir=/home/mmarcano/Documents/VIMOS/NGC6652/data/NGC6652B5/2003-06-24T05:47:09/RawESOdata/quadrant3 vmifuscience --CalibrateFlux=true /home/mmarcano/Documents/VIMOS/NGC6652/data/NGC6652B5/2003-06-24T05:47:09/RawESOdata/quadrant3/ifuscience.sof\n"
     ]
    }
   ],
   "source": [
    "reduceifu(datadir,rawdataq1)\n",
    "reduceifu(datadir,rawdataq4)\n",
    "reduceifu(datadir,rawdataq2)\n",
    "reduceifu(datadir,rawdataq3)\n"
   ]
  },
  {
   "cell_type": "markdown",
   "metadata": {},
   "source": [
    "# Create Cube"
   ]
  },
  {
   "cell_type": "code",
   "execution_count": 77,
   "metadata": {},
   "outputs": [
    {
     "name": "stdout",
     "output_type": "stream",
     "text": [
      "/home/mmarcano/Documents/VIMOS/NGC6652/esorex/bin/esorex --output-dir=/home/mmarcano/Documents/VIMOS/NGC6652/data/NGC6652A1/2003-06-02T03:08/RawESOdata/Combine --log-dir=/home/mmarcano/Documents/VIMOS/NGC6652/data/NGC6652A1/2003-06-02T03:08/RawESOdata/Combine vmifucombinecube /home/mmarcano/Documents/VIMOS/NGC6652/data/NGC6652A1/2003-06-02T03:08/RawESOdata/Combine/ifucombinefovifu_science_flux_reduced.sof \n",
      "/home/mmarcano/Documents/VIMOS/NGC6652/esorex/bin/esorex --output-dir=/home/mmarcano/Documents/VIMOS/NGC6652/data/NGC6652A1/2003-06-02T03:08/RawESOdata/Combine --log-dir=/home/mmarcano/Documents/VIMOS/NGC6652/data/NGC6652A1/2003-06-02T03:08/RawESOdata/Combine vmifucombinecube /home/mmarcano/Documents/VIMOS/NGC6652/data/NGC6652A1/2003-06-02T03:08/RawESOdata/Combine/ifucombinefovifu_science_reduced.sof \n"
     ]
    }
   ],
   "source": [
    "reducecombinecube(datadir,typecombine='ifu_science_flux_reduced')\n",
    "reducecombinecube(datadir,typecombine='ifu_science_reduced')\n",
    "\n"
   ]
  },
  {
   "cell_type": "markdown",
   "metadata": {},
   "source": [
    "# Change WCS"
   ]
  },
  {
   "cell_type": "code",
   "execution_count": 6,
   "metadata": {},
   "outputs": [
    {
     "name": "stdout",
     "output_type": "stream",
     "text": [
      "Filename: /home/mmarcano/Documents/VIMOS/NGC6652/data/NGC6652B5/2003-06-24T05:47:09/RawESOdata/Combine/ifu_science_flux_cube_wcscorrected.fits\n",
      "No.    Name      Ver    Type      Cards   Dimensions   Format\n",
      "  0  PRIMARY       1 PrimaryHDU     272   (40, 40, 4259)   float32   \n",
      "Filename: /home/mmarcano/Documents/VIMOS/NGC6652/data/NGC6652B5/2003-06-24T05:47:09/RawESOdata/Combine/ifu_science_cube_wcscorrected.fits\n",
      "No.    Name      Ver    Type      Cards   Dimensions   Format\n",
      "  0  PRIMARY       1 PrimaryHDU     272   (40, 40, 4259)   float32   \n"
     ]
    }
   ],
   "source": [
    "changewcs(datadir+'Combine/ifu_science_flux_cube.fits',datadir+'Combine/ifu_science_flux_cube_wcscorrected.fits')\n",
    "changewcs(datadir+'Combine/ifu_science_cube.fits',datadir+'Combine/ifu_science_cube_wcscorrected.fits')"
   ]
  },
  {
   "cell_type": "code",
   "execution_count": null,
   "metadata": {},
   "outputs": [],
   "source": []
  }
 ],
 "metadata": {
  "kernelspec": {
   "display_name": "Python 3",
   "language": "python",
   "name": "python3"
  },
  "language_info": {
   "codemirror_mode": {
    "name": "ipython",
    "version": 3
   },
   "file_extension": ".py",
   "mimetype": "text/x-python",
   "name": "python",
   "nbconvert_exporter": "python",
   "pygments_lexer": "ipython3",
   "version": "3.6.5"
  }
 },
 "nbformat": 4,
 "nbformat_minor": 2
}
