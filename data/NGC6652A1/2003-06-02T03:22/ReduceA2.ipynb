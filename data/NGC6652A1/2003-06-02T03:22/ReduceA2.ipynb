{
 "cells": [
  {
   "cell_type": "code",
   "execution_count": 23,
   "metadata": {},
   "outputs": [
    {
     "name": "stdout",
     "output_type": "stream",
     "text": [
      "{'LINE_CATALOG': ['M.VIMOS.2008-06-17T18:11:18.672.fits'], 'EXTINCT_TABLE': ['M.VIMOS.2008-06-17T18:12:53.176.fits'], 'STD_FLUX_TABLE': ['M.VIMOS.2008-06-17T18:13:10.885.fits'], 'IFU_IDENT': ['M.VIMOS.2008-06-17T18:16:03.380.fits'], 'IFU_MASTER_RESPONSE': ['M.VIMOS.2008-06-17T18:20:40.981.fits'], 'IFU_STANDARD': ['VIMOS.2003-06-02T02:57:57.424.fits'], 'IFU_SCIENCE': ['VIMOS.2003-06-02T03:22:58.044.fits'], 'IFU_ARC_SPECTRUM': ['VIMOS.2003-06-02T03:56:02.396.fits', 'VIMOS.2003-06-04T04:33:04.203.fits'], 'BIAS': ['VIMOS.2003-06-02T12:33:47.805.fits', 'VIMOS.2003-06-02T12:34:39.026.fits', 'VIMOS.2003-06-02T12:35:30.201.fits', 'VIMOS.2003-06-02T12:36:21.588.fits', 'VIMOS.2003-06-02T12:37:13.006.fits', 'VIMOS.2003-06-02T19:27:06.394.fits', 'VIMOS.2003-06-02T19:27:58.893.fits', 'VIMOS.2003-06-02T19:28:51.438.fits', 'VIMOS.2003-06-02T19:29:44.361.fits', 'VIMOS.2003-06-02T19:30:37.451.fits', 'VIMOS.2003-06-03T11:23:39.090.fits', 'VIMOS.2003-06-03T11:24:31.674.fits', 'VIMOS.2003-06-03T11:25:26.548.fits', 'VIMOS.2003-06-03T11:26:20.261.fits', 'VIMOS.2003-06-03T11:27:16.646.fits'], 'IFU_SCREEN_FLAT': ['VIMOS.2003-06-04T04:35:15.634.fits']}\n",
      "Quadrant 1\n",
      "/home/mmarcano/Documents/VIMOS/NGC6652/esorex/bin/esorex --output-dir=/home/mmarcano/Documents/VIMOS/NGC6652/data/NGC6652A1/2003-06-02T03:22/RawESOdata/quadrant1 --log-dir=/home/mmarcano/Documents/VIMOS/NGC6652/data/NGC6652A1/2003-06-02T03:22/RawESOdata/quadrant1 vmbias  /home/mmarcano/Documents/VIMOS/NGC6652/data/NGC6652A1/2003-06-02T03:22/RawESOdata/quadrant1/bias.sof\n",
      "/home/mmarcano/Documents/VIMOS/NGC6652/esorex/bin/esorex --output-dir=/home/mmarcano/Documents/VIMOS/NGC6652/data/NGC6652A1/2003-06-02T03:22/RawESOdata/quadrant1 --log-dir=/home/mmarcano/Documents/VIMOS/NGC6652/data/NGC6652A1/2003-06-02T03:22/RawESOdata/quadrant1 vmifucalib  /home/mmarcano/Documents/VIMOS/NGC6652/data/NGC6652A1/2003-06-02T03:22/RawESOdata/quadrant1/calib.sof\n",
      "/home/mmarcano/Documents/VIMOS/NGC6652/esorex/bin/esorex --output-dir=/home/mmarcano/Documents/VIMOS/NGC6652/data/NGC6652A1/2003-06-02T03:22/RawESOdata/quadrant1 --log-dir=/home/mmarcano/Documents/VIMOS/NGC6652/data/NGC6652A1/2003-06-02T03:22/RawESOdata/quadrant1 vmifustandard  /home/mmarcano/Documents/VIMOS/NGC6652/data/NGC6652A1/2003-06-02T03:22/RawESOdata/quadrant1/ifustandard.sof\n",
      "/home/mmarcano/Documents/VIMOS/NGC6652/esorex/bin/esorex --output-dir=/home/mmarcano/Documents/VIMOS/NGC6652/data/NGC6652A1/2003-06-02T03:22/RawESOdata/quadrant1 --log-dir=/home/mmarcano/Documents/VIMOS/NGC6652/data/NGC6652A1/2003-06-02T03:22/RawESOdata/quadrant1 vmifuscience --CalibrateFlux=true /home/mmarcano/Documents/VIMOS/NGC6652/data/NGC6652A1/2003-06-02T03:22/RawESOdata/quadrant1/ifuscience.sof\n",
      "{'LINE_CATALOG': ['M.VIMOS.2008-06-17T18:11:23.749.fits'], 'EXTINCT_TABLE': ['M.VIMOS.2008-06-17T18:12:53.176.fits'], 'STD_FLUX_TABLE': ['M.VIMOS.2008-06-17T18:13:10.885.fits'], 'IFU_IDENT': ['M.VIMOS.2008-06-17T18:16:06.327.fits'], 'IFU_MASTER_RESPONSE': ['M.VIMOS.2008-06-17T18:20:44.067.fits'], 'BIAS': ['VIMOS.2003-06-01T11:04:12.999.fits', 'VIMOS.2003-06-01T11:05:08.547.fits', 'VIMOS.2003-06-01T11:06:05.169.fits', 'VIMOS.2003-06-01T11:06:58.322.fits', 'VIMOS.2003-06-02T19:26:37.073.fits', 'VIMOS.2003-06-02T19:27:29.545.fits', 'VIMOS.2003-06-02T19:28:22.122.fits', 'VIMOS.2003-06-02T19:29:15.040.fits', 'VIMOS.2003-06-02T19:30:08.120.fits', 'VIMOS.2003-06-03T11:23:09.653.fits', 'VIMOS.2003-06-03T11:24:02.318.fits', 'VIMOS.2003-06-03T11:24:57.137.fits', 'VIMOS.2003-06-03T11:25:50.845.fits', 'VIMOS.2003-06-01T11:03:20.502.fits', 'VIMOS.2003-06-03T11:26:47.234.fits'], 'IFU_STANDARD': ['VIMOS.2003-06-02T02:59:00.665.fits'], 'IFU_SCIENCE': ['VIMOS.2003-06-02T03:22:30.779.fits'], 'IFU_ARC_SPECTRUM': ['VIMOS.2003-06-02T03:55:35.127.fits', 'VIMOS.2003-06-04T04:32:34.698.fits'], 'IFU_SCREEN_FLAT': ['VIMOS.2003-06-04T04:34:46.144.fits']}\n",
      "Quadrant 2\n",
      "/home/mmarcano/Documents/VIMOS/NGC6652/esorex/bin/esorex --output-dir=/home/mmarcano/Documents/VIMOS/NGC6652/data/NGC6652A1/2003-06-02T03:22/RawESOdata/quadrant2 --log-dir=/home/mmarcano/Documents/VIMOS/NGC6652/data/NGC6652A1/2003-06-02T03:22/RawESOdata/quadrant2 vmbias  /home/mmarcano/Documents/VIMOS/NGC6652/data/NGC6652A1/2003-06-02T03:22/RawESOdata/quadrant2/bias.sof\n",
      "/home/mmarcano/Documents/VIMOS/NGC6652/esorex/bin/esorex --output-dir=/home/mmarcano/Documents/VIMOS/NGC6652/data/NGC6652A1/2003-06-02T03:22/RawESOdata/quadrant2 --log-dir=/home/mmarcano/Documents/VIMOS/NGC6652/data/NGC6652A1/2003-06-02T03:22/RawESOdata/quadrant2 vmifucalib  /home/mmarcano/Documents/VIMOS/NGC6652/data/NGC6652A1/2003-06-02T03:22/RawESOdata/quadrant2/calib.sof\n",
      "/home/mmarcano/Documents/VIMOS/NGC6652/esorex/bin/esorex --output-dir=/home/mmarcano/Documents/VIMOS/NGC6652/data/NGC6652A1/2003-06-02T03:22/RawESOdata/quadrant2 --log-dir=/home/mmarcano/Documents/VIMOS/NGC6652/data/NGC6652A1/2003-06-02T03:22/RawESOdata/quadrant2 vmifustandard  /home/mmarcano/Documents/VIMOS/NGC6652/data/NGC6652A1/2003-06-02T03:22/RawESOdata/quadrant2/ifustandard.sof\n",
      "/home/mmarcano/Documents/VIMOS/NGC6652/esorex/bin/esorex --output-dir=/home/mmarcano/Documents/VIMOS/NGC6652/data/NGC6652A1/2003-06-02T03:22/RawESOdata/quadrant2 --log-dir=/home/mmarcano/Documents/VIMOS/NGC6652/data/NGC6652A1/2003-06-02T03:22/RawESOdata/quadrant2 vmifuscience --CalibrateFlux=true /home/mmarcano/Documents/VIMOS/NGC6652/data/NGC6652A1/2003-06-02T03:22/RawESOdata/quadrant2/ifuscience.sof\n",
      "{'LINE_CATALOG': ['M.VIMOS.2008-06-17T18:11:28.741.fits'], 'EXTINCT_TABLE': ['M.VIMOS.2008-06-17T18:12:53.176.fits'], 'STD_FLUX_TABLE': ['M.VIMOS.2008-06-17T18:13:10.885.fits'], 'IFU_IDENT': ['M.VIMOS.2008-06-17T18:16:09.125.fits'], 'IFU_MASTER_RESPONSE': ['M.VIMOS.2008-06-17T18:20:47.901.fits'], 'BIAS': ['VIMOS.2003-06-01T11:03:20.503.fits', 'VIMOS.2003-06-01T11:04:13.000.fits', 'VIMOS.2003-06-01T11:05:08.548.fits', 'VIMOS.2003-06-01T11:06:05.170.fits', 'VIMOS.2003-06-01T11:06:58.323.fits', 'VIMOS.2003-06-02T19:26:37.074.fits', 'VIMOS.2003-06-02T19:27:29.546.fits', 'VIMOS.2003-06-02T19:28:22.123.fits', 'VIMOS.2003-06-02T19:29:15.041.fits', 'VIMOS.2003-06-02T19:30:08.121.fits', 'VIMOS.2003-06-03T11:23:09.654.fits', 'VIMOS.2003-06-03T11:24:02.319.fits', 'VIMOS.2003-06-03T11:24:57.138.fits', 'VIMOS.2003-06-03T11:25:50.846.fits', 'VIMOS.2003-06-03T11:26:47.235.fits'], 'IFU_STANDARD': ['VIMOS.2003-06-02T03:00:30.158.fits'], 'IFU_SCIENCE': ['VIMOS.2003-06-02T03:22:30.780.fits'], 'IFU_ARC_SPECTRUM': ['VIMOS.2003-06-02T03:55:35.128.fits', 'VIMOS.2003-06-04T04:32:34.699.fits'], 'IFU_SCREEN_FLAT': ['VIMOS.2003-06-04T04:34:46.145.fits']}\n",
      "Quadrant 3\n",
      "/home/mmarcano/Documents/VIMOS/NGC6652/esorex/bin/esorex --output-dir=/home/mmarcano/Documents/VIMOS/NGC6652/data/NGC6652A1/2003-06-02T03:22/RawESOdata/quadrant3 --log-dir=/home/mmarcano/Documents/VIMOS/NGC6652/data/NGC6652A1/2003-06-02T03:22/RawESOdata/quadrant3 vmbias  /home/mmarcano/Documents/VIMOS/NGC6652/data/NGC6652A1/2003-06-02T03:22/RawESOdata/quadrant3/bias.sof\n",
      "/home/mmarcano/Documents/VIMOS/NGC6652/esorex/bin/esorex --output-dir=/home/mmarcano/Documents/VIMOS/NGC6652/data/NGC6652A1/2003-06-02T03:22/RawESOdata/quadrant3 --log-dir=/home/mmarcano/Documents/VIMOS/NGC6652/data/NGC6652A1/2003-06-02T03:22/RawESOdata/quadrant3 vmifucalib  /home/mmarcano/Documents/VIMOS/NGC6652/data/NGC6652A1/2003-06-02T03:22/RawESOdata/quadrant3/calib.sof\n",
      "/home/mmarcano/Documents/VIMOS/NGC6652/esorex/bin/esorex --output-dir=/home/mmarcano/Documents/VIMOS/NGC6652/data/NGC6652A1/2003-06-02T03:22/RawESOdata/quadrant3 --log-dir=/home/mmarcano/Documents/VIMOS/NGC6652/data/NGC6652A1/2003-06-02T03:22/RawESOdata/quadrant3 vmifustandard  /home/mmarcano/Documents/VIMOS/NGC6652/data/NGC6652A1/2003-06-02T03:22/RawESOdata/quadrant3/ifustandard.sof\n",
      "/home/mmarcano/Documents/VIMOS/NGC6652/esorex/bin/esorex --output-dir=/home/mmarcano/Documents/VIMOS/NGC6652/data/NGC6652A1/2003-06-02T03:22/RawESOdata/quadrant3 --log-dir=/home/mmarcano/Documents/VIMOS/NGC6652/data/NGC6652A1/2003-06-02T03:22/RawESOdata/quadrant3 vmifuscience --CalibrateFlux=true /home/mmarcano/Documents/VIMOS/NGC6652/data/NGC6652A1/2003-06-02T03:22/RawESOdata/quadrant3/ifuscience.sof\n",
      "{'LINE_CATALOG': ['M.VIMOS.2008-06-17T18:11:31.782.fits'], 'EXTINCT_TABLE': ['M.VIMOS.2008-06-17T18:12:53.176.fits'], 'STD_FLUX_TABLE': ['M.VIMOS.2008-06-17T18:13:10.885.fits'], 'IFU_IDENT': ['M.VIMOS.2008-06-17T18:16:12.090.fits'], 'IFU_MASTER_RESPONSE': ['M.VIMOS.2008-06-17T18:20:50.827.fits'], 'IFU_STANDARD': ['VIMOS.2003-06-02T03:02:29.166.fits'], 'IFU_SCIENCE': ['VIMOS.2003-06-02T03:22:58.045.fits'], 'IFU_ARC_SPECTRUM': ['VIMOS.2003-06-02T03:56:02.397.fits', 'VIMOS.2003-06-04T04:33:04.204.fits'], 'BIAS': ['VIMOS.2003-06-02T12:33:47.806.fits', 'VIMOS.2003-06-02T12:34:39.027.fits', 'VIMOS.2003-06-02T12:35:30.202.fits', 'VIMOS.2003-06-02T12:36:21.589.fits', 'VIMOS.2003-06-02T12:37:13.007.fits', 'VIMOS.2003-06-02T19:27:06.395.fits', 'VIMOS.2003-06-02T19:27:58.894.fits', 'VIMOS.2003-06-02T19:28:51.439.fits', 'VIMOS.2003-06-02T19:29:44.362.fits', 'VIMOS.2003-06-02T19:30:37.452.fits', 'VIMOS.2003-06-03T11:23:39.091.fits', 'VIMOS.2003-06-03T11:24:31.675.fits', 'VIMOS.2003-06-03T11:25:26.549.fits', 'VIMOS.2003-06-03T11:26:20.262.fits', 'VIMOS.2003-06-03T11:27:16.647.fits'], 'IFU_SCREEN_FLAT': ['VIMOS.2003-06-04T04:35:15.635.fits']}\n",
      "Quadrant 4\n",
      "/home/mmarcano/Documents/VIMOS/NGC6652/esorex/bin/esorex --output-dir=/home/mmarcano/Documents/VIMOS/NGC6652/data/NGC6652A1/2003-06-02T03:22/RawESOdata/quadrant4 --log-dir=/home/mmarcano/Documents/VIMOS/NGC6652/data/NGC6652A1/2003-06-02T03:22/RawESOdata/quadrant4 vmbias  /home/mmarcano/Documents/VIMOS/NGC6652/data/NGC6652A1/2003-06-02T03:22/RawESOdata/quadrant4/bias.sof\n",
      "/home/mmarcano/Documents/VIMOS/NGC6652/esorex/bin/esorex --output-dir=/home/mmarcano/Documents/VIMOS/NGC6652/data/NGC6652A1/2003-06-02T03:22/RawESOdata/quadrant4 --log-dir=/home/mmarcano/Documents/VIMOS/NGC6652/data/NGC6652A1/2003-06-02T03:22/RawESOdata/quadrant4 vmifucalib  /home/mmarcano/Documents/VIMOS/NGC6652/data/NGC6652A1/2003-06-02T03:22/RawESOdata/quadrant4/calib.sof\n",
      "/home/mmarcano/Documents/VIMOS/NGC6652/esorex/bin/esorex --output-dir=/home/mmarcano/Documents/VIMOS/NGC6652/data/NGC6652A1/2003-06-02T03:22/RawESOdata/quadrant4 --log-dir=/home/mmarcano/Documents/VIMOS/NGC6652/data/NGC6652A1/2003-06-02T03:22/RawESOdata/quadrant4 vmifustandard  /home/mmarcano/Documents/VIMOS/NGC6652/data/NGC6652A1/2003-06-02T03:22/RawESOdata/quadrant4/ifustandard.sof\n",
      "/home/mmarcano/Documents/VIMOS/NGC6652/esorex/bin/esorex --output-dir=/home/mmarcano/Documents/VIMOS/NGC6652/data/NGC6652A1/2003-06-02T03:22/RawESOdata/quadrant4 --log-dir=/home/mmarcano/Documents/VIMOS/NGC6652/data/NGC6652A1/2003-06-02T03:22/RawESOdata/quadrant4 vmifuscience --CalibrateFlux=true /home/mmarcano/Documents/VIMOS/NGC6652/data/NGC6652A1/2003-06-02T03:22/RawESOdata/quadrant4/ifuscience.sof\n"
     ]
    }
   ],
   "source": [
    "import glob\n",
    "from astropy.io import fits\n",
    "\n",
    "import sys\n",
    "sys.path.append('../../')\n",
    "from reducing import reduceifu,reducecombinecube, changewcs\n",
    "\n",
    "\n",
    "quad=[1,2,3,4]\n",
    "#quad = [1]\n",
    "datadir = '/home/mmarcano/Documents/VIMOS/NGC6652/data/NGC6652A1/2003-06-02T03:22/RawESOdata/'\n",
    "l = glob.glob('RawESOdata/*.fits')\n",
    "categories = ['IFU_SCIENCE', 'LINE_CATALOG', 'EXTINCT_TABLE', 'STD_FLUX_TABLE', 'IFU_IDENT', 'IFU_MASTER_RESPONSE', \n",
    "              'BIAS', 'IFU_ARC_SPECTRUM', 'IFU_STANDARD', 'IFU_SCREEN_FLAT']\n",
    "borrar = []\n",
    "for q in quad:\n",
    "    dic = {}\n",
    "    for i in l:\n",
    "        temp = fits.open(i)\n",
    "        quad = temp[0].header['HIERARCH ESO OCS CON QUAD']\n",
    "        if quad == q or quad == 0:\n",
    "            try:\n",
    "                cat = temp[0].header['HIERARCH ESO DPR CATG']\n",
    "                cattype = temp[0].header['HIERARCH ESO DPR TYPE']\n",
    "                quad = temp[0].header['HIERARCH ESO OCS CON QUAD']\n",
    "                mode = temp[0].header['HIERARCH ESO INS MODE']\n",
    "\n",
    "                if cattype == 'FLAT,LAMP':\n",
    "                    cattype = 'IFU_SCREEN_FLAT'\n",
    "                elif cattype == 'WAVE,LAMP':\n",
    "                    cattype = 'IFU_ARC_SPECTRUM'\n",
    "                elif cattype == 'STD':\n",
    "                    cattype = 'IFU_STANDARD'\n",
    "                elif cattype == 'OBJECT':\n",
    "                    cattype = 'IFU_SCIENCE'\n",
    "\n",
    "                    #print('Wave',quad,i.split('/')[1])\n",
    "            except:\n",
    "                cattype = temp[0].header['HIERARCH ESO PRO CATG']\n",
    "                #print(cattype)\n",
    "\n",
    "    #            pass\n",
    "            if cattype not in categories:\n",
    "                print('AAAA',cattype)\n",
    "                \n",
    "            if cattype in dic.keys():\n",
    "                #dic[cattype] = list(dic[cattype])\n",
    "                dic[cattype].append(i.split('/')[1])\n",
    "            else:\n",
    "                dic[cattype] = [i.split('/')[1]]\n",
    "    print(dic)    \n",
    "    reduceifu(datadir,dic)\n"
   ]
  },
  {
   "cell_type": "code",
   "execution_count": 22,
   "metadata": {},
   "outputs": [
    {
     "data": {
      "text/plain": [
       "{'LINE_CATALOG': ['M.VIMOS.2008-06-17T18:11:31.782.fits'],\n",
       " 'EXTINCT_TABLE': ['M.VIMOS.2008-06-17T18:12:53.176.fits'],\n",
       " 'STD_FLUX_TABLE': ['M.VIMOS.2008-06-17T18:13:10.885.fits'],\n",
       " 'IFU_IDENT': ['M.VIMOS.2008-06-17T18:16:12.090.fits'],\n",
       " 'IFU_MASTER_RESPONSE': ['M.VIMOS.2008-06-17T18:20:50.827.fits'],\n",
       " 'IFU_STANDARD': ['VIMOS.2003-06-02T03:02:29.166.fits'],\n",
       " 'IFU_SCIENCE': ['VIMOS.2003-06-02T03:22:58.045.fits'],\n",
       " 'IFU_ARC_SPECTRUM': ['VIMOS.2003-06-02T03:56:02.397.fits',\n",
       "  'VIMOS.2003-06-04T04:33:04.204.fits'],\n",
       " 'BIAS': ['VIMOS.2003-06-02T12:33:47.806.fits',\n",
       "  'VIMOS.2003-06-02T12:34:39.027.fits',\n",
       "  'VIMOS.2003-06-02T12:35:30.202.fits',\n",
       "  'VIMOS.2003-06-02T12:36:21.589.fits',\n",
       "  'VIMOS.2003-06-02T12:37:13.007.fits',\n",
       "  'VIMOS.2003-06-02T19:27:06.395.fits',\n",
       "  'VIMOS.2003-06-02T19:27:58.894.fits',\n",
       "  'VIMOS.2003-06-02T19:28:51.439.fits',\n",
       "  'VIMOS.2003-06-02T19:29:44.362.fits',\n",
       "  'VIMOS.2003-06-02T19:30:37.452.fits',\n",
       "  'VIMOS.2003-06-03T11:23:39.091.fits',\n",
       "  'VIMOS.2003-06-03T11:24:31.675.fits',\n",
       "  'VIMOS.2003-06-03T11:25:26.549.fits',\n",
       "  'VIMOS.2003-06-03T11:26:20.262.fits',\n",
       "  'VIMOS.2003-06-03T11:27:16.647.fits'],\n",
       " 'IFU_SCREEN_FLAT': ['VIMOS.2003-06-04T04:35:15.635.fits']}"
      ]
     },
     "execution_count": 22,
     "metadata": {},
     "output_type": "execute_result"
    }
   ],
   "source": [
    "dic"
   ]
  },
  {
   "cell_type": "code",
   "execution_count": 59,
   "metadata": {},
   "outputs": [
    {
     "data": {
      "text/plain": [
       "15"
      ]
     },
     "execution_count": 59,
     "metadata": {},
     "output_type": "execute_result"
    }
   ],
   "source": [
    "len(dic.keys())"
   ]
  },
  {
   "cell_type": "code",
   "execution_count": 24,
   "metadata": {},
   "outputs": [
    {
     "name": "stdout",
     "output_type": "stream",
     "text": [
      "/home/mmarcano/Documents/VIMOS/NGC6652/esorex/bin/esorex --output-dir=/home/mmarcano/Documents/VIMOS/NGC6652/data/NGC6652A1/2003-06-02T03:22/RawESOdata/Combine --log-dir=/home/mmarcano/Documents/VIMOS/NGC6652/data/NGC6652A1/2003-06-02T03:22/RawESOdata/Combine vmifucombinecube /home/mmarcano/Documents/VIMOS/NGC6652/data/NGC6652A1/2003-06-02T03:22/RawESOdata/Combine/ifucombinefovifu_science_reduced.sof \n",
      "Filename: /home/mmarcano/Documents/VIMOS/NGC6652/data/NGC6652A1/2003-06-02T03:22/RawESOdata/Combine/ifu_science_cube_wcscorrected.fits\n",
      "No.    Name      Ver    Type      Cards   Dimensions   Format\n",
      "  0  PRIMARY       1 PrimaryHDU     294   (40, 40, 4259)   float32   \n"
     ]
    }
   ],
   "source": [
    "#reducecombinecube(datadir,typecombine='ifu_science_flux_reduced')\n",
    "reducecombinecube(datadir,typecombine='ifu_science_reduced')\n",
    "\n",
    "\n",
    "#changewcs(datadir+'Combine/ifu_science_flux_cube.fits',datadir+'Combine/ifu_science_flux_cube_wcscorrected.fits')\n",
    "changewcs(datadir+'Combine/ifu_science_cube.fits',datadir+'Combine/ifu_science_cube_wcscorrected.fits')"
   ]
  },
  {
   "cell_type": "code",
   "execution_count": 25,
   "metadata": {},
   "outputs": [],
   "source": [
    "a = ['BIAS', 'LINE_CATALOG', 'EXTINCT_TABLE', 'STD_FLUX_TABLE', 'IFU_IDENT', 'IFU_MASTER_RESPONSE', 'IFU_SCIENCE', 'IFU_ARC_SPECTRUM', 'IFU_STANDARD', 'IFU_SCREEN_FLAT']"
   ]
  },
  {
   "cell_type": "code",
   "execution_count": 30,
   "metadata": {},
   "outputs": [
    {
     "data": {
      "text/plain": [
       "'/home/mmarcano/Documents/VIMOS/NGC6652/data/NGC6652A2/2003-06-03T08:40/RawESOdata/quadrant4/ifu_specphot_table.fits'"
      ]
     },
     "execution_count": 30,
     "metadata": {},
     "output_type": "execute_result"
    }
   ],
   "source": [
    "dic['IFU_SPECPHOT_TABLE']"
   ]
  },
  {
   "cell_type": "code",
   "execution_count": 35,
   "metadata": {},
   "outputs": [
    {
     "ename": "KeyError",
     "evalue": "'IFU_SPECPHOT_TABLE'",
     "output_type": "error",
     "traceback": [
      "\u001b[0;31m---------------------------------------------------------------------------\u001b[0m",
      "\u001b[0;31mKeyError\u001b[0m                                  Traceback (most recent call last)",
      "\u001b[0;32m<ipython-input-35-909400ebf140>\u001b[0m in \u001b[0;36m<module>\u001b[0;34m()\u001b[0m\n\u001b[0;32m----> 1\u001b[0;31m \u001b[0ma\u001b[0m \u001b[0;34m=\u001b[0m \u001b[0mfits\u001b[0m\u001b[0;34m.\u001b[0m\u001b[0mopen\u001b[0m\u001b[0;34m(\u001b[0m\u001b[0mdic\u001b[0m\u001b[0;34m[\u001b[0m\u001b[0;34m'IFU_SPECPHOT_TABLE'\u001b[0m\u001b[0;34m]\u001b[0m\u001b[0;34m)\u001b[0m\u001b[0;34m\u001b[0m\u001b[0m\n\u001b[0m",
      "\u001b[0;31mKeyError\u001b[0m: 'IFU_SPECPHOT_TABLE'"
     ]
    }
   ],
   "source": [
    "a = fits.open(dic['IFU_SPECPHOT_TABLE'])"
   ]
  },
  {
   "cell_type": "code",
   "execution_count": 40,
   "metadata": {},
   "outputs": [
    {
     "data": {
      "text/plain": [
       "True"
      ]
     },
     "execution_count": 40,
     "metadata": {},
     "output_type": "execute_result"
    }
   ],
   "source": [
    "a == ['BIAS', 'LINE_CATALOG', 'EXTINCT_TABLE', 'STD_FLUX_TABLE', 'IFU_IDENT', 'IFU_MASTER_RESPONSE', 'IFU_SCIENCE', 'IFU_ARC_SPECTRUM', 'IFU_STANDARD', 'IFU_SCREEN_FLAT']"
   ]
  },
  {
   "cell_type": "code",
   "execution_count": 42,
   "metadata": {},
   "outputs": [
    {
     "ename": "FileNotFoundError",
     "evalue": "[Errno 2] No such file or directory: '/home/mmarcano/Documents/VIMOS/NGC6652/data/NGC6652A2/2003-06-03T08:40/RawESOdata/quadrant1/ifu_specphot_table.fits'",
     "output_type": "error",
     "traceback": [
      "\u001b[0;31m---------------------------------------------------------------------------\u001b[0m",
      "\u001b[0;31mFileNotFoundError\u001b[0m                         Traceback (most recent call last)",
      "\u001b[0;32m<ipython-input-42-076b6428672d>\u001b[0m in \u001b[0;36m<module>\u001b[0;34m()\u001b[0m\n\u001b[0;32m----> 1\u001b[0;31m \u001b[0maa\u001b[0m \u001b[0;34m=\u001b[0m \u001b[0mfits\u001b[0m\u001b[0;34m.\u001b[0m\u001b[0mopen\u001b[0m\u001b[0;34m(\u001b[0m\u001b[0;34m'/home/mmarcano/Documents/VIMOS/NGC6652/data/NGC6652A2/2003-06-03T08:40/RawESOdata/quadrant1/ifu_specphot_table.fits'\u001b[0m\u001b[0;34m)\u001b[0m\u001b[0;34m\u001b[0m\u001b[0m\n\u001b[0m",
      "\u001b[0;32m~/anaconda3/envs/ngc6652/lib/python3.6/site-packages/astropy/io/fits/hdu/hdulist.py\u001b[0m in \u001b[0;36mfitsopen\u001b[0;34m(name, mode, memmap, save_backup, cache, lazy_load_hdus, **kwargs)\u001b[0m\n\u001b[1;32m    149\u001b[0m \u001b[0;34m\u001b[0m\u001b[0m\n\u001b[1;32m    150\u001b[0m     return HDUList.fromfile(name, mode, memmap, save_backup, cache,\n\u001b[0;32m--> 151\u001b[0;31m                             lazy_load_hdus, **kwargs)\n\u001b[0m\u001b[1;32m    152\u001b[0m \u001b[0;34m\u001b[0m\u001b[0m\n\u001b[1;32m    153\u001b[0m \u001b[0;34m\u001b[0m\u001b[0m\n",
      "\u001b[0;32m~/anaconda3/envs/ngc6652/lib/python3.6/site-packages/astropy/io/fits/hdu/hdulist.py\u001b[0m in \u001b[0;36mfromfile\u001b[0;34m(cls, fileobj, mode, memmap, save_backup, cache, lazy_load_hdus, **kwargs)\u001b[0m\n\u001b[1;32m    385\u001b[0m         return cls._readfrom(fileobj=fileobj, mode=mode, memmap=memmap,\n\u001b[1;32m    386\u001b[0m                              \u001b[0msave_backup\u001b[0m\u001b[0;34m=\u001b[0m\u001b[0msave_backup\u001b[0m\u001b[0;34m,\u001b[0m \u001b[0mcache\u001b[0m\u001b[0;34m=\u001b[0m\u001b[0mcache\u001b[0m\u001b[0;34m,\u001b[0m\u001b[0;34m\u001b[0m\u001b[0m\n\u001b[0;32m--> 387\u001b[0;31m                              lazy_load_hdus=lazy_load_hdus, **kwargs)\n\u001b[0m\u001b[1;32m    388\u001b[0m \u001b[0;34m\u001b[0m\u001b[0m\n\u001b[1;32m    389\u001b[0m     \u001b[0;34m@\u001b[0m\u001b[0mclassmethod\u001b[0m\u001b[0;34m\u001b[0m\u001b[0m\n",
      "\u001b[0;32m~/anaconda3/envs/ngc6652/lib/python3.6/site-packages/astropy/io/fits/hdu/hdulist.py\u001b[0m in \u001b[0;36m_readfrom\u001b[0;34m(cls, fileobj, data, mode, memmap, save_backup, cache, lazy_load_hdus, **kwargs)\u001b[0m\n\u001b[1;32m    972\u001b[0m             \u001b[0;32mif\u001b[0m \u001b[0;32mnot\u001b[0m \u001b[0misinstance\u001b[0m\u001b[0;34m(\u001b[0m\u001b[0mfileobj\u001b[0m\u001b[0;34m,\u001b[0m \u001b[0m_File\u001b[0m\u001b[0;34m)\u001b[0m\u001b[0;34m:\u001b[0m\u001b[0;34m\u001b[0m\u001b[0m\n\u001b[1;32m    973\u001b[0m                 \u001b[0;31m# instantiate a FITS file object (ffo)\u001b[0m\u001b[0;34m\u001b[0m\u001b[0;34m\u001b[0m\u001b[0m\n\u001b[0;32m--> 974\u001b[0;31m                 \u001b[0mfileobj\u001b[0m \u001b[0;34m=\u001b[0m \u001b[0m_File\u001b[0m\u001b[0;34m(\u001b[0m\u001b[0mfileobj\u001b[0m\u001b[0;34m,\u001b[0m \u001b[0mmode\u001b[0m\u001b[0;34m=\u001b[0m\u001b[0mmode\u001b[0m\u001b[0;34m,\u001b[0m \u001b[0mmemmap\u001b[0m\u001b[0;34m=\u001b[0m\u001b[0mmemmap\u001b[0m\u001b[0;34m,\u001b[0m \u001b[0mcache\u001b[0m\u001b[0;34m=\u001b[0m\u001b[0mcache\u001b[0m\u001b[0;34m)\u001b[0m\u001b[0;34m\u001b[0m\u001b[0m\n\u001b[0m\u001b[1;32m    975\u001b[0m             \u001b[0;31m# The Astropy mode is determined by the _File initializer if the\u001b[0m\u001b[0;34m\u001b[0m\u001b[0;34m\u001b[0m\u001b[0m\n\u001b[1;32m    976\u001b[0m             \u001b[0;31m# supplied mode was None\u001b[0m\u001b[0;34m\u001b[0m\u001b[0;34m\u001b[0m\u001b[0m\n",
      "\u001b[0;32m~/anaconda3/envs/ngc6652/lib/python3.6/site-packages/astropy/utils/decorators.py\u001b[0m in \u001b[0;36mwrapper\u001b[0;34m(*args, **kwargs)\u001b[0m\n\u001b[1;32m    486\u001b[0m                         \u001b[0;31m# one with the name of the new argument to the function\u001b[0m\u001b[0;34m\u001b[0m\u001b[0;34m\u001b[0m\u001b[0m\n\u001b[1;32m    487\u001b[0m                         \u001b[0mkwargs\u001b[0m\u001b[0;34m[\u001b[0m\u001b[0mnew_name\u001b[0m\u001b[0;34m[\u001b[0m\u001b[0mi\u001b[0m\u001b[0;34m]\u001b[0m\u001b[0;34m]\u001b[0m \u001b[0;34m=\u001b[0m \u001b[0mvalue\u001b[0m\u001b[0;34m\u001b[0m\u001b[0m\n\u001b[0;32m--> 488\u001b[0;31m             \u001b[0;32mreturn\u001b[0m \u001b[0mfunction\u001b[0m\u001b[0;34m(\u001b[0m\u001b[0;34m*\u001b[0m\u001b[0margs\u001b[0m\u001b[0;34m,\u001b[0m \u001b[0;34m**\u001b[0m\u001b[0mkwargs\u001b[0m\u001b[0;34m)\u001b[0m\u001b[0;34m\u001b[0m\u001b[0m\n\u001b[0m\u001b[1;32m    489\u001b[0m \u001b[0;34m\u001b[0m\u001b[0m\n\u001b[1;32m    490\u001b[0m         \u001b[0;32mreturn\u001b[0m \u001b[0mwrapper\u001b[0m\u001b[0;34m\u001b[0m\u001b[0m\n",
      "\u001b[0;32m~/anaconda3/envs/ngc6652/lib/python3.6/site-packages/astropy/io/fits/file.py\u001b[0m in \u001b[0;36m__init__\u001b[0;34m(self, fileobj, mode, memmap, overwrite, cache)\u001b[0m\n\u001b[1;32m    173\u001b[0m             \u001b[0mself\u001b[0m\u001b[0;34m.\u001b[0m\u001b[0m_open_fileobj\u001b[0m\u001b[0;34m(\u001b[0m\u001b[0mfileobj\u001b[0m\u001b[0;34m,\u001b[0m \u001b[0mmode\u001b[0m\u001b[0;34m,\u001b[0m \u001b[0moverwrite\u001b[0m\u001b[0;34m)\u001b[0m\u001b[0;34m\u001b[0m\u001b[0m\n\u001b[1;32m    174\u001b[0m         \u001b[0;32melif\u001b[0m \u001b[0misinstance\u001b[0m\u001b[0;34m(\u001b[0m\u001b[0mfileobj\u001b[0m\u001b[0;34m,\u001b[0m \u001b[0mstr\u001b[0m\u001b[0;34m)\u001b[0m\u001b[0;34m:\u001b[0m\u001b[0;34m\u001b[0m\u001b[0m\n\u001b[0;32m--> 175\u001b[0;31m             \u001b[0mself\u001b[0m\u001b[0;34m.\u001b[0m\u001b[0m_open_filename\u001b[0m\u001b[0;34m(\u001b[0m\u001b[0mfileobj\u001b[0m\u001b[0;34m,\u001b[0m \u001b[0mmode\u001b[0m\u001b[0;34m,\u001b[0m \u001b[0moverwrite\u001b[0m\u001b[0;34m)\u001b[0m\u001b[0;34m\u001b[0m\u001b[0m\n\u001b[0m\u001b[1;32m    176\u001b[0m         \u001b[0;32melse\u001b[0m\u001b[0;34m:\u001b[0m\u001b[0;34m\u001b[0m\u001b[0m\n\u001b[1;32m    177\u001b[0m             \u001b[0mself\u001b[0m\u001b[0;34m.\u001b[0m\u001b[0m_open_filelike\u001b[0m\u001b[0;34m(\u001b[0m\u001b[0mfileobj\u001b[0m\u001b[0;34m,\u001b[0m \u001b[0mmode\u001b[0m\u001b[0;34m,\u001b[0m \u001b[0moverwrite\u001b[0m\u001b[0;34m)\u001b[0m\u001b[0;34m\u001b[0m\u001b[0m\n",
      "\u001b[0;32m~/anaconda3/envs/ngc6652/lib/python3.6/site-packages/astropy/io/fits/file.py\u001b[0m in \u001b[0;36m_open_filename\u001b[0;34m(self, filename, mode, overwrite)\u001b[0m\n\u001b[1;32m    529\u001b[0m \u001b[0;34m\u001b[0m\u001b[0m\n\u001b[1;32m    530\u001b[0m         \u001b[0;32mif\u001b[0m \u001b[0;32mnot\u001b[0m \u001b[0mself\u001b[0m\u001b[0;34m.\u001b[0m\u001b[0m_try_read_compressed\u001b[0m\u001b[0;34m(\u001b[0m\u001b[0mself\u001b[0m\u001b[0;34m.\u001b[0m\u001b[0mname\u001b[0m\u001b[0;34m,\u001b[0m \u001b[0mmagic\u001b[0m\u001b[0;34m,\u001b[0m \u001b[0mmode\u001b[0m\u001b[0;34m,\u001b[0m \u001b[0mext\u001b[0m\u001b[0;34m=\u001b[0m\u001b[0mext\u001b[0m\u001b[0;34m)\u001b[0m\u001b[0;34m:\u001b[0m\u001b[0;34m\u001b[0m\u001b[0m\n\u001b[0;32m--> 531\u001b[0;31m             \u001b[0mself\u001b[0m\u001b[0;34m.\u001b[0m\u001b[0m_file\u001b[0m \u001b[0;34m=\u001b[0m \u001b[0mfileobj_open\u001b[0m\u001b[0;34m(\u001b[0m\u001b[0mself\u001b[0m\u001b[0;34m.\u001b[0m\u001b[0mname\u001b[0m\u001b[0;34m,\u001b[0m \u001b[0mIO_FITS_MODES\u001b[0m\u001b[0;34m[\u001b[0m\u001b[0mmode\u001b[0m\u001b[0;34m]\u001b[0m\u001b[0;34m)\u001b[0m\u001b[0;34m\u001b[0m\u001b[0m\n\u001b[0m\u001b[1;32m    532\u001b[0m             \u001b[0mself\u001b[0m\u001b[0;34m.\u001b[0m\u001b[0mclose_on_error\u001b[0m \u001b[0;34m=\u001b[0m \u001b[0;32mTrue\u001b[0m\u001b[0;34m\u001b[0m\u001b[0m\n\u001b[1;32m    533\u001b[0m \u001b[0;34m\u001b[0m\u001b[0m\n",
      "\u001b[0;32m~/anaconda3/envs/ngc6652/lib/python3.6/site-packages/astropy/io/fits/util.py\u001b[0m in \u001b[0;36mfileobj_open\u001b[0;34m(filename, mode)\u001b[0m\n\u001b[1;32m    386\u001b[0m     \"\"\"\n\u001b[1;32m    387\u001b[0m \u001b[0;34m\u001b[0m\u001b[0m\n\u001b[0;32m--> 388\u001b[0;31m     \u001b[0;32mreturn\u001b[0m \u001b[0mopen\u001b[0m\u001b[0;34m(\u001b[0m\u001b[0mfilename\u001b[0m\u001b[0;34m,\u001b[0m \u001b[0mmode\u001b[0m\u001b[0;34m,\u001b[0m \u001b[0mbuffering\u001b[0m\u001b[0;34m=\u001b[0m\u001b[0;36m0\u001b[0m\u001b[0;34m)\u001b[0m\u001b[0;34m\u001b[0m\u001b[0m\n\u001b[0m\u001b[1;32m    389\u001b[0m \u001b[0;34m\u001b[0m\u001b[0m\n\u001b[1;32m    390\u001b[0m \u001b[0;34m\u001b[0m\u001b[0m\n",
      "\u001b[0;31mFileNotFoundError\u001b[0m: [Errno 2] No such file or directory: '/home/mmarcano/Documents/VIMOS/NGC6652/data/NGC6652A2/2003-06-03T08:40/RawESOdata/quadrant1/ifu_specphot_table.fits'"
     ]
    }
   ],
   "source": [
    "aa = fits.open('/home/mmarcano/Documents/VIMOS/NGC6652/data/NGC6652A2/2003-06-03T08:40/RawESOdata/quadrant1/ifu_specphot_table.fits')"
   ]
  },
  {
   "cell_type": "code",
   "execution_count": 43,
   "metadata": {},
   "outputs": [
    {
     "data": {
      "text/plain": [
       "{'BIAS': ['/home/mmarcano/Documents/VIMOS/NGC6652/data/NGC6652A2/2003-06-03T08:40/RawESOdata/VIMOS.2003-06-03T11:24:31.674.fits',\n",
       "  '/home/mmarcano/Documents/VIMOS/NGC6652/data/NGC6652A2/2003-06-03T08:40/RawESOdata/VIMOS.2003-06-03T11:25:26.548.fits',\n",
       "  '/home/mmarcano/Documents/VIMOS/NGC6652/data/NGC6652A2/2003-06-03T08:40/RawESOdata/VIMOS.2003-06-02T12:34:39.026.fits',\n",
       "  '/home/mmarcano/Documents/VIMOS/NGC6652/data/NGC6652A2/2003-06-03T08:40/RawESOdata/VIMOS.2003-06-02T12:35:30.201.fits',\n",
       "  '/home/mmarcano/Documents/VIMOS/NGC6652/data/NGC6652A2/2003-06-03T08:40/RawESOdata/VIMOS.2003-06-02T12:36:21.588.fits',\n",
       "  '/home/mmarcano/Documents/VIMOS/NGC6652/data/NGC6652A2/2003-06-03T08:40/RawESOdata/VIMOS.2003-06-02T12:37:13.006.fits',\n",
       "  '/home/mmarcano/Documents/VIMOS/NGC6652/data/NGC6652A2/2003-06-03T08:40/RawESOdata/VIMOS.2003-06-02T19:27:06.394.fits',\n",
       "  '/home/mmarcano/Documents/VIMOS/NGC6652/data/NGC6652A2/2003-06-03T08:40/RawESOdata/VIMOS.2003-06-02T19:27:58.893.fits',\n",
       "  '/home/mmarcano/Documents/VIMOS/NGC6652/data/NGC6652A2/2003-06-03T08:40/RawESOdata/VIMOS.2003-06-02T19:28:51.438.fits',\n",
       "  '/home/mmarcano/Documents/VIMOS/NGC6652/data/NGC6652A2/2003-06-03T08:40/RawESOdata/VIMOS.2003-06-02T19:29:44.361.fits',\n",
       "  '/home/mmarcano/Documents/VIMOS/NGC6652/data/NGC6652A2/2003-06-03T08:40/RawESOdata/VIMOS.2003-06-02T19:30:37.451.fits',\n",
       "  '/home/mmarcano/Documents/VIMOS/NGC6652/data/NGC6652A2/2003-06-03T08:40/RawESOdata/VIMOS.2003-06-03T11:23:39.090.fits',\n",
       "  '/home/mmarcano/Documents/VIMOS/NGC6652/data/NGC6652A2/2003-06-03T08:40/RawESOdata/VIMOS.2003-06-03T11:26:20.261.fits',\n",
       "  '/home/mmarcano/Documents/VIMOS/NGC6652/data/NGC6652A2/2003-06-03T08:40/RawESOdata/VIMOS.2003-06-03T11:27:16.646.fits',\n",
       "  '/home/mmarcano/Documents/VIMOS/NGC6652/data/NGC6652A2/2003-06-03T08:40/RawESOdata/VIMOS.2003-06-02T12:33:47.805.fits'],\n",
       " 'LINE_CATALOG': ['/home/mmarcano/Documents/VIMOS/NGC6652/data/NGC6652A2/2003-06-03T08:40/RawESOdata/M.VIMOS.2008-06-17T18:11:18.672.fits'],\n",
       " 'EXTINCT_TABLE': ['/home/mmarcano/Documents/VIMOS/NGC6652/data/NGC6652A2/2003-06-03T08:40/RawESOdata/M.VIMOS.2008-06-17T18:12:53.176.fits'],\n",
       " 'STD_FLUX_TABLE': ['/home/mmarcano/Documents/VIMOS/NGC6652/data/NGC6652A2/2003-06-03T08:40/RawESOdata/M.VIMOS.2008-06-17T18:14:43.781.fits'],\n",
       " 'IFU_IDENT': ['/home/mmarcano/Documents/VIMOS/NGC6652/data/NGC6652A2/2003-06-03T08:40/RawESOdata/M.VIMOS.2008-06-17T18:16:03.380.fits'],\n",
       " 'IFU_MASTER_RESPONSE': ['/home/mmarcano/Documents/VIMOS/NGC6652/data/NGC6652A2/2003-06-03T08:40/RawESOdata/M.VIMOS.2008-06-17T18:20:40.981.fits'],\n",
       " 'IFU_SCIENCE': ['/home/mmarcano/Documents/VIMOS/NGC6652/data/NGC6652A2/2003-06-03T08:40/RawESOdata/VIMOS.2003-06-03T08:40:04.763.fits'],\n",
       " 'IFU_ARC_SPECTRUM': ['/home/mmarcano/Documents/VIMOS/NGC6652/data/NGC6652A2/2003-06-03T08:40/RawESOdata/VIMOS.2003-06-03T09:25:39.665.fits',\n",
       "  '/home/mmarcano/Documents/VIMOS/NGC6652/data/NGC6652A2/2003-06-03T08:40/RawESOdata/VIMOS.2003-06-04T04:33:04.203.fits'],\n",
       " 'IFU_STANDARD': ['/home/mmarcano/Documents/VIMOS/NGC6652/data/NGC6652A2/2003-06-03T08:40/RawESOdata/VIMOS.2003-06-03T09:32:34.170.fits'],\n",
       " 'IFU_SCREEN_FLAT': ['/home/mmarcano/Documents/VIMOS/NGC6652/data/NGC6652A2/2003-06-03T08:40/RawESOdata/VIMOS.2003-06-04T04:35:15.634.fits'],\n",
       " 'MASTER_BIAS': '/home/mmarcano/Documents/VIMOS/NGC6652/data/NGC6652A2/2003-06-03T08:40/RawESOdata/quadrant1/master_bias.fits',\n",
       " 'IFU_IDS': '/home/mmarcano/Documents/VIMOS/NGC6652/data/NGC6652A2/2003-06-03T08:40/RawESOdata/quadrant1/ifu_ids.fits',\n",
       " 'IFU_TRACE': '/home/mmarcano/Documents/VIMOS/NGC6652/data/NGC6652A2/2003-06-03T08:40/RawESOdata/quadrant1/ifu_trace.fits',\n",
       " 'IFU_TRANSMISSION': '/home/mmarcano/Documents/VIMOS/NGC6652/data/NGC6652A2/2003-06-03T08:40/RawESOdata/quadrant1/ifu_transmission.fits',\n",
       " 'IFU_SPECPHOT_TABLE': '/home/mmarcano/Documents/VIMOS/NGC6652/data/NGC6652A2/2003-06-03T08:40/RawESOdata/quadrant1/ifu_specphot_table.fits'}"
      ]
     },
     "execution_count": 43,
     "metadata": {},
     "output_type": "execute_result"
    }
   ],
   "source": [
    "dic"
   ]
  },
  {
   "cell_type": "code",
   "execution_count": 48,
   "metadata": {},
   "outputs": [
    {
     "data": {
      "text/plain": [
       "['/home/mmarcano/Documents/VIMOS/NGC6652/data/NGC6652A2/2003-06-03T08:40/RawESOdata/VIMOS.2003-06-03T09:25:39.665.fits',\n",
       " '/home/mmarcano/Documents/VIMOS/NGC6652/data/NGC6652A2/2003-06-03T08:40/RawESOdata/VIMOS.2003-06-04T04:33:04.203.fits']"
      ]
     },
     "execution_count": 48,
     "metadata": {},
     "output_type": "execute_result"
    }
   ],
   "source": [
    "dic['IFU_ARC_SPECTRUM']"
   ]
  },
  {
   "cell_type": "code",
   "execution_count": null,
   "metadata": {},
   "outputs": [],
   "source": []
  }
 ],
 "metadata": {
  "kernelspec": {
   "display_name": "Python 3",
   "language": "python",
   "name": "python3"
  },
  "language_info": {
   "codemirror_mode": {
    "name": "ipython",
    "version": 3
   },
   "file_extension": ".py",
   "mimetype": "text/x-python",
   "name": "python",
   "nbconvert_exporter": "python",
   "pygments_lexer": "ipython3",
   "version": "3.6.5"
  }
 },
 "nbformat": 4,
 "nbformat_minor": 2
}
