{
 "cells": [
  {
   "cell_type": "code",
   "execution_count": 10,
   "metadata": {},
   "outputs": [
    {
     "name": "stdout",
     "output_type": "stream",
     "text": [
      "{'LINE_CATALOG': ['M.VIMOS.2008-06-17T18:11:18.672.fits'], 'EXTINCT_TABLE': ['M.VIMOS.2008-06-17T18:12:53.176.fits'], 'STD_FLUX_TABLE': ['M.VIMOS.2008-06-17T18:14:43.781.fits'], 'IFU_IDENT': ['M.VIMOS.2008-06-17T18:16:03.380.fits'], 'IFU_MASTER_RESPONSE': ['M.VIMOS.2008-06-17T18:20:40.981.fits'], 'BIAS': ['VIMOS.2003-06-02T12:34:39.026.fits', 'VIMOS.2003-06-02T12:35:30.201.fits', 'VIMOS.2003-06-02T12:36:21.588.fits', 'VIMOS.2003-06-02T12:37:13.006.fits', 'VIMOS.2003-06-02T19:27:06.394.fits', 'VIMOS.2003-06-02T19:27:58.893.fits', 'VIMOS.2003-06-02T19:28:51.438.fits', 'VIMOS.2003-06-02T19:29:44.361.fits', 'VIMOS.2003-06-02T19:30:37.451.fits', 'VIMOS.2003-06-03T11:23:39.090.fits', 'VIMOS.2003-06-03T11:24:31.674.fits', 'VIMOS.2003-06-03T11:25:26.548.fits', 'VIMOS.2003-06-03T11:26:20.261.fits', 'VIMOS.2003-06-03T11:27:16.646.fits', 'VIMOS.2003-06-06T11:26:56.025.fits', 'VIMOS.2003-06-06T11:27:48.374.fits', 'VIMOS.2003-06-06T11:28:40.910.fits', 'VIMOS.2003-06-06T11:29:33.495.fits', 'VIMOS.2003-06-06T11:30:26.986.fits', 'VIMOS.2003-06-02T12:33:47.805.fits', 'VIMOS.2003-06-05T15:29:34.574.fits', 'VIMOS.2003-06-05T15:30:27.184.fits', 'VIMOS.2003-06-05T15:31:19.749.fits', 'VIMOS.2003-06-05T15:32:12.244.fits', 'VIMOS.2003-06-05T15:33:04.729.fits', 'VIMOS.2003-06-05T15:58:55.748.fits', 'VIMOS.2003-06-05T15:59:48.514.fits', 'VIMOS.2003-06-05T16:00:40.842.fits', 'VIMOS.2003-06-05T16:01:33.115.fits', 'VIMOS.2003-06-05T16:02:25.639.fits'], 'IFU_ARC_SPECTRUM': ['VIMOS.2003-06-03T09:25:39.665.fits', 'VIMOS.2003-06-04T04:33:04.203.fits'], 'IFU_STANDARD': ['VIMOS.2003-06-03T09:48:40.902.fits'], 'IFU_SCIENCE': ['VIMOS.2003-06-04T04:15:12.953.fits'], 'IFU_SCREEN_FLAT': ['VIMOS.2003-06-04T04:35:15.634.fits']}\n",
      "Quadrant 1\n",
      "/home/mmarcano/Documents/VIMOS/NGC6652/esorex/bin/esorex --output-dir=/home/mmarcano/Documents/VIMOS/NGC6652/data/NGC6652A3/2003-06-04T04:15/RawESOdata/quadrant1 --log-dir=/home/mmarcano/Documents/VIMOS/NGC6652/data/NGC6652A3/2003-06-04T04:15/RawESOdata/quadrant1 vmbias  /home/mmarcano/Documents/VIMOS/NGC6652/data/NGC6652A3/2003-06-04T04:15/RawESOdata/quadrant1/bias.sof\n",
      "/home/mmarcano/Documents/VIMOS/NGC6652/esorex/bin/esorex --output-dir=/home/mmarcano/Documents/VIMOS/NGC6652/data/NGC6652A3/2003-06-04T04:15/RawESOdata/quadrant1 --log-dir=/home/mmarcano/Documents/VIMOS/NGC6652/data/NGC6652A3/2003-06-04T04:15/RawESOdata/quadrant1 vmifucalib  /home/mmarcano/Documents/VIMOS/NGC6652/data/NGC6652A3/2003-06-04T04:15/RawESOdata/quadrant1/calib.sof\n",
      "/home/mmarcano/Documents/VIMOS/NGC6652/esorex/bin/esorex --output-dir=/home/mmarcano/Documents/VIMOS/NGC6652/data/NGC6652A3/2003-06-04T04:15/RawESOdata/quadrant1 --log-dir=/home/mmarcano/Documents/VIMOS/NGC6652/data/NGC6652A3/2003-06-04T04:15/RawESOdata/quadrant1 vmifustandard  /home/mmarcano/Documents/VIMOS/NGC6652/data/NGC6652A3/2003-06-04T04:15/RawESOdata/quadrant1/ifustandard.sof\n",
      "/home/mmarcano/Documents/VIMOS/NGC6652/esorex/bin/esorex --output-dir=/home/mmarcano/Documents/VIMOS/NGC6652/data/NGC6652A3/2003-06-04T04:15/RawESOdata/quadrant1 --log-dir=/home/mmarcano/Documents/VIMOS/NGC6652/data/NGC6652A3/2003-06-04T04:15/RawESOdata/quadrant1 vmifuscience --CalibrateFlux=true /home/mmarcano/Documents/VIMOS/NGC6652/data/NGC6652A3/2003-06-04T04:15/RawESOdata/quadrant1/ifuscience.sof\n",
      "{'LINE_CATALOG': ['M.VIMOS.2008-06-17T18:11:23.749.fits'], 'EXTINCT_TABLE': ['M.VIMOS.2008-06-17T18:12:53.176.fits'], 'STD_FLUX_TABLE': ['M.VIMOS.2008-06-17T18:14:43.781.fits'], 'IFU_IDENT': ['M.VIMOS.2008-06-17T18:16:06.327.fits'], 'IFU_MASTER_RESPONSE': ['M.VIMOS.2008-06-17T18:20:44.067.fits'], 'BIAS': ['VIMOS.2003-06-02T19:26:37.073.fits', 'VIMOS.2003-06-02T19:27:29.545.fits', 'VIMOS.2003-06-02T19:28:22.122.fits', 'VIMOS.2003-06-02T19:29:15.040.fits', 'VIMOS.2003-06-02T19:30:08.120.fits', 'VIMOS.2003-06-03T11:23:09.653.fits', 'VIMOS.2003-06-03T11:24:02.318.fits', 'VIMOS.2003-06-03T11:24:57.137.fits', 'VIMOS.2003-06-03T11:25:50.845.fits', 'VIMOS.2003-06-03T11:26:47.234.fits'], 'IFU_ARC_SPECTRUM': ['VIMOS.2003-06-03T09:25:10.256.fits', 'VIMOS.2003-06-04T04:32:34.698.fits'], 'IFU_STANDARD': ['VIMOS.2003-06-03T09:49:58.086.fits'], 'IFU_SCIENCE': ['VIMOS.2003-06-04T04:14:43.458.fits'], 'IFU_SCREEN_FLAT': ['VIMOS.2003-06-04T04:34:46.144.fits']}\n",
      "Quadrant 2\n",
      "/home/mmarcano/Documents/VIMOS/NGC6652/esorex/bin/esorex --output-dir=/home/mmarcano/Documents/VIMOS/NGC6652/data/NGC6652A3/2003-06-04T04:15/RawESOdata/quadrant2 --log-dir=/home/mmarcano/Documents/VIMOS/NGC6652/data/NGC6652A3/2003-06-04T04:15/RawESOdata/quadrant2 vmbias  /home/mmarcano/Documents/VIMOS/NGC6652/data/NGC6652A3/2003-06-04T04:15/RawESOdata/quadrant2/bias.sof\n",
      "/home/mmarcano/Documents/VIMOS/NGC6652/esorex/bin/esorex --output-dir=/home/mmarcano/Documents/VIMOS/NGC6652/data/NGC6652A3/2003-06-04T04:15/RawESOdata/quadrant2 --log-dir=/home/mmarcano/Documents/VIMOS/NGC6652/data/NGC6652A3/2003-06-04T04:15/RawESOdata/quadrant2 vmifucalib  /home/mmarcano/Documents/VIMOS/NGC6652/data/NGC6652A3/2003-06-04T04:15/RawESOdata/quadrant2/calib.sof\n",
      "/home/mmarcano/Documents/VIMOS/NGC6652/esorex/bin/esorex --output-dir=/home/mmarcano/Documents/VIMOS/NGC6652/data/NGC6652A3/2003-06-04T04:15/RawESOdata/quadrant2 --log-dir=/home/mmarcano/Documents/VIMOS/NGC6652/data/NGC6652A3/2003-06-04T04:15/RawESOdata/quadrant2 vmifustandard  /home/mmarcano/Documents/VIMOS/NGC6652/data/NGC6652A3/2003-06-04T04:15/RawESOdata/quadrant2/ifustandard.sof\n",
      "/home/mmarcano/Documents/VIMOS/NGC6652/esorex/bin/esorex --output-dir=/home/mmarcano/Documents/VIMOS/NGC6652/data/NGC6652A3/2003-06-04T04:15/RawESOdata/quadrant2 --log-dir=/home/mmarcano/Documents/VIMOS/NGC6652/data/NGC6652A3/2003-06-04T04:15/RawESOdata/quadrant2 vmifuscience --CalibrateFlux=true /home/mmarcano/Documents/VIMOS/NGC6652/data/NGC6652A3/2003-06-04T04:15/RawESOdata/quadrant2/ifuscience.sof\n",
      "{'LINE_CATALOG': ['M.VIMOS.2008-06-17T18:11:28.741.fits'], 'EXTINCT_TABLE': ['M.VIMOS.2008-06-17T18:12:53.176.fits'], 'STD_FLUX_TABLE': ['M.VIMOS.2008-06-17T18:14:43.781.fits'], 'IFU_IDENT': ['M.VIMOS.2008-06-17T18:16:09.125.fits'], 'IFU_MASTER_RESPONSE': ['M.VIMOS.2008-06-17T18:20:47.901.fits'], 'BIAS': ['VIMOS.2003-06-02T19:26:37.074.fits', 'VIMOS.2003-06-02T19:27:29.546.fits', 'VIMOS.2003-06-02T19:28:22.123.fits', 'VIMOS.2003-06-02T19:29:15.041.fits', 'VIMOS.2003-06-02T19:30:08.121.fits', 'VIMOS.2003-06-03T11:23:09.654.fits', 'VIMOS.2003-06-03T11:24:02.319.fits', 'VIMOS.2003-06-03T11:24:57.138.fits', 'VIMOS.2003-06-03T11:25:50.846.fits', 'VIMOS.2003-06-03T11:26:47.235.fits'], 'IFU_ARC_SPECTRUM': ['VIMOS.2003-06-03T09:25:10.257.fits', 'VIMOS.2003-06-04T04:32:34.699.fits'], 'IFU_STANDARD': ['VIMOS.2003-06-03T09:51:45.192.fits'], 'IFU_SCIENCE': ['VIMOS.2003-06-04T04:14:43.459.fits'], 'IFU_SCREEN_FLAT': ['VIMOS.2003-06-04T04:34:46.145.fits']}\n",
      "Quadrant 3\n",
      "/home/mmarcano/Documents/VIMOS/NGC6652/esorex/bin/esorex --output-dir=/home/mmarcano/Documents/VIMOS/NGC6652/data/NGC6652A3/2003-06-04T04:15/RawESOdata/quadrant3 --log-dir=/home/mmarcano/Documents/VIMOS/NGC6652/data/NGC6652A3/2003-06-04T04:15/RawESOdata/quadrant3 vmbias  /home/mmarcano/Documents/VIMOS/NGC6652/data/NGC6652A3/2003-06-04T04:15/RawESOdata/quadrant3/bias.sof\n",
      "/home/mmarcano/Documents/VIMOS/NGC6652/esorex/bin/esorex --output-dir=/home/mmarcano/Documents/VIMOS/NGC6652/data/NGC6652A3/2003-06-04T04:15/RawESOdata/quadrant3 --log-dir=/home/mmarcano/Documents/VIMOS/NGC6652/data/NGC6652A3/2003-06-04T04:15/RawESOdata/quadrant3 vmifucalib  /home/mmarcano/Documents/VIMOS/NGC6652/data/NGC6652A3/2003-06-04T04:15/RawESOdata/quadrant3/calib.sof\n",
      "/home/mmarcano/Documents/VIMOS/NGC6652/esorex/bin/esorex --output-dir=/home/mmarcano/Documents/VIMOS/NGC6652/data/NGC6652A3/2003-06-04T04:15/RawESOdata/quadrant3 --log-dir=/home/mmarcano/Documents/VIMOS/NGC6652/data/NGC6652A3/2003-06-04T04:15/RawESOdata/quadrant3 vmifustandard  /home/mmarcano/Documents/VIMOS/NGC6652/data/NGC6652A3/2003-06-04T04:15/RawESOdata/quadrant3/ifustandard.sof\n",
      "/home/mmarcano/Documents/VIMOS/NGC6652/esorex/bin/esorex --output-dir=/home/mmarcano/Documents/VIMOS/NGC6652/data/NGC6652A3/2003-06-04T04:15/RawESOdata/quadrant3 --log-dir=/home/mmarcano/Documents/VIMOS/NGC6652/data/NGC6652A3/2003-06-04T04:15/RawESOdata/quadrant3 vmifuscience --CalibrateFlux=true /home/mmarcano/Documents/VIMOS/NGC6652/data/NGC6652A3/2003-06-04T04:15/RawESOdata/quadrant3/ifuscience.sof\n",
      "{'LINE_CATALOG': ['M.VIMOS.2008-06-17T18:11:31.782.fits'], 'EXTINCT_TABLE': ['M.VIMOS.2008-06-17T18:12:53.176.fits'], 'STD_FLUX_TABLE': ['M.VIMOS.2008-06-17T18:14:43.781.fits'], 'IFU_IDENT': ['M.VIMOS.2008-06-17T18:16:12.090.fits'], 'IFU_MASTER_RESPONSE': ['M.VIMOS.2008-06-17T18:20:50.827.fits'], 'BIAS': ['VIMOS.2003-06-02T12:33:47.806.fits', 'VIMOS.2003-06-02T12:34:39.027.fits', 'VIMOS.2003-06-02T12:35:30.202.fits', 'VIMOS.2003-06-02T12:36:21.589.fits', 'VIMOS.2003-06-02T12:37:13.007.fits', 'VIMOS.2003-06-02T19:27:06.395.fits', 'VIMOS.2003-06-02T19:27:58.894.fits', 'VIMOS.2003-06-02T19:28:51.439.fits', 'VIMOS.2003-06-02T19:29:44.362.fits', 'VIMOS.2003-06-02T19:30:37.452.fits', 'VIMOS.2003-06-03T11:23:39.091.fits', 'VIMOS.2003-06-03T11:24:31.675.fits', 'VIMOS.2003-06-03T11:25:26.549.fits', 'VIMOS.2003-06-03T11:26:20.262.fits', 'VIMOS.2003-06-03T11:27:16.647.fits', 'VIMOS.2003-06-05T16:02:25.640.fits', 'VIMOS.2003-06-06T11:26:56.026.fits', 'VIMOS.2003-06-06T11:27:48.375.fits', 'VIMOS.2003-06-06T11:28:40.911.fits', 'VIMOS.2003-06-06T11:29:33.496.fits', 'VIMOS.2003-06-06T11:30:26.987.fits', 'VIMOS.2003-06-05T15:29:34.575.fits', 'VIMOS.2003-06-05T15:30:27.185.fits', 'VIMOS.2003-06-05T15:31:19.750.fits', 'VIMOS.2003-06-05T15:32:12.245.fits', 'VIMOS.2003-06-05T15:33:04.730.fits', 'VIMOS.2003-06-05T15:58:55.749.fits', 'VIMOS.2003-06-05T15:59:48.515.fits', 'VIMOS.2003-06-05T16:00:40.843.fits', 'VIMOS.2003-06-05T16:01:33.116.fits'], 'IFU_ARC_SPECTRUM': ['VIMOS.2003-06-03T09:25:39.666.fits', 'VIMOS.2003-06-04T04:33:04.204.fits'], 'IFU_STANDARD': ['VIMOS.2003-06-03T09:54:01.936.fits'], 'IFU_SCIENCE': ['VIMOS.2003-06-04T04:15:12.954.fits'], 'IFU_SCREEN_FLAT': ['VIMOS.2003-06-04T04:35:15.635.fits']}\n",
      "Quadrant 4\n",
      "/home/mmarcano/Documents/VIMOS/NGC6652/esorex/bin/esorex --output-dir=/home/mmarcano/Documents/VIMOS/NGC6652/data/NGC6652A3/2003-06-04T04:15/RawESOdata/quadrant4 --log-dir=/home/mmarcano/Documents/VIMOS/NGC6652/data/NGC6652A3/2003-06-04T04:15/RawESOdata/quadrant4 vmbias  /home/mmarcano/Documents/VIMOS/NGC6652/data/NGC6652A3/2003-06-04T04:15/RawESOdata/quadrant4/bias.sof\n",
      "/home/mmarcano/Documents/VIMOS/NGC6652/esorex/bin/esorex --output-dir=/home/mmarcano/Documents/VIMOS/NGC6652/data/NGC6652A3/2003-06-04T04:15/RawESOdata/quadrant4 --log-dir=/home/mmarcano/Documents/VIMOS/NGC6652/data/NGC6652A3/2003-06-04T04:15/RawESOdata/quadrant4 vmifucalib  /home/mmarcano/Documents/VIMOS/NGC6652/data/NGC6652A3/2003-06-04T04:15/RawESOdata/quadrant4/calib.sof\n",
      "/home/mmarcano/Documents/VIMOS/NGC6652/esorex/bin/esorex --output-dir=/home/mmarcano/Documents/VIMOS/NGC6652/data/NGC6652A3/2003-06-04T04:15/RawESOdata/quadrant4 --log-dir=/home/mmarcano/Documents/VIMOS/NGC6652/data/NGC6652A3/2003-06-04T04:15/RawESOdata/quadrant4 vmifustandard  /home/mmarcano/Documents/VIMOS/NGC6652/data/NGC6652A3/2003-06-04T04:15/RawESOdata/quadrant4/ifustandard.sof\n",
      "/home/mmarcano/Documents/VIMOS/NGC6652/esorex/bin/esorex --output-dir=/home/mmarcano/Documents/VIMOS/NGC6652/data/NGC6652A3/2003-06-04T04:15/RawESOdata/quadrant4 --log-dir=/home/mmarcano/Documents/VIMOS/NGC6652/data/NGC6652A3/2003-06-04T04:15/RawESOdata/quadrant4 vmifuscience --CalibrateFlux=true /home/mmarcano/Documents/VIMOS/NGC6652/data/NGC6652A3/2003-06-04T04:15/RawESOdata/quadrant4/ifuscience.sof\n"
     ]
    }
   ],
   "source": [
    "import glob\n",
    "from astropy.io import fits\n",
    "\n",
    "import sys\n",
    "sys.path.append('../../')\n",
    "from reducing import reduceifu,reducecombinecube, changewcs\n",
    "\n",
    "\n",
    "quad=[1,2,3,4]\n",
    "datadir = '/home/mmarcano/Documents/VIMOS/NGC6652/data/NGC6652A3/2003-06-04T04:15/RawESOdata/'\n",
    "l = glob.glob('RawESOdata/*.fits')\n",
    "categories = ['IFU_SCIENCE', 'LINE_CATALOG', 'EXTINCT_TABLE', 'STD_FLUX_TABLE', 'IFU_IDENT', 'IFU_MASTER_RESPONSE', \n",
    "              'BIAS', 'IFU_ARC_SPECTRUM', 'IFU_STANDARD', 'IFU_SCREEN_FLAT']\n",
    "borrar = []\n",
    "for q in quad:\n",
    "    dic = {}\n",
    "    for i in l:\n",
    "        temp = fits.open(i)\n",
    "        quad = temp[0].header['HIERARCH ESO OCS CON QUAD']\n",
    "        if quad == q or quad == 0:\n",
    "            try:\n",
    "                cat = temp[0].header['HIERARCH ESO DPR CATG']\n",
    "                cattype = temp[0].header['HIERARCH ESO DPR TYPE']\n",
    "                quad = temp[0].header['HIERARCH ESO OCS CON QUAD']\n",
    "                mode = temp[0].header['HIERARCH ESO INS MODE']\n",
    "\n",
    "                if cattype == 'FLAT,LAMP':\n",
    "                    cattype = 'IFU_SCREEN_FLAT'\n",
    "                elif cattype == 'WAVE,LAMP':\n",
    "                    cattype = 'IFU_ARC_SPECTRUM'\n",
    "                elif cattype == 'STD':\n",
    "                    cattype = 'IFU_STANDARD'\n",
    "                elif cattype == 'OBJECT':\n",
    "                    cattype = 'IFU_SCIENCE'\n",
    "\n",
    "                    #print('Wave',quad,i.split('/')[1])\n",
    "            except:\n",
    "                cattype = temp[0].header['HIERARCH ESO PRO CATG']\n",
    "                #print(cattype)\n",
    "\n",
    "    #            pass\n",
    "            if cattype not in categories:\n",
    "                print('AAAA',cattype)\n",
    "                \n",
    "            if cattype in dic.keys():\n",
    "                #dic[cattype] = list(dic[cattype])\n",
    "                dic[cattype].append(i.split('/')[1])\n",
    "            else:\n",
    "                dic[cattype] = [i.split('/')[1]]\n",
    "    print(dic)    \n",
    "    reduceifu(datadir,dic)\n"
   ]
  },
  {
   "cell_type": "code",
   "execution_count": 9,
   "metadata": {},
   "outputs": [
    {
     "data": {
      "text/plain": [
       "10"
      ]
     },
     "execution_count": 9,
     "metadata": {},
     "output_type": "execute_result"
    }
   ],
   "source": [
    "len(dic.keys())"
   ]
  },
  {
   "cell_type": "code",
   "execution_count": 11,
   "metadata": {},
   "outputs": [
    {
     "name": "stdout",
     "output_type": "stream",
     "text": [
      "/home/mmarcano/Documents/VIMOS/NGC6652/esorex/bin/esorex --output-dir=/home/mmarcano/Documents/VIMOS/NGC6652/data/NGC6652A3/2003-06-04T04:15/RawESOdata/Combine --log-dir=/home/mmarcano/Documents/VIMOS/NGC6652/data/NGC6652A3/2003-06-04T04:15/RawESOdata/Combine vmifucombinecube /home/mmarcano/Documents/VIMOS/NGC6652/data/NGC6652A3/2003-06-04T04:15/RawESOdata/Combine/ifucombinefovifu_science_flux_reduced.sof \n",
      "/home/mmarcano/Documents/VIMOS/NGC6652/esorex/bin/esorex --output-dir=/home/mmarcano/Documents/VIMOS/NGC6652/data/NGC6652A3/2003-06-04T04:15/RawESOdata/Combine --log-dir=/home/mmarcano/Documents/VIMOS/NGC6652/data/NGC6652A3/2003-06-04T04:15/RawESOdata/Combine vmifucombinecube /home/mmarcano/Documents/VIMOS/NGC6652/data/NGC6652A3/2003-06-04T04:15/RawESOdata/Combine/ifucombinefovifu_science_reduced.sof \n",
      "Filename: /home/mmarcano/Documents/VIMOS/NGC6652/data/NGC6652A3/2003-06-04T04:15/RawESOdata/Combine/ifu_science_flux_cube_wcscorrected.fits\n",
      "No.    Name      Ver    Type      Cards   Dimensions   Format\n",
      "  0  PRIMARY       1 PrimaryHDU     272   (40, 40, 4259)   float32   \n",
      "Filename: /home/mmarcano/Documents/VIMOS/NGC6652/data/NGC6652A3/2003-06-04T04:15/RawESOdata/Combine/ifu_science_cube_wcscorrected.fits\n",
      "No.    Name      Ver    Type      Cards   Dimensions   Format\n",
      "  0  PRIMARY       1 PrimaryHDU     272   (40, 40, 4259)   float32   \n"
     ]
    }
   ],
   "source": [
    "reducecombinecube(datadir,typecombine='ifu_science_flux_reduced')\n",
    "reducecombinecube(datadir,typecombine='ifu_science_reduced')\n",
    "\n",
    "\n",
    "changewcs(datadir+'Combine/ifu_science_flux_cube.fits',datadir+'Combine/ifu_science_flux_cube_wcscorrected.fits')\n",
    "changewcs(datadir+'Combine/ifu_science_cube.fits',datadir+'Combine/ifu_science_cube_wcscorrected.fits')"
   ]
  },
  {
   "cell_type": "code",
   "execution_count": null,
   "metadata": {},
   "outputs": [],
   "source": []
  }
 ],
 "metadata": {
  "kernelspec": {
   "display_name": "Python 3",
   "language": "python",
   "name": "python3"
  },
  "language_info": {
   "codemirror_mode": {
    "name": "ipython",
    "version": 3
   },
   "file_extension": ".py",
   "mimetype": "text/x-python",
   "name": "python",
   "nbconvert_exporter": "python",
   "pygments_lexer": "ipython3",
   "version": "3.6.5"
  }
 },
 "nbformat": 4,
 "nbformat_minor": 2
}
