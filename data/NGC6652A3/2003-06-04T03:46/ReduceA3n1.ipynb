{
 "cells": [
  {
   "cell_type": "code",
   "execution_count": 9,
   "metadata": {},
   "outputs": [
    {
     "name": "stdout",
     "output_type": "stream",
     "text": [
      "{'LINE_CATALOG': ['M.VIMOS.2008-06-17T18:11:18.672.fits'], 'EXTINCT_TABLE': ['M.VIMOS.2008-06-17T18:12:53.176.fits'], 'STD_FLUX_TABLE': ['M.VIMOS.2008-06-17T18:14:43.781.fits'], 'IFU_IDENT': ['M.VIMOS.2008-06-17T18:16:03.380.fits'], 'IFU_MASTER_RESPONSE': ['M.VIMOS.2008-06-17T18:20:40.981.fits'], 'BIAS': ['VIMOS.2003-06-02T12:34:39.026.fits', 'VIMOS.2003-06-02T12:35:30.201.fits', 'VIMOS.2003-06-02T12:36:21.588.fits', 'VIMOS.2003-06-02T12:37:13.006.fits', 'VIMOS.2003-06-02T19:27:06.394.fits', 'VIMOS.2003-06-02T19:27:58.893.fits', 'VIMOS.2003-06-02T19:28:51.438.fits', 'VIMOS.2003-06-02T19:29:44.361.fits', 'VIMOS.2003-06-02T19:30:37.451.fits', 'VIMOS.2003-06-03T11:23:39.090.fits', 'VIMOS.2003-06-03T11:24:31.674.fits', 'VIMOS.2003-06-03T11:25:26.548.fits', 'VIMOS.2003-06-03T11:26:20.261.fits', 'VIMOS.2003-06-03T11:27:16.646.fits', 'VIMOS.2003-06-06T11:26:56.025.fits', 'VIMOS.2003-06-06T11:27:48.374.fits', 'VIMOS.2003-06-06T11:28:40.910.fits', 'VIMOS.2003-06-06T11:29:33.495.fits', 'VIMOS.2003-06-06T11:30:26.986.fits', 'VIMOS.2003-06-02T12:33:47.805.fits', 'VIMOS.2003-06-05T15:29:34.574.fits', 'VIMOS.2003-06-05T15:30:27.184.fits', 'VIMOS.2003-06-05T15:31:19.749.fits', 'VIMOS.2003-06-05T15:32:12.244.fits', 'VIMOS.2003-06-05T15:33:04.729.fits', 'VIMOS.2003-06-05T15:58:55.748.fits', 'VIMOS.2003-06-05T15:59:48.514.fits', 'VIMOS.2003-06-05T16:00:40.842.fits', 'VIMOS.2003-06-05T16:01:33.115.fits', 'VIMOS.2003-06-05T16:02:25.639.fits'], 'IFU_ARC_SPECTRUM': ['VIMOS.2003-06-03T09:25:39.665.fits', 'VIMOS.2003-06-04T04:33:04.203.fits'], 'IFU_STANDARD': ['VIMOS.2003-06-03T09:48:40.902.fits'], 'IFU_SCIENCE': ['VIMOS.2003-06-04T03:46:44.310.fits'], 'IFU_SCREEN_FLAT': ['VIMOS.2003-06-04T04:35:15.634.fits']}\n",
      "Quadrant 1\n",
      "/home/mmarcano/Documents/VIMOS/NGC6652/esorex/bin/esorex --output-dir=/home/mmarcano/Documents/VIMOS/NGC6652/data/NGC6652A3/2003-06-04T03:46/RawESOdata/quadrant1 --log-dir=/home/mmarcano/Documents/VIMOS/NGC6652/data/NGC6652A3/2003-06-04T03:46/RawESOdata/quadrant1 vmbias  /home/mmarcano/Documents/VIMOS/NGC6652/data/NGC6652A3/2003-06-04T03:46/RawESOdata/quadrant1/bias.sof\n",
      "/home/mmarcano/Documents/VIMOS/NGC6652/esorex/bin/esorex --output-dir=/home/mmarcano/Documents/VIMOS/NGC6652/data/NGC6652A3/2003-06-04T03:46/RawESOdata/quadrant1 --log-dir=/home/mmarcano/Documents/VIMOS/NGC6652/data/NGC6652A3/2003-06-04T03:46/RawESOdata/quadrant1 vmifucalib  /home/mmarcano/Documents/VIMOS/NGC6652/data/NGC6652A3/2003-06-04T03:46/RawESOdata/quadrant1/calib.sof\n",
      "/home/mmarcano/Documents/VIMOS/NGC6652/esorex/bin/esorex --output-dir=/home/mmarcano/Documents/VIMOS/NGC6652/data/NGC6652A3/2003-06-04T03:46/RawESOdata/quadrant1 --log-dir=/home/mmarcano/Documents/VIMOS/NGC6652/data/NGC6652A3/2003-06-04T03:46/RawESOdata/quadrant1 vmifustandard  /home/mmarcano/Documents/VIMOS/NGC6652/data/NGC6652A3/2003-06-04T03:46/RawESOdata/quadrant1/ifustandard.sof\n",
      "/home/mmarcano/Documents/VIMOS/NGC6652/esorex/bin/esorex --output-dir=/home/mmarcano/Documents/VIMOS/NGC6652/data/NGC6652A3/2003-06-04T03:46/RawESOdata/quadrant1 --log-dir=/home/mmarcano/Documents/VIMOS/NGC6652/data/NGC6652A3/2003-06-04T03:46/RawESOdata/quadrant1 vmifuscience --CalibrateFlux=true /home/mmarcano/Documents/VIMOS/NGC6652/data/NGC6652A3/2003-06-04T03:46/RawESOdata/quadrant1/ifuscience.sof\n",
      "{'LINE_CATALOG': ['M.VIMOS.2008-06-17T18:11:23.749.fits'], 'EXTINCT_TABLE': ['M.VIMOS.2008-06-17T18:12:53.176.fits'], 'STD_FLUX_TABLE': ['M.VIMOS.2008-06-17T18:14:43.781.fits'], 'IFU_IDENT': ['M.VIMOS.2008-06-17T18:16:06.327.fits'], 'IFU_MASTER_RESPONSE': ['M.VIMOS.2008-06-17T18:20:44.067.fits'], 'BIAS': ['VIMOS.2003-06-02T19:26:37.073.fits', 'VIMOS.2003-06-02T19:27:29.545.fits', 'VIMOS.2003-06-02T19:28:22.122.fits', 'VIMOS.2003-06-02T19:29:15.040.fits', 'VIMOS.2003-06-02T19:30:08.120.fits', 'VIMOS.2003-06-03T11:23:09.653.fits', 'VIMOS.2003-06-03T11:24:02.318.fits', 'VIMOS.2003-06-03T11:24:57.137.fits', 'VIMOS.2003-06-03T11:25:50.845.fits', 'VIMOS.2003-06-03T11:26:47.234.fits'], 'IFU_ARC_SPECTRUM': ['VIMOS.2003-06-03T09:25:10.256.fits', 'VIMOS.2003-06-04T04:32:34.698.fits'], 'IFU_STANDARD': ['VIMOS.2003-06-03T09:49:58.086.fits'], 'IFU_SCIENCE': ['VIMOS.2003-06-04T03:46:12.787.fits'], 'IFU_SCREEN_FLAT': ['VIMOS.2003-06-04T04:34:46.144.fits']}\n",
      "Quadrant 2\n",
      "/home/mmarcano/Documents/VIMOS/NGC6652/esorex/bin/esorex --output-dir=/home/mmarcano/Documents/VIMOS/NGC6652/data/NGC6652A3/2003-06-04T03:46/RawESOdata/quadrant2 --log-dir=/home/mmarcano/Documents/VIMOS/NGC6652/data/NGC6652A3/2003-06-04T03:46/RawESOdata/quadrant2 vmbias  /home/mmarcano/Documents/VIMOS/NGC6652/data/NGC6652A3/2003-06-04T03:46/RawESOdata/quadrant2/bias.sof\n",
      "/home/mmarcano/Documents/VIMOS/NGC6652/esorex/bin/esorex --output-dir=/home/mmarcano/Documents/VIMOS/NGC6652/data/NGC6652A3/2003-06-04T03:46/RawESOdata/quadrant2 --log-dir=/home/mmarcano/Documents/VIMOS/NGC6652/data/NGC6652A3/2003-06-04T03:46/RawESOdata/quadrant2 vmifucalib  /home/mmarcano/Documents/VIMOS/NGC6652/data/NGC6652A3/2003-06-04T03:46/RawESOdata/quadrant2/calib.sof\n",
      "/home/mmarcano/Documents/VIMOS/NGC6652/esorex/bin/esorex --output-dir=/home/mmarcano/Documents/VIMOS/NGC6652/data/NGC6652A3/2003-06-04T03:46/RawESOdata/quadrant2 --log-dir=/home/mmarcano/Documents/VIMOS/NGC6652/data/NGC6652A3/2003-06-04T03:46/RawESOdata/quadrant2 vmifustandard  /home/mmarcano/Documents/VIMOS/NGC6652/data/NGC6652A3/2003-06-04T03:46/RawESOdata/quadrant2/ifustandard.sof\n",
      "/home/mmarcano/Documents/VIMOS/NGC6652/esorex/bin/esorex --output-dir=/home/mmarcano/Documents/VIMOS/NGC6652/data/NGC6652A3/2003-06-04T03:46/RawESOdata/quadrant2 --log-dir=/home/mmarcano/Documents/VIMOS/NGC6652/data/NGC6652A3/2003-06-04T03:46/RawESOdata/quadrant2 vmifuscience --CalibrateFlux=true /home/mmarcano/Documents/VIMOS/NGC6652/data/NGC6652A3/2003-06-04T03:46/RawESOdata/quadrant2/ifuscience.sof\n",
      "{'LINE_CATALOG': ['M.VIMOS.2008-06-17T18:11:28.741.fits'], 'EXTINCT_TABLE': ['M.VIMOS.2008-06-17T18:12:53.176.fits'], 'STD_FLUX_TABLE': ['M.VIMOS.2008-06-17T18:14:43.781.fits'], 'IFU_IDENT': ['M.VIMOS.2008-06-17T18:16:09.125.fits'], 'IFU_MASTER_RESPONSE': ['M.VIMOS.2008-06-17T18:20:47.901.fits'], 'BIAS': ['VIMOS.2003-06-02T19:26:37.074.fits', 'VIMOS.2003-06-02T19:27:29.546.fits', 'VIMOS.2003-06-02T19:28:22.123.fits', 'VIMOS.2003-06-02T19:29:15.041.fits', 'VIMOS.2003-06-02T19:30:08.121.fits', 'VIMOS.2003-06-03T11:23:09.654.fits', 'VIMOS.2003-06-03T11:24:02.319.fits', 'VIMOS.2003-06-03T11:24:57.138.fits', 'VIMOS.2003-06-03T11:25:50.846.fits', 'VIMOS.2003-06-03T11:26:47.235.fits'], 'IFU_ARC_SPECTRUM': ['VIMOS.2003-06-03T09:25:10.257.fits', 'VIMOS.2003-06-04T04:32:34.699.fits'], 'IFU_STANDARD': ['VIMOS.2003-06-03T09:51:45.192.fits'], 'IFU_SCIENCE': ['VIMOS.2003-06-04T03:46:12.788.fits'], 'IFU_SCREEN_FLAT': ['VIMOS.2003-06-04T04:34:46.145.fits']}\n",
      "Quadrant 3\n",
      "/home/mmarcano/Documents/VIMOS/NGC6652/esorex/bin/esorex --output-dir=/home/mmarcano/Documents/VIMOS/NGC6652/data/NGC6652A3/2003-06-04T03:46/RawESOdata/quadrant3 --log-dir=/home/mmarcano/Documents/VIMOS/NGC6652/data/NGC6652A3/2003-06-04T03:46/RawESOdata/quadrant3 vmbias  /home/mmarcano/Documents/VIMOS/NGC6652/data/NGC6652A3/2003-06-04T03:46/RawESOdata/quadrant3/bias.sof\n",
      "/home/mmarcano/Documents/VIMOS/NGC6652/esorex/bin/esorex --output-dir=/home/mmarcano/Documents/VIMOS/NGC6652/data/NGC6652A3/2003-06-04T03:46/RawESOdata/quadrant3 --log-dir=/home/mmarcano/Documents/VIMOS/NGC6652/data/NGC6652A3/2003-06-04T03:46/RawESOdata/quadrant3 vmifucalib  /home/mmarcano/Documents/VIMOS/NGC6652/data/NGC6652A3/2003-06-04T03:46/RawESOdata/quadrant3/calib.sof\n",
      "/home/mmarcano/Documents/VIMOS/NGC6652/esorex/bin/esorex --output-dir=/home/mmarcano/Documents/VIMOS/NGC6652/data/NGC6652A3/2003-06-04T03:46/RawESOdata/quadrant3 --log-dir=/home/mmarcano/Documents/VIMOS/NGC6652/data/NGC6652A3/2003-06-04T03:46/RawESOdata/quadrant3 vmifustandard  /home/mmarcano/Documents/VIMOS/NGC6652/data/NGC6652A3/2003-06-04T03:46/RawESOdata/quadrant3/ifustandard.sof\n",
      "/home/mmarcano/Documents/VIMOS/NGC6652/esorex/bin/esorex --output-dir=/home/mmarcano/Documents/VIMOS/NGC6652/data/NGC6652A3/2003-06-04T03:46/RawESOdata/quadrant3 --log-dir=/home/mmarcano/Documents/VIMOS/NGC6652/data/NGC6652A3/2003-06-04T03:46/RawESOdata/quadrant3 vmifuscience --CalibrateFlux=true /home/mmarcano/Documents/VIMOS/NGC6652/data/NGC6652A3/2003-06-04T03:46/RawESOdata/quadrant3/ifuscience.sof\n",
      "{'LINE_CATALOG': ['M.VIMOS.2008-06-17T18:11:31.782.fits'], 'EXTINCT_TABLE': ['M.VIMOS.2008-06-17T18:12:53.176.fits'], 'STD_FLUX_TABLE': ['M.VIMOS.2008-06-17T18:14:43.781.fits'], 'IFU_IDENT': ['M.VIMOS.2008-06-17T18:16:12.090.fits'], 'IFU_MASTER_RESPONSE': ['M.VIMOS.2008-06-17T18:20:50.827.fits'], 'BIAS': ['VIMOS.2003-06-02T12:33:47.806.fits', 'VIMOS.2003-06-02T12:34:39.027.fits', 'VIMOS.2003-06-02T12:35:30.202.fits', 'VIMOS.2003-06-02T12:36:21.589.fits', 'VIMOS.2003-06-02T12:37:13.007.fits', 'VIMOS.2003-06-02T19:27:06.395.fits', 'VIMOS.2003-06-02T19:27:58.894.fits', 'VIMOS.2003-06-02T19:28:51.439.fits', 'VIMOS.2003-06-02T19:29:44.362.fits', 'VIMOS.2003-06-02T19:30:37.452.fits', 'VIMOS.2003-06-03T11:23:39.091.fits', 'VIMOS.2003-06-03T11:24:31.675.fits', 'VIMOS.2003-06-03T11:25:26.549.fits', 'VIMOS.2003-06-03T11:26:20.262.fits', 'VIMOS.2003-06-03T11:27:16.647.fits', 'VIMOS.2003-06-05T16:02:25.640.fits', 'VIMOS.2003-06-06T11:26:56.026.fits', 'VIMOS.2003-06-06T11:27:48.375.fits', 'VIMOS.2003-06-06T11:28:40.911.fits', 'VIMOS.2003-06-06T11:29:33.496.fits', 'VIMOS.2003-06-06T11:30:26.987.fits', 'VIMOS.2003-06-05T15:29:34.575.fits', 'VIMOS.2003-06-05T15:30:27.185.fits', 'VIMOS.2003-06-05T15:31:19.750.fits', 'VIMOS.2003-06-05T15:32:12.245.fits', 'VIMOS.2003-06-05T15:33:04.730.fits', 'VIMOS.2003-06-05T15:58:55.749.fits', 'VIMOS.2003-06-05T15:59:48.515.fits', 'VIMOS.2003-06-05T16:00:40.843.fits', 'VIMOS.2003-06-05T16:01:33.116.fits'], 'IFU_ARC_SPECTRUM': ['VIMOS.2003-06-03T09:25:39.666.fits', 'VIMOS.2003-06-04T04:33:04.204.fits'], 'IFU_STANDARD': ['VIMOS.2003-06-03T09:54:01.936.fits'], 'IFU_SCIENCE': ['VIMOS.2003-06-04T03:46:44.311.fits'], 'IFU_SCREEN_FLAT': ['VIMOS.2003-06-04T04:35:15.635.fits']}\n",
      "Quadrant 4\n",
      "/home/mmarcano/Documents/VIMOS/NGC6652/esorex/bin/esorex --output-dir=/home/mmarcano/Documents/VIMOS/NGC6652/data/NGC6652A3/2003-06-04T03:46/RawESOdata/quadrant4 --log-dir=/home/mmarcano/Documents/VIMOS/NGC6652/data/NGC6652A3/2003-06-04T03:46/RawESOdata/quadrant4 vmbias  /home/mmarcano/Documents/VIMOS/NGC6652/data/NGC6652A3/2003-06-04T03:46/RawESOdata/quadrant4/bias.sof\n",
      "/home/mmarcano/Documents/VIMOS/NGC6652/esorex/bin/esorex --output-dir=/home/mmarcano/Documents/VIMOS/NGC6652/data/NGC6652A3/2003-06-04T03:46/RawESOdata/quadrant4 --log-dir=/home/mmarcano/Documents/VIMOS/NGC6652/data/NGC6652A3/2003-06-04T03:46/RawESOdata/quadrant4 vmifucalib  /home/mmarcano/Documents/VIMOS/NGC6652/data/NGC6652A3/2003-06-04T03:46/RawESOdata/quadrant4/calib.sof\n",
      "/home/mmarcano/Documents/VIMOS/NGC6652/esorex/bin/esorex --output-dir=/home/mmarcano/Documents/VIMOS/NGC6652/data/NGC6652A3/2003-06-04T03:46/RawESOdata/quadrant4 --log-dir=/home/mmarcano/Documents/VIMOS/NGC6652/data/NGC6652A3/2003-06-04T03:46/RawESOdata/quadrant4 vmifustandard  /home/mmarcano/Documents/VIMOS/NGC6652/data/NGC6652A3/2003-06-04T03:46/RawESOdata/quadrant4/ifustandard.sof\n",
      "/home/mmarcano/Documents/VIMOS/NGC6652/esorex/bin/esorex --output-dir=/home/mmarcano/Documents/VIMOS/NGC6652/data/NGC6652A3/2003-06-04T03:46/RawESOdata/quadrant4 --log-dir=/home/mmarcano/Documents/VIMOS/NGC6652/data/NGC6652A3/2003-06-04T03:46/RawESOdata/quadrant4 vmifuscience --CalibrateFlux=true /home/mmarcano/Documents/VIMOS/NGC6652/data/NGC6652A3/2003-06-04T03:46/RawESOdata/quadrant4/ifuscience.sof\n"
     ]
    }
   ],
   "source": [
    "import glob\n",
    "from astropy.io import fits\n",
    "\n",
    "import sys\n",
    "sys.path.append('../../')\n",
    "from reducing import reduceifu,reducecombinecube, changewcs\n",
    "\n",
    "\n",
    "quad=[1,2,3,4]\n",
    "l = glob.glob('RawESOdata/*.fits')\n",
    "categories = ['IFU_SCIENCE', 'LINE_CATALOG', 'EXTINCT_TABLE', 'STD_FLUX_TABLE', 'IFU_IDENT', 'IFU_MASTER_RESPONSE', \n",
    "              'BIAS', 'IFU_ARC_SPECTRUM', 'IFU_STANDARD', 'IFU_SCREEN_FLAT']\n",
    "borrar = []\n",
    "for q in quad:\n",
    "    dic = {}\n",
    "    for i in l:\n",
    "        temp = fits.open(i)\n",
    "        quad = temp[0].header['HIERARCH ESO OCS CON QUAD']\n",
    "        if quad == q or quad == 0:\n",
    "            try:\n",
    "                cat = temp[0].header['HIERARCH ESO DPR CATG']\n",
    "                cattype = temp[0].header['HIERARCH ESO DPR TYPE']\n",
    "                quad = temp[0].header['HIERARCH ESO OCS CON QUAD']\n",
    "                mode = temp[0].header['HIERARCH ESO INS MODE']\n",
    "\n",
    "                if cattype == 'FLAT,LAMP':\n",
    "                    cattype = 'IFU_SCREEN_FLAT'\n",
    "                elif cattype == 'WAVE,LAMP':\n",
    "                    cattype = 'IFU_ARC_SPECTRUM'\n",
    "                elif cattype == 'STD':\n",
    "                    cattype = 'IFU_STANDARD'\n",
    "                elif cattype == 'OBJECT':\n",
    "                    cattype = 'IFU_SCIENCE'\n",
    "\n",
    "                    #print('Wave',quad,i.split('/')[1])\n",
    "            except:\n",
    "                cattype = temp[0].header['HIERARCH ESO PRO CATG']\n",
    "                #print(cattype)\n",
    "\n",
    "    #            pass\n",
    "            if cattype not in categories:\n",
    "                print('AAAA',cattype)\n",
    "                \n",
    "            if cattype in dic.keys():\n",
    "                #dic[cattype] = list(dic[cattype])\n",
    "                dic[cattype].append(i.split('/')[1])\n",
    "            else:\n",
    "                dic[cattype] = [i.split('/')[1]]\n",
    "    print(dic)    \n",
    "    reduceifu(datadir,dic)\n"
   ]
  },
  {
   "cell_type": "code",
   "execution_count": 10,
   "metadata": {},
   "outputs": [
    {
     "name": "stdout",
     "output_type": "stream",
     "text": [
      "/home/mmarcano/Documents/VIMOS/NGC6652/esorex/bin/esorex --output-dir=/home/mmarcano/Documents/VIMOS/NGC6652/data/NGC6652A3/2003-06-04T03:46/RawESOdata/Combine --log-dir=/home/mmarcano/Documents/VIMOS/NGC6652/data/NGC6652A3/2003-06-04T03:46/RawESOdata/Combine vmifucombinecube /home/mmarcano/Documents/VIMOS/NGC6652/data/NGC6652A3/2003-06-04T03:46/RawESOdata/Combine/ifucombinefovifu_science_flux_reduced.sof \n",
      "/home/mmarcano/Documents/VIMOS/NGC6652/esorex/bin/esorex --output-dir=/home/mmarcano/Documents/VIMOS/NGC6652/data/NGC6652A3/2003-06-04T03:46/RawESOdata/Combine --log-dir=/home/mmarcano/Documents/VIMOS/NGC6652/data/NGC6652A3/2003-06-04T03:46/RawESOdata/Combine vmifucombinecube /home/mmarcano/Documents/VIMOS/NGC6652/data/NGC6652A3/2003-06-04T03:46/RawESOdata/Combine/ifucombinefovifu_science_reduced.sof \n"
     ]
    }
   ],
   "source": [
    "reducecombinecube(datadir,typecombine='ifu_science_flux_reduced')\n",
    "reducecombinecube(datadir,typecombine='ifu_science_reduced')\n"
   ]
  },
  {
   "cell_type": "code",
   "execution_count": 11,
   "metadata": {},
   "outputs": [
    {
     "name": "stdout",
     "output_type": "stream",
     "text": [
      "Filename: /home/mmarcano/Documents/VIMOS/NGC6652/data/NGC6652A3/2003-06-04T03:46/RawESOdata/Combine/ifu_science_flux_cube_wcscorrected.fits\n",
      "No.    Name      Ver    Type      Cards   Dimensions   Format\n",
      "  0  PRIMARY       1 PrimaryHDU     272   (40, 40, 4259)   float32   \n",
      "Filename: /home/mmarcano/Documents/VIMOS/NGC6652/data/NGC6652A3/2003-06-04T03:46/RawESOdata/Combine/ifu_science_cube_wcscorrected.fits\n",
      "No.    Name      Ver    Type      Cards   Dimensions   Format\n",
      "  0  PRIMARY       1 PrimaryHDU     272   (40, 40, 4259)   float32   \n"
     ]
    }
   ],
   "source": [
    "changewcs(datadir+'Combine/ifu_science_flux_cube.fits',datadir+'Combine/ifu_science_flux_cube_wcscorrected.fits')\n",
    "changewcs(datadir+'Combine/ifu_science_cube.fits',datadir+'Combine/ifu_science_cube_wcscorrected.fits')"
   ]
  },
  {
   "cell_type": "code",
   "execution_count": null,
   "metadata": {},
   "outputs": [],
   "source": []
  },
  {
   "cell_type": "code",
   "execution_count": null,
   "metadata": {},
   "outputs": [],
   "source": []
  },
  {
   "cell_type": "code",
   "execution_count": 2,
   "metadata": {},
   "outputs": [
    {
     "data": {
      "text/plain": [
       "{'LINE_CATALOG': ['M.VIMOS.2008-06-17T18:11:18.672.fits'],\n",
       " 'EXTINCT_TABLE': ['M.VIMOS.2008-06-17T18:12:53.176.fits'],\n",
       " 'STD_FLUX_TABLE': ['M.VIMOS.2008-06-17T18:14:43.781.fits'],\n",
       " 'IFU_IDENT': ['M.VIMOS.2008-06-17T18:16:03.380.fits'],\n",
       " 'IFU_MASTER_RESPONSE': ['M.VIMOS.2008-06-17T18:20:40.981.fits'],\n",
       " 'BIAS': ['VIMOS.2003-06-02T12:34:39.026.fits',\n",
       "  'VIMOS.2003-06-02T12:35:30.201.fits',\n",
       "  'VIMOS.2003-06-02T12:36:21.588.fits',\n",
       "  'VIMOS.2003-06-02T12:37:13.006.fits',\n",
       "  'VIMOS.2003-06-02T19:27:06.394.fits',\n",
       "  'VIMOS.2003-06-02T19:27:58.893.fits',\n",
       "  'VIMOS.2003-06-02T19:28:51.438.fits',\n",
       "  'VIMOS.2003-06-02T19:29:44.361.fits',\n",
       "  'VIMOS.2003-06-02T19:30:37.451.fits',\n",
       "  'VIMOS.2003-06-03T11:23:39.090.fits',\n",
       "  'VIMOS.2003-06-03T11:24:31.674.fits',\n",
       "  'VIMOS.2003-06-03T11:25:26.548.fits',\n",
       "  'VIMOS.2003-06-03T11:26:20.261.fits',\n",
       "  'VIMOS.2003-06-03T11:27:16.646.fits',\n",
       "  'VIMOS.2003-06-06T11:26:56.025.fits',\n",
       "  'VIMOS.2003-06-06T11:27:48.374.fits',\n",
       "  'VIMOS.2003-06-06T11:28:40.910.fits',\n",
       "  'VIMOS.2003-06-06T11:29:33.495.fits',\n",
       "  'VIMOS.2003-06-06T11:30:26.986.fits',\n",
       "  'VIMOS.2003-06-02T12:33:47.805.fits',\n",
       "  'VIMOS.2003-06-05T15:29:34.574.fits',\n",
       "  'VIMOS.2003-06-05T15:30:27.184.fits',\n",
       "  'VIMOS.2003-06-05T15:31:19.749.fits',\n",
       "  'VIMOS.2003-06-05T15:32:12.244.fits',\n",
       "  'VIMOS.2003-06-05T15:33:04.729.fits',\n",
       "  'VIMOS.2003-06-05T15:58:55.748.fits',\n",
       "  'VIMOS.2003-06-05T15:59:48.514.fits',\n",
       "  'VIMOS.2003-06-05T16:00:40.842.fits',\n",
       "  'VIMOS.2003-06-05T16:01:33.115.fits',\n",
       "  'VIMOS.2003-06-05T16:02:25.639.fits'],\n",
       " 'IFU_ARC_SPECTRUM': ['VIMOS.2003-06-03T09:25:39.665.fits',\n",
       "  'VIMOS.2003-06-04T04:33:04.203.fits'],\n",
       " 'IFU_STANDARD': ['VIMOS.2003-06-03T09:48:40.902.fits'],\n",
       " 'IFU_SCIENCE': ['VIMOS.2003-06-04T03:46:44.310.fits'],\n",
       " 'IFU_SCREEN_FLAT': ['VIMOS.2003-06-04T04:35:15.634.fits']}"
      ]
     },
     "execution_count": 2,
     "metadata": {},
     "output_type": "execute_result"
    }
   ],
   "source": [
    "datadir = '/home/mmarcano/Documents/VIMOS/NGC6652/data/NGC6652A3/2003-06-04T03:46/RawESOdata/'\n",
    "dic"
   ]
  },
  {
   "cell_type": "code",
   "execution_count": 3,
   "metadata": {},
   "outputs": [
    {
     "name": "stdout",
     "output_type": "stream",
     "text": [
      "Quadrant 1\n",
      "/home/mmarcano/Documents/VIMOS/NGC6652/esorex/bin/esorex --output-dir=/home/mmarcano/Documents/VIMOS/NGC6652/data/NGC6652A3/2003-06-04T03:46/RawESOdata/quadrant1 --log-dir=/home/mmarcano/Documents/VIMOS/NGC6652/data/NGC6652A3/2003-06-04T03:46/RawESOdata/quadrant1 vmbias  /home/mmarcano/Documents/VIMOS/NGC6652/data/NGC6652A3/2003-06-04T03:46/RawESOdata/quadrant1/bias.sof\n",
      "/home/mmarcano/Documents/VIMOS/NGC6652/esorex/bin/esorex --output-dir=/home/mmarcano/Documents/VIMOS/NGC6652/data/NGC6652A3/2003-06-04T03:46/RawESOdata/quadrant1 --log-dir=/home/mmarcano/Documents/VIMOS/NGC6652/data/NGC6652A3/2003-06-04T03:46/RawESOdata/quadrant1 vmifucalib  /home/mmarcano/Documents/VIMOS/NGC6652/data/NGC6652A3/2003-06-04T03:46/RawESOdata/quadrant1/calib.sof\n",
      "/home/mmarcano/Documents/VIMOS/NGC6652/esorex/bin/esorex --output-dir=/home/mmarcano/Documents/VIMOS/NGC6652/data/NGC6652A3/2003-06-04T03:46/RawESOdata/quadrant1 --log-dir=/home/mmarcano/Documents/VIMOS/NGC6652/data/NGC6652A3/2003-06-04T03:46/RawESOdata/quadrant1 vmifustandard  /home/mmarcano/Documents/VIMOS/NGC6652/data/NGC6652A3/2003-06-04T03:46/RawESOdata/quadrant1/ifustandard.sof\n",
      "/home/mmarcano/Documents/VIMOS/NGC6652/esorex/bin/esorex --output-dir=/home/mmarcano/Documents/VIMOS/NGC6652/data/NGC6652A3/2003-06-04T03:46/RawESOdata/quadrant1 --log-dir=/home/mmarcano/Documents/VIMOS/NGC6652/data/NGC6652A3/2003-06-04T03:46/RawESOdata/quadrant1 vmifuscience --CalibrateFlux=true /home/mmarcano/Documents/VIMOS/NGC6652/data/NGC6652A3/2003-06-04T03:46/RawESOdata/quadrant1/ifuscience.sof\n"
     ]
    }
   ],
   "source": [
    "reduceifu(datadir,dic)"
   ]
  },
  {
   "cell_type": "code",
   "execution_count": 11,
   "metadata": {},
   "outputs": [
    {
     "ename": "NameError",
     "evalue": "name 't' is not defined",
     "output_type": "error",
     "traceback": [
      "\u001b[0;31m---------------------------------------------------------------------------\u001b[0m",
      "\u001b[0;31mNameError\u001b[0m                                 Traceback (most recent call last)",
      "\u001b[0;32m<ipython-input-11-a471f56f22a6>\u001b[0m in \u001b[0;36m<module>\u001b[0;34m()\u001b[0m\n\u001b[0;32m----> 1\u001b[0;31m \u001b[0mt\u001b[0m\u001b[0;34m[\u001b[0m\u001b[0;36m0\u001b[0m\u001b[0;34m]\u001b[0m\u001b[0;34m\u001b[0m\u001b[0m\n\u001b[0m",
      "\u001b[0;31mNameError\u001b[0m: name 't' is not defined"
     ]
    }
   ],
   "source": [
    "t[0]"
   ]
  },
  {
   "cell_type": "code",
   "execution_count": 61,
   "metadata": {},
   "outputs": [],
   "source": [
    "datadir = '/home/mmarcano/Documents/VIMOS/NGC6652/data/NGC6652A3/2003-06-04T03:46/RawESOdata/'\n",
    "\n",
    "rawdataq1 = {'IFU_SCIENCE':'VIMOS.2003-06-24T05:47:09.495.fits','LINE_CATALOG':'M.VIMOS.2008-06-17T18:11:18.672.fits',\n",
    "          'EXTINCT_TABLE':'M.VIMOS.2008-06-17T18:12:53.176.fits',\n",
    "          'STD_FLUX_TABLE':'M.VIMOS.2008-06-17T18:13:13.956.fits',\n",
    "           'IFU_IDENT':'M.VIMOS.2008-06-17T18:16:03.380.fits',\n",
    "           'IFU_MASTER_RESPONSE':'M.VIMOS.2008-06-17T18:20:40.981.fits',\n",
    "           'BIAS':['VIMOS.2003-06-23T14:48:34.459.fits','VIMOS.2003-06-23T14:49:26.872.fits','VIMOS.2003-06-23T14:50:19.472.fits','VIMOS.2003-06-23T14:51:12.021.fits','VIMOS.2003-06-23T14:52:04.693.fits',\n",
    "                  'VIMOS.2003-06-24T11:27:11.124.fits','VIMOS.2003-06-24T11:28:03.627.fits','VIMOS.2003-06-24T11:28:56.486.fits','VIMOS.2003-06-24T11:29:49.973.fits','VIMOS.2003-06-24T11:30:43.186.fits'],\n",
    "           'IFU_ARC_SPECTRUM':['VIMOS.2003-06-24T06:32:58.132.fits'],\n",
    "           'IFU_STANDARD':'VIMOS.2003-06-24T10:26:46.402.fits',\n",
    "           'IFU_SCREEN_FLAT':['VIMOS.2003-06-24T10:43:31.636.fits','VIMOS.2003-06-24T10:44:42.776.fits','VIMOS.2003-06-24T10:45:54.168.fits']}\n",
    "\n",
    "rawdataq2 = {'IFU_SCIENCE':'VIMOS.2003-06-02T03:08:10.004.fits',\n",
    "           'LINE_CATALOG':'M.VIMOS.2008-06-17T18:11:23.749.fits',\n",
    "          'EXTINCT_TABLE':'M.VIMOS.2008-06-17T18:12:53.176.fits',\n",
    "          'STD_FLUX_TABLE':'M.VIMOS.2008-06-17T18:13:10.885.fits',\n",
    "           'IFU_IDENT':'M.VIMOS.2008-06-17T18:16:06.327.fits',\n",
    "           'IFU_MASTER_RESPONSE':'M.VIMOS.2008-06-17T18:20:44.067.fits',\n",
    "           'BIAS':['VIMOS.2003-06-01T11:03:20.502.fits','VIMOS.2003-06-01T11:04:12.999.fits','VIMOS.2003-06-01T11:05:08.547.fits','VIMOS.2003-06-01T11:06:05.169.fits','VIMOS.2003-06-01T11:06:58.322.fits',\n",
    "                  'VIMOS.2003-06-02T19:26:37.073.fits','VIMOS.2003-06-02T19:27:29.545.fits','VIMOS.2003-06-02T19:28:22.122.fits','VIMOS.2003-06-02T19:29:15.040.fits','VIMOS.2003-06-02T19:30:08.120.fits',\n",
    "                  \"VIMOS.2003-06-03T11:23:09.653.fits\",\"VIMOS.2003-06-03T11:24:02.318.fits\",'VIMOS.2003-06-03T11:24:57.137.fits','VIMOS.2003-06-03T11:25:50.845.fits','VIMOS.2003-06-03T11:26:47.234.fits'],\n",
    "           'IFU_ARC_SPECTRUM':'VIMOS.2003-06-02T03:55:35.127.fits',\n",
    "           'IFU_STANDARD':'VIMOS.2003-06-02T02:59:00.665.fits',\n",
    "           'IFU_SCREEN_FLAT':['VIMOS.2003-06-04T04:34:46.144.fits']\n",
    "          }\n",
    "\n",
    "rawdataq3 = {'IFU_SCIENCE':'VIMOS.2003-06-24T05:47:09.634.fits',\n",
    "           'LINE_CATALOG':'M.VIMOS.2008-06-17T18:11:28.741.fits',\n",
    "          'EXTINCT_TABLE':'M.VIMOS.2008-06-17T18:12:53.176.fits',\n",
    "          'STD_FLUX_TABLE':'M.VIMOS.2008-06-17T18:13:13.956.fits',\n",
    "           'IFU_IDENT':'M.VIMOS.2008-06-17T18:16:09.125.fits',\n",
    "           'IFU_MASTER_RESPONSE':'M.VIMOS.2008-06-17T18:20:47.901.fits',\n",
    "           'BIAS':['VIMOS.2003-06-23T14:48:34.616.fits','VIMOS.2003-06-23T14:49:27.031.fits','VIMOS.2003-06-23T14:50:19.638.fits','VIMOS.2003-06-23T14:51:12.166.fits','VIMOS.2003-06-23T14:52:04.865.fits',\n",
    "                  'VIMOS.2003-06-24T11:27:11.268.fits','VIMOS.2003-06-24T11:28:03.763.fits','VIMOS.2003-06-24T11:28:56.626.fits','VIMOS.2003-06-24T11:29:50.114.fits','VIMOS.2003-06-24T11:30:43.335.fits'],\n",
    "           'IFU_ARC_SPECTRUM':'VIMOS.2003-06-24T06:32:58.279.fits',\n",
    "           'IFU_STANDARD':'VIMOS.2003-06-24T10:34:16.581.fits',\n",
    "           'IFU_SCREEN_FLAT':['VIMOS.2003-06-24T10:43:31.778.fits','VIMOS.2003-06-24T10:44:42.924.fits','VIMOS.2003-06-24T10:45:54.301.fits']\n",
    "          }\n",
    "\n",
    "rawdataq4 ={'IFU_SCIENCE':'VIMOS.2003-06-24T05:47:09.496.fits',\n",
    "           'LINE_CATALOG':'M.VIMOS.2008-06-17T18:11:31.782.fits',\n",
    "          'EXTINCT_TABLE':'M.VIMOS.2008-06-17T18:12:53.176.fits',\n",
    "          'STD_FLUX_TABLE':'M.VIMOS.2008-06-17T18:13:13.956.fits',\n",
    "           'IFU_IDENT':'M.VIMOS.2008-06-17T18:16:12.090.fits',\n",
    "           'IFU_MASTER_RESPONSE':'M.VIMOS.2008-06-17T18:20:50.827.fits',\n",
    "           'BIAS':['VIMOS.2003-06-23T14:48:34.460.fits','VIMOS.2003-06-23T14:49:26.873.fits','VIMOS.2003-06-23T14:50:19.473.fits','VIMOS.2003-06-23T14:51:12.022.fits','VIMOS.2003-06-23T14:52:04.694.fits',\n",
    "                  'VIMOS.2003-06-24T11:27:11.125.fits','VIMOS.2003-06-24T11:28:03.628.fits','VIMOS.2003-06-24T11:28:56.487.fits','VIMOS.2003-06-24T11:29:49.974.fits','VIMOS.2003-06-24T11:30:43.187.fits'],\n",
    "           'IFU_ARC_SPECTRUM':'VIMOS.2003-06-24T06:32:58.133.fits',\n",
    "           'IFU_STANDARD':'VIMOS.2003-06-24T10:38:01.522.fits',\n",
    "           'IFU_SCREEN_FLAT':['VIMOS.2003-06-24T10:43:31.637.fits','VIMOS.2003-06-24T10:44:42.777.fits','VIMOS.2003-06-24T10:45:54.169.fits']\n",
    "          }"
   ]
  },
  {
   "cell_type": "code",
   "execution_count": 149,
   "metadata": {},
   "outputs": [
    {
     "ename": "TypeError",
     "evalue": "reduceifu() missing 1 required positional argument: 'rawdatadictionary'",
     "output_type": "error",
     "traceback": [
      "\u001b[0;31m---------------------------------------------------------------------------\u001b[0m",
      "\u001b[0;31mTypeError\u001b[0m                                 Traceback (most recent call last)",
      "\u001b[0;32m<ipython-input-149-f29f2dc2eee2>\u001b[0m in \u001b[0;36m<module>\u001b[0;34m()\u001b[0m\n\u001b[0;32m----> 1\u001b[0;31m \u001b[0mreduceifu\u001b[0m\u001b[0;34m(\u001b[0m\u001b[0mdic\u001b[0m\u001b[0;34m)\u001b[0m\u001b[0;34m\u001b[0m\u001b[0m\n\u001b[0m",
      "\u001b[0;31mTypeError\u001b[0m: reduceifu() missing 1 required positional argument: 'rawdatadictionary'"
     ]
    }
   ],
   "source": [
    "reduceifu(dic)"
   ]
  },
  {
   "cell_type": "code",
   "execution_count": 153,
   "metadata": {},
   "outputs": [
    {
     "data": {
      "text/plain": [
       "'/home/mmarcano/Documents/VIMOS/NGC6652/data/NGC6652A3/2003-06-04T03:46'"
      ]
     },
     "execution_count": 153,
     "metadata": {},
     "output_type": "execute_result"
    }
   ],
   "source": [
    "datadir"
   ]
  },
  {
   "cell_type": "code",
   "execution_count": null,
   "metadata": {},
   "outputs": [],
   "source": []
  }
 ],
 "metadata": {
  "kernelspec": {
   "display_name": "Python 3",
   "language": "python",
   "name": "python3"
  },
  "language_info": {
   "codemirror_mode": {
    "name": "ipython",
    "version": 3
   },
   "file_extension": ".py",
   "mimetype": "text/x-python",
   "name": "python",
   "nbconvert_exporter": "python",
   "pygments_lexer": "ipython3",
   "version": "3.6.5"
  }
 },
 "nbformat": 4,
 "nbformat_minor": 2
}
