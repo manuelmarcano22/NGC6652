{
 "cells": [
  {
   "cell_type": "markdown",
   "metadata": {},
   "source": [
    "# Get data\n",
    "\n",
    "It creates a file with the path and the Frame tag depending on its TYPE as stated in Table \n"
   ]
  },
  {
   "cell_type": "code",
   "execution_count": 14,
   "metadata": {},
   "outputs": [],
   "source": [
    "from astropy.io import fits\n",
    "import numpy as np\n",
    "import os\n",
    "import glob"
   ]
  },
  {
   "cell_type": "code",
   "execution_count": 20,
   "metadata": {},
   "outputs": [],
   "source": [
    "datadir = '../data/'\n",
    "\n",
    "files = glob.glob(datadir+'*.fits')\n",
    "dictype = {'BIAS': 'BIAS','DARK': 'DARK','FLAT,LAMP':'FLAT','LAMP,FLAT': 'FLAT','FLAT,SKY':'SKYFLAT','SKY,FLAT': 'SKYFLAT','WAVE':'ARC','WAVE,MASK':'MASK','MASK,WAVE':'MASK','STD':'STD','ASTROMETRY':'ASTROMETRY','SKY':'SKY','OBJECT':'OBJECT','FLAT,LAMP,ILLUM':'ILLUM'}\n",
    "\n"
   ]
  },
  {
   "cell_type": "code",
   "execution_count": 32,
   "metadata": {},
   "outputs": [],
   "source": [
    "listadate = []\n",
    "for file in files:\n",
    "    tmpfits = fits.open(file)\n",
    "    tmpdate = tmpfits[0].header['HIERARCH ESO OBS START']\n",
    "    listadate.append(tmpdate)\n"
   ]
  },
  {
   "cell_type": "markdown",
   "metadata": {},
   "source": [
    "# Dates observed"
   ]
  },
  {
   "cell_type": "code",
   "execution_count": 44,
   "metadata": {},
   "outputs": [
    {
     "data": {
      "text/plain": [
       "{'2003-06-02T03:04:10',\n",
       " '2003-06-03T08:36:06',\n",
       " '2003-06-04T03:46:13',\n",
       " '2003-06-04T04:34:21',\n",
       " '2003-06-04T04:36:35',\n",
       " '2003-06-04T05:16:13',\n",
       " '2003-06-04T05:35:50',\n",
       " '2003-06-04T06:28:36',\n",
       " '2003-06-06T04:42:57',\n",
       " '2003-06-06T06:23:40',\n",
       " '2003-06-06T07:11:06',\n",
       " '2003-06-06T07:13:14',\n",
       " '2003-06-22T02:03:50',\n",
       " '2003-06-22T03:07:22',\n",
       " '2003-06-22T06:31:37',\n",
       " '2003-06-24T04:18:10',\n",
       " '2003-06-24T04:52:33',\n",
       " '2003-06-24T05:43:25',\n",
       " '2003-06-25T02:04:22',\n",
       " '2003-06-25T02:41:21'}"
      ]
     },
     "execution_count": 44,
     "metadata": {},
     "output_type": "execute_result"
    }
   ],
   "source": [
    "set(listadate)"
   ]
  },
  {
   "cell_type": "code",
   "execution_count": 45,
   "metadata": {},
   "outputs": [
    {
     "data": {
      "text/plain": [
       "{'2003-06-02',\n",
       " '2003-06-03',\n",
       " '2003-06-04',\n",
       " '2003-06-06',\n",
       " '2003-06-22',\n",
       " '2003-06-24',\n",
       " '2003-06-25'}"
      ]
     },
     "execution_count": 45,
     "metadata": {},
     "output_type": "execute_result"
    }
   ],
   "source": [
    "listadays = [i.split('T')[0] for i in listadate]\n",
    "set(listadays)"
   ]
  },
  {
   "cell_type": "markdown",
   "metadata": {},
   "source": [
    "So there seem to bee two observation days. One early June and other late june"
   ]
  }
 ],
 "metadata": {
  "kernelspec": {
   "display_name": "Python 3",
   "language": "python",
   "name": "python3"
  },
  "language_info": {
   "codemirror_mode": {
    "name": "ipython",
    "version": 3
   },
   "file_extension": ".py",
   "mimetype": "text/x-python",
   "name": "python",
   "nbconvert_exporter": "python",
   "pygments_lexer": "ipython3",
   "version": "3.6.3"
  }
 },
 "nbformat": 4,
 "nbformat_minor": 2
}
