{
 "cells": [
  {
   "cell_type": "markdown",
   "metadata": {},
   "source": [
    "To extract .fits.Z to fits"
   ]
  },
  {
   "cell_type": "code",
   "execution_count": 2,
   "metadata": {},
   "outputs": [],
   "source": [
    "import glob\n",
    "import subprocess\n",
    "from astropy.io import fits"
   ]
  },
  {
   "cell_type": "code",
   "execution_count": 3,
   "metadata": {},
   "outputs": [],
   "source": [
    "listaZ = glob.glob('../data/*.fits.Z')\n",
    "\n",
    "for z in listaZ:\n",
    "    cmd = 'gunzip {}'.format(z)\n",
    "    subprocess.Popen(cmd, shell=True,executable='/bin/bash')\n",
    "    \n"
   ]
  },
  {
   "cell_type": "code",
   "execution_count": 10,
   "metadata": {},
   "outputs": [],
   "source": [
    "grismnumber = 1\n",
    "\n",
    "biasdir = '../data/grism{}/bias/*.fits.Z'.format(grismnumber)\n",
    "listaZbias = glob.glob(biasdir)\n",
    "\n",
    "\n",
    "for z in listaZbias:\n",
    "    cmd = 'gunzip {}'.format(z)\n",
    "    subprocess.Popen(cmd, shell=True,executable='/bin/bash')\n",
    "    \n"
   ]
  },
  {
   "cell_type": "code",
   "execution_count": 11,
   "metadata": {},
   "outputs": [],
   "source": [
    "grismnumber = 1\n",
    "\n",
    "stddir = '../data/grism{}/STD/*.fits.Z'.format(grismnumber)\n",
    "listaZstd = glob.glob(stddir)\n",
    "\n",
    "\n",
    "for z in listaZstd:\n",
    "    cmd = 'gunzip {}'.format(z)\n",
    "    subprocess.Popen(cmd, shell=True,executable='/bin/bash')"
   ]
  },
  {
   "cell_type": "code",
   "execution_count": null,
   "metadata": {},
   "outputs": [],
   "source": []
  }
 ],
 "metadata": {
  "kernelspec": {
   "display_name": "Python 3",
   "language": "python",
   "name": "python3"
  },
  "language_info": {
   "codemirror_mode": {
    "name": "ipython",
    "version": 3
   },
   "file_extension": ".py",
   "mimetype": "text/x-python",
   "name": "python",
   "nbconvert_exporter": "python",
   "pygments_lexer": "ipython3",
   "version": "3.6.3"
  }
 },
 "nbformat": 4,
 "nbformat_minor": 2
}
