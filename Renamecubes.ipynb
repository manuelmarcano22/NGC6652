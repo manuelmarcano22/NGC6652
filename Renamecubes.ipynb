{
 "cells": [
  {
   "cell_type": "code",
   "execution_count": 59,
   "metadata": {},
   "outputs": [],
   "source": [
    "import os, sys\n",
    "from fnmatch import fnmatch"
   ]
  },
  {
   "cell_type": "code",
   "execution_count": 69,
   "metadata": {},
   "outputs": [
    {
     "name": "stdout",
     "output_type": "stream",
     "text": [
      "A1-2003-06-02T03:08\n",
      "A1-2003-06-02T03:22\n",
      "A3-2003-06-04T03:46\n",
      "A3-2003-06-04T04:00\n",
      "A3-2003-06-04T04:15\n",
      "A2-2003-06-03T08:40\n",
      "B2-2003-06-22T03:35\n",
      "B2-2003-06-22T03:13\n",
      "B5-2003-06-24T05:47:09\n",
      "B5-2003-06-24T06:08:54\n",
      "B4-2003-06-24T04:24:10\n",
      "B4-2003-06-24T04:55:50\n"
     ]
    }
   ],
   "source": [
    "for r,d,f in os.walk('.'):\n",
    "    if 'NGC6652' in r:\n",
    "        for file in f:\n",
    "            if fnmatch(file,'ifu_science_cube_wcs*'):\n",
    "                #print(r+'/'+file)\n",
    "                namenew1 = r.split('/')[3]\n",
    "                nameob = r.split('/')[2].split('52')[1]\n",
    "                namenew = nameob+'-'+namenew1\n",
    "                print(namenew)\n",
    "                os.system('cp {} {}'.format(r+'/'+file,'./Cubes/'+namenew+'.fits'))\n",
    "                #os.copy(fil)\n",
    "                #print(r.split('/')[3],file)"
   ]
  },
  {
   "cell_type": "markdown",
   "metadata": {},
   "source": [
    "# Manually shirt them"
   ]
  },
  {
   "cell_type": "code",
   "execution_count": 106,
   "metadata": {},
   "outputs": [],
   "source": [
    "def changewcsshift(original,destination,rashift,decshift):\n",
    "    originalcube = original\n",
    "    newcube = destination\n",
    "    \n",
    "    copyfile = 'cp {} {}'.format(originalcube,newcube)\n",
    "    os.system(copyfile)\n",
    "    fits.info(newcube)\n",
    "    oricube = fits.open(originalcube)\n",
    "    oricubehearder = oricube[0].header\n",
    "    ifura = oricubehearder['HIERARCH ESO INS IFU RA']\n",
    "    ifudec = oricubehearder['HIERARCH ESO INS IFU DEC']\n",
    "    \n",
    "    \n",
    "    tdec = Angle(ifudec,u.degree)\n",
    "    tra = Angle(ifura,u.degree)\n",
    "    \n",
    "    decft = Angle(decshift,u.arcsec)\n",
    "    raft = Angle(rashift,u.arcsec)\n",
    "    \n",
    "    newdec = float(tdec.degree+decft.degree)\n",
    "    newra = float(tra.degree+raft.degree)\n",
    "    \n",
    "    \n",
    "    fits.setval(newcube, 'CRVAL1', value=newra)\n",
    "    fits.setval(newcube, 'CRVAL2', value=newdec)"
   ]
  },
  {
   "cell_type": "code",
   "execution_count": 107,
   "metadata": {},
   "outputs": [
    {
     "name": "stdout",
     "output_type": "stream",
     "text": [
      "Filename: pruebaB4-2003-06-24T04:55:50.fits\n",
      "No.    Name      Ver    Type      Cards   Dimensions   Format\n",
      "  0  PRIMARY       1 PrimaryHDU     272   (40, 40, 4259)   float32   \n"
     ]
    }
   ],
   "source": [
    "fitstochange = 'B4-2003-06-24T04:55:50'\n",
    "changewcsshift(fitstochange+'.fits','prueba'+fitstochange+'.fits',rashift=3.059,decshift=-1.7)"
   ]
  },
  {
   "cell_type": "code",
   "execution_count": 109,
   "metadata": {},
   "outputs": [
    {
     "name": "stdout",
     "output_type": "stream",
     "text": [
      "Filename: pruebaA1-2003-06-02T03:08.fits\n",
      "No.    Name      Ver    Type      Cards   Dimensions   Format\n",
      "  0  PRIMARY       1 PrimaryHDU     294   (40, 40, 4259)   float32   \n"
     ]
    }
   ],
   "source": [
    "fitstochange = 'A1-2003-06-02T03:08'\n",
    "changewcsshift(fitstochange+'.fits','prueba'+fitstochange+'.fits',rashift=-3.233,decshift=-1.579)"
   ]
  },
  {
   "cell_type": "code",
   "execution_count": 111,
   "metadata": {},
   "outputs": [
    {
     "name": "stdout",
     "output_type": "stream",
     "text": [
      "Filename: pruebaA1-2003-06-02T03:22.fits\n",
      "No.    Name      Ver    Type      Cards   Dimensions   Format\n",
      "  0  PRIMARY       1 PrimaryHDU     294   (40, 40, 4259)   float32   \n"
     ]
    }
   ],
   "source": [
    "fitstochange = 'A1-2003-06-02T03:22'\n",
    "changewcsshift(fitstochange+'.fits','prueba'+fitstochange+'.fits',rashift=-3.4,decshift=-1.752)"
   ]
  },
  {
   "cell_type": "code",
   "execution_count": 112,
   "metadata": {},
   "outputs": [
    {
     "name": "stdout",
     "output_type": "stream",
     "text": [
      "Filename: pruebaA2-2003-06-03T08:40.fits\n",
      "No.    Name      Ver    Type      Cards   Dimensions   Format\n",
      "  0  PRIMARY       1 PrimaryHDU     272   (40, 40, 4259)   float32   \n"
     ]
    }
   ],
   "source": [
    "fitstochange = 'A2-2003-06-03T08:40'\n",
    "changewcsshift(fitstochange+'.fits','prueba'+fitstochange+'.fits',rashift=-1.9,decshift=-0.439)"
   ]
  },
  {
   "cell_type": "code",
   "execution_count": 113,
   "metadata": {},
   "outputs": [
    {
     "name": "stdout",
     "output_type": "stream",
     "text": [
      "Filename: pruebaA3-2003-06-04T03:46.fits\n",
      "No.    Name      Ver    Type      Cards   Dimensions   Format\n",
      "  0  PRIMARY       1 PrimaryHDU     272   (40, 40, 4259)   float32   \n"
     ]
    }
   ],
   "source": [
    "fitstochange = 'A3-2003-06-04T03:46'\n",
    "changewcsshift(fitstochange+'.fits','prueba'+fitstochange+'.fits',rashift=-1.615,decshift=-0.277)"
   ]
  },
  {
   "cell_type": "code",
   "execution_count": 114,
   "metadata": {},
   "outputs": [
    {
     "name": "stdout",
     "output_type": "stream",
     "text": [
      "Filename: pruebaA3-2003-06-04T04:00.fits\n",
      "No.    Name      Ver    Type      Cards   Dimensions   Format\n",
      "  0  PRIMARY       1 PrimaryHDU     272   (40, 40, 4259)   float32   \n"
     ]
    }
   ],
   "source": [
    "fitstochange = 'A3-2003-06-04T04:00'\n",
    "changewcsshift(fitstochange+'.fits','prueba'+fitstochange+'.fits',rashift=-1.681,decshift=-0.225)"
   ]
  },
  {
   "cell_type": "code",
   "execution_count": 115,
   "metadata": {},
   "outputs": [
    {
     "name": "stdout",
     "output_type": "stream",
     "text": [
      "Filename: pruebaA3-2003-06-04T04:15.fits\n",
      "No.    Name      Ver    Type      Cards   Dimensions   Format\n",
      "  0  PRIMARY       1 PrimaryHDU     272   (40, 40, 4259)   float32   \n"
     ]
    }
   ],
   "source": [
    "fitstochange = 'A3-2003-06-04T04:15'\n",
    "changewcsshift(fitstochange+'.fits','prueba'+fitstochange+'.fits',rashift=-1.516,decshift=-0.203)"
   ]
  },
  {
   "cell_type": "code",
   "execution_count": 116,
   "metadata": {},
   "outputs": [
    {
     "name": "stdout",
     "output_type": "stream",
     "text": [
      "Filename: pruebaB2-2003-06-22T03:13.fits\n",
      "No.    Name      Ver    Type      Cards   Dimensions   Format\n",
      "  0  PRIMARY       1 PrimaryHDU     269   (40, 40, 4259)   float32   \n"
     ]
    }
   ],
   "source": [
    "fitstochange = 'B2-2003-06-22T03:13'\n",
    "changewcsshift(fitstochange+'.fits','prueba'+fitstochange+'.fits',rashift=-2.782,decshift=-1.243)"
   ]
  },
  {
   "cell_type": "code",
   "execution_count": 117,
   "metadata": {},
   "outputs": [
    {
     "name": "stdout",
     "output_type": "stream",
     "text": [
      "Filename: pruebaB2-2003-06-22T03:35.fits\n",
      "No.    Name      Ver    Type      Cards   Dimensions   Format\n",
      "  0  PRIMARY       1 PrimaryHDU     269   (40, 40, 4259)   float32   \n"
     ]
    }
   ],
   "source": [
    "fitstochange = 'B2-2003-06-22T03:35'\n",
    "changewcsshift(fitstochange+'.fits','prueba'+fitstochange+'.fits',rashift=-2.8,decshift=-1.3)"
   ]
  },
  {
   "cell_type": "code",
   "execution_count": 118,
   "metadata": {},
   "outputs": [
    {
     "name": "stdout",
     "output_type": "stream",
     "text": [
      "Filename: pruebaB4-2003-06-24T04:24:10.fits\n",
      "No.    Name      Ver    Type      Cards   Dimensions   Format\n",
      "  0  PRIMARY       1 PrimaryHDU     272   (40, 40, 4259)   float32   \n"
     ]
    }
   ],
   "source": [
    "fitstochange = 'B4-2003-06-24T04:24:10'\n",
    "changewcsshift(fitstochange+'.fits','prueba'+fitstochange+'.fits',rashift=-4.3,decshift=-2.084)"
   ]
  },
  {
   "cell_type": "code",
   "execution_count": 120,
   "metadata": {},
   "outputs": [
    {
     "name": "stdout",
     "output_type": "stream",
     "text": [
      "Filename: pruebaB4-2003-06-24T04:55:50.fits\n",
      "No.    Name      Ver    Type      Cards   Dimensions   Format\n",
      "  0  PRIMARY       1 PrimaryHDU     272   (40, 40, 4259)   float32   \n"
     ]
    }
   ],
   "source": [
    "fitstochange = 'B4-2003-06-24T04:55:50'\n",
    "changewcsshift(fitstochange+'.fits','prueba'+fitstochange+'.fits',rashift=-4.3,decshift=-2.084)"
   ]
  },
  {
   "cell_type": "code",
   "execution_count": 121,
   "metadata": {},
   "outputs": [
    {
     "name": "stdout",
     "output_type": "stream",
     "text": [
      "Filename: pruebaB5-2003-06-24T05:47:09.fits\n",
      "No.    Name      Ver    Type      Cards   Dimensions   Format\n",
      "  0  PRIMARY       1 PrimaryHDU     272   (40, 40, 4259)   float32   \n"
     ]
    }
   ],
   "source": [
    "fitstochange = 'B5-2003-06-24T05:47:09'\n",
    "changewcsshift(fitstochange+'.fits','prueba'+fitstochange+'.fits',rashift=-3.067,decshift=-1.930)"
   ]
  },
  {
   "cell_type": "code",
   "execution_count": 122,
   "metadata": {},
   "outputs": [
    {
     "name": "stdout",
     "output_type": "stream",
     "text": [
      "Filename: pruebaB5-2003-06-24T06:08:54.fits\n",
      "No.    Name      Ver    Type      Cards   Dimensions   Format\n",
      "  0  PRIMARY       1 PrimaryHDU     272   (40, 40, 4259)   float32   \n"
     ]
    }
   ],
   "source": [
    "fitstochange = 'B5-2003-06-24T06:08:54'\n",
    "changewcsshift(fitstochange+'.fits','prueba'+fitstochange+'.fits',rashift=-3.5,decshift=-1.930)"
   ]
  },
  {
   "cell_type": "code",
   "execution_count": null,
   "metadata": {},
   "outputs": [],
   "source": []
  }
 ],
 "metadata": {
  "kernelspec": {
   "display_name": "Python 3",
   "language": "python",
   "name": "python3"
  },
  "language_info": {
   "codemirror_mode": {
    "name": "ipython",
    "version": 3
   },
   "file_extension": ".py",
   "mimetype": "text/x-python",
   "name": "python",
   "nbconvert_exporter": "python",
   "pygments_lexer": "ipython3",
   "version": "3.6.5"
  }
 },
 "nbformat": 4,
 "nbformat_minor": 2
}
